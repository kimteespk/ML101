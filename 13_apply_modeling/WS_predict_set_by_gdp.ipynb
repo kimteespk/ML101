{
 "cells": [
  {
   "cell_type": "markdown",
   "metadata": {},
   "source": [
    "ดึงข้อมูล GPD, EPSย้อนหลัง เพื่อมา Predict set  \n",
    "เอา gdp มาพยากรณ์ eps ด้วย regression  \n",
    "สำเร็จแล้ว แล้วเอา forecast GDP มาเพื่อหา EPS  (เหมือน GDP เป็นยอดขายของประเทศ ดังนั้นก็เหมือนเอายอดขายมาพยากรณ์รายได้)  \n",
    "หา forward pe เพื่อมาเป็นตัวตั้งหารกับ predicted EPS ก็จะได้ราคา:index  (รู้รายได้แล้วก็มาหาว่า เค้าจะเทรดกันที P/E กี่เท่า)"
   ]
  },
  {
   "cell_type": "code",
   "execution_count": 430,
   "metadata": {},
   "outputs": [],
   "source": [
    "import pandas as pd\n",
    "import numpy as np\n",
    "import matplotlib.pyplot as plt\n",
    "import sklearn\n",
    "from datetime import timedelta"
   ]
  },
  {
   "cell_type": "code",
   "execution_count": 374,
   "metadata": {},
   "outputs": [],
   "source": [
    "data_set_eps = pd.read_excel('../dataset/set_eps.xlsx', index_col= 'Date', parse_dates= True)\n",
    "data_set = pd.read_excel('../dataset/set.xlsx', index_col= 'Date', parse_dates= True)\n",
    "data_gdpq = pd.read_excel('../dataset/gdpq.xlsx', index_col= 'Date', parse_dates= True)"
   ]
  },
  {
   "cell_type": "code",
   "execution_count": 375,
   "metadata": {},
   "outputs": [],
   "source": [
    "# กลับหัวท้าย data\n",
    "df_set = data_set_eps[::-1]"
   ]
  },
  {
   "cell_type": "code",
   "execution_count": 377,
   "metadata": {},
   "outputs": [],
   "source": [
    "df_set = df_set.dropna()"
   ]
  },
  {
   "cell_type": "code",
   "execution_count": 378,
   "metadata": {},
   "outputs": [],
   "source": [
    "df_gdpq = data_gdpq"
   ]
  },
  {
   "cell_type": "code",
   "execution_count": 379,
   "metadata": {},
   "outputs": [],
   "source": [
    "df = df_gdpq.join(df_set, how= 'outer')\n",
    "\n",
    "# จะเห็นวันที่ทั้งหมดที่ na เมื่อเป็น Q"
   ]
  },
  {
   "cell_type": "code",
   "execution_count": 381,
   "metadata": {},
   "outputs": [],
   "source": [
    "df[['Prior', 'Open', 'High', 'Low', 'Close', 'PE', 'EPS']] = df[['Prior', 'Open', 'High', 'Low', 'Close', 'PE', 'EPS']].fillna(method= 'ffill')"
   ]
  },
  {
   "cell_type": "code",
   "execution_count": 384,
   "metadata": {},
   "outputs": [],
   "source": [
    "df = df.resample('Q', convention= 'end').asfreq()"
   ]
  },
  {
   "cell_type": "code",
   "execution_count": 405,
   "metadata": {},
   "outputs": [],
   "source": [
    "df2 = df[['Close', 'PE', 'GDP', 'EPS']]"
   ]
  },
  {
   "cell_type": "code",
   "execution_count": 406,
   "metadata": {},
   "outputs": [
    {
     "name": "stderr",
     "output_type": "stream",
     "text": [
      "<ipython-input-406-074de1db3ef2>:1: SettingWithCopyWarning: \n",
      "A value is trying to be set on a copy of a slice from a DataFrame.\n",
      "Try using .loc[row_indexer,col_indexer] = value instead\n",
      "\n",
      "See the caveats in the documentation: https://pandas.pydata.org/pandas-docs/stable/user_guide/indexing.html#returning-a-view-versus-a-copy\n",
      "  df2['EPS_pct_change'] = df2['EPS'].pct_change()\n",
      "<ipython-input-406-074de1db3ef2>:2: SettingWithCopyWarning: \n",
      "A value is trying to be set on a copy of a slice from a DataFrame.\n",
      "Try using .loc[row_indexer,col_indexer] = value instead\n",
      "\n",
      "See the caveats in the documentation: https://pandas.pydata.org/pandas-docs/stable/user_guide/indexing.html#returning-a-view-versus-a-copy\n",
      "  df2['EPS_pct_change'] = df2['EPS_pct_change'].shift(-1)\n",
      "<ipython-input-406-074de1db3ef2>:3: SettingWithCopyWarning: \n",
      "A value is trying to be set on a copy of a slice from a DataFrame.\n",
      "Try using .loc[row_indexer,col_indexer] = value instead\n",
      "\n",
      "See the caveats in the documentation: https://pandas.pydata.org/pandas-docs/stable/user_guide/indexing.html#returning-a-view-versus-a-copy\n",
      "  df2['GDP_pct_change'] = df2['GDP'].pct_change()\n",
      "<ipython-input-406-074de1db3ef2>:4: SettingWithCopyWarning: \n",
      "A value is trying to be set on a copy of a slice from a DataFrame.\n",
      "Try using .loc[row_indexer,col_indexer] = value instead\n",
      "\n",
      "See the caveats in the documentation: https://pandas.pydata.org/pandas-docs/stable/user_guide/indexing.html#returning-a-view-versus-a-copy\n",
      "  df2['GDP_pct_change'] = df2['GDP_pct_change'].shift(-1)\n",
      "<ipython-input-406-074de1db3ef2>:5: SettingWithCopyWarning: \n",
      "A value is trying to be set on a copy of a slice from a DataFrame.\n",
      "Try using .loc[row_indexer,col_indexer] = value instead\n",
      "\n",
      "See the caveats in the documentation: https://pandas.pydata.org/pandas-docs/stable/user_guide/indexing.html#returning-a-view-versus-a-copy\n",
      "  df2['Close_pct_change'] = df2['Close'].pct_change()\n",
      "<ipython-input-406-074de1db3ef2>:6: SettingWithCopyWarning: \n",
      "A value is trying to be set on a copy of a slice from a DataFrame.\n",
      "Try using .loc[row_indexer,col_indexer] = value instead\n",
      "\n",
      "See the caveats in the documentation: https://pandas.pydata.org/pandas-docs/stable/user_guide/indexing.html#returning-a-view-versus-a-copy\n",
      "  df2['Close_pct_change'] = df2['Close_pct_change'].shift(-1)\n"
     ]
    }
   ],
   "source": [
    "df2['EPS_pct_change'] = df2['EPS'].pct_change()\n",
    "df2['EPS_pct_change'] = df2['EPS_pct_change'].shift(-1)\n",
    "df2['GDP_pct_change'] = df2['GDP'].pct_change() \n",
    "df2['GDP_pct_change'] = df2['GDP_pct_change'].shift(-1) # เดี๋ยวลองแบบไม่ชิฟ\n",
    "df2['Close_pct_change'] = df2['Close'].pct_change()\n",
    "df2['Close_pct_change'] = df2['Close_pct_change'].shift(-1)"
   ]
  },
  {
   "cell_type": "code",
   "execution_count": 409,
   "metadata": {},
   "outputs": [
    {
     "data": {
      "text/plain": [
       "Index(['Close', 'PE', 'GDP', 'EPS', 'EPS_pct_change', 'GDP_pct_change',\n",
       "       'Close_pct_change'],\n",
       "      dtype='object')"
      ]
     },
     "execution_count": 409,
     "metadata": {},
     "output_type": "execute_result"
    }
   ],
   "source": [
    "df2.columns"
   ]
  },
  {
   "cell_type": "code",
   "execution_count": 408,
   "metadata": {},
   "outputs": [],
   "source": [
    "def pe(pe): # ชื่อ func pe และ args ใช้เป็น pe ที่ใส่เข้าไป\n",
    "    if pe <= 5:\n",
    "        return 1\n",
    "    elif (pe > 5) & (pe <= 10):\n",
    "        return 2\n",
    "    elif (pe > 10) & (pe <= 20):\n",
    "        return 3\n",
    "    elif (pe > 20) & (pe <= 35):\n",
    "        return 4\n",
    "    elif (pe > 35) & (pe <= 50):\n",
    "        return 5    \n",
    "    else:\n",
    "        return 6\n",
    "### แก้ ค่า label pe\n",
    "### ลอง end gdp ว่าบวก=1, -= 0"
   ]
  },
  {
   "cell_type": "code",
   "execution_count": 410,
   "metadata": {},
   "outputs": [],
   "source": [
    "df2['enc_pe'] = df2['PE'].apply(pe)"
   ]
  },
  {
   "cell_type": "code",
   "execution_count": 412,
   "metadata": {},
   "outputs": [
    {
     "data": {
      "text/plain": [
       "Index(['Close', 'PE', 'GDP', 'EPS', 'EPS_pct_change', 'GDP_pct_change',\n",
       "       'Close_pct_change', 'enc_pe'],\n",
       "      dtype='object')"
      ]
     },
     "execution_count": 412,
     "metadata": {},
     "output_type": "execute_result"
    }
   ],
   "source": [
    "df2.columns"
   ]
  },
  {
   "cell_type": "code",
   "execution_count": 414,
   "metadata": {},
   "outputs": [],
   "source": [
    "df2 = df2[['Close', 'PE', 'GDP', 'EPS_pct_change', 'GDP_pct_change', 'Close_pct_change', 'enc_pe', 'EPS']]"
   ]
  },
  {
   "cell_type": "code",
   "execution_count": 416,
   "metadata": {},
   "outputs": [],
   "source": [
    "df2 = df2.dropna()"
   ]
  },
  {
   "cell_type": "code",
   "execution_count": 417,
   "metadata": {},
   "outputs": [
    {
     "name": "stdout",
     "output_type": "stream",
     "text": [
      "<class 'pandas.core.frame.DataFrame'>\n",
      "DatetimeIndex: 22 entries, 2016-03-31 to 2021-06-30\n",
      "Freq: Q-DEC\n",
      "Data columns (total 8 columns):\n",
      " #   Column            Non-Null Count  Dtype  \n",
      "---  ------            --------------  -----  \n",
      " 0   Close             22 non-null     float64\n",
      " 1   PE                22 non-null     float64\n",
      " 2   GDP               22 non-null     float64\n",
      " 3   EPS_pct_change    22 non-null     float64\n",
      " 4   GDP_pct_change    22 non-null     float64\n",
      " 5   Close_pct_change  22 non-null     float64\n",
      " 6   enc_pe            22 non-null     int64  \n",
      " 7   EPS               22 non-null     float64\n",
      "dtypes: float64(7), int64(1)\n",
      "memory usage: 1.5 KB\n"
     ]
    }
   ],
   "source": [
    "df2.info()"
   ]
  },
  {
   "cell_type": "code",
   "execution_count": 418,
   "metadata": {},
   "outputs": [],
   "source": [
    "X = df2.iloc[:18, :-1]\n",
    "y = df2.iloc[:18, -1:]"
   ]
  },
  {
   "cell_type": "code",
   "execution_count": 421,
   "metadata": {},
   "outputs": [],
   "source": [
    "from sklearn.linear_model import LinearRegression\n",
    "from sklearn.model_selection import cross_val_score, train_test_split\n",
    "from sklearn import metrics"
   ]
  },
  {
   "cell_type": "code",
   "execution_count": 422,
   "metadata": {},
   "outputs": [],
   "source": [
    "X_train, X_test, y_train, y_test = train_test_split(X, y, test_size=0.2, random_state=12)"
   ]
  },
  {
   "cell_type": "code",
   "execution_count": 425,
   "metadata": {},
   "outputs": [
    {
     "data": {
      "text/plain": [
       "array([ 0.55483317, -1.52899725, -0.57088927, -0.37690872])"
      ]
     },
     "execution_count": 425,
     "metadata": {},
     "output_type": "execute_result"
    }
   ],
   "source": [
    "model = LinearRegression()\n",
    "scores = cross_val_score(model, X, y, scoring='r2', cv=4)\n",
    "scores"
   ]
  },
  {
   "cell_type": "code",
   "execution_count": 426,
   "metadata": {},
   "outputs": [],
   "source": [
    "model = LinearRegression()\n",
    "reg = model.fit(X_train, y_train)"
   ]
  },
  {
   "cell_type": "code",
   "execution_count": 427,
   "metadata": {},
   "outputs": [],
   "source": [
    "y_pred = reg.predict(X_test)"
   ]
  },
  {
   "cell_type": "code",
   "execution_count": 428,
   "metadata": {},
   "outputs": [
    {
     "data": {
      "text/plain": [
       "0.4839546077421836"
      ]
     },
     "execution_count": 428,
     "metadata": {},
     "output_type": "execute_result"
    }
   ],
   "source": [
    "reg.score(X_test, y_test)"
   ]
  },
  {
   "cell_type": "code",
   "execution_count": 431,
   "metadata": {},
   "outputs": [
    {
     "name": "stdout",
     "output_type": "stream",
     "text": [
      "MAE =  7.57449520736972\n",
      "MSE =  132.39527731073335\n",
      "RMSE =  11.50631467111574\n"
     ]
    }
   ],
   "source": [
    "print(\"MAE = \",  metrics.mean_absolute_error(y_test,y_pred))\n",
    "print(\"MSE = \",  metrics.mean_squared_error(y_test,y_pred))\n",
    "print(\"RMSE = \", np.sqrt(metrics.mean_squared_error(y_test,y_pred)))"
   ]
  },
  {
   "cell_type": "code",
   "execution_count": 433,
   "metadata": {},
   "outputs": [],
   "source": [
    "live_data = reg.predict(df2.iloc[18:, :-1])"
   ]
  },
  {
   "cell_type": "code",
   "execution_count": 435,
   "metadata": {},
   "outputs": [],
   "source": [
    "test = df2.iloc[18:]"
   ]
  },
  {
   "cell_type": "code",
   "execution_count": 436,
   "metadata": {},
   "outputs": [
    {
     "name": "stderr",
     "output_type": "stream",
     "text": [
      "<ipython-input-436-28c92657f09a>:1: SettingWithCopyWarning: \n",
      "A value is trying to be set on a copy of a slice from a DataFrame.\n",
      "Try using .loc[row_indexer,col_indexer] = value instead\n",
      "\n",
      "See the caveats in the documentation: https://pandas.pydata.org/pandas-docs/stable/user_guide/indexing.html#returning-a-view-versus-a-copy\n",
      "  test['pred'] = live_data\n"
     ]
    }
   ],
   "source": [
    "test['pred'] = live_data"
   ]
  },
  {
   "cell_type": "code",
   "execution_count": 437,
   "metadata": {},
   "outputs": [
    {
     "data": {
      "image/png": "[encoded data removed]",
      "text/plain": [
       "<Figure size 640x480 with 1 Axes>"
      ]
     },
     "metadata": {},
     "output_type": "display_data"
    }
   ],
   "source": [
    "test.iloc[:, -2:].plot(kind= 'bar')\n",
    "plt.show()"
   ]
  },
  {
   "cell_type": "code",
   "execution_count": null,
   "metadata": {},
   "outputs": [],
   "source": []
  }
 ],
 "metadata": {
  "interpreter": {
   "hash": "97ae724bfa85b9b34df7982b8bb8c7216f435b92902d749e4263f71162bea840"
  },
  "kernelspec": {
   "display_name": "Python 3.8.10 64-bit ('base': conda)",
   "language": "python",
   "name": "python3"
  },
  "language_info": {
   "codemirror_mode": {
    "name": "ipython",
    "version": 3
   },
   "file_extension": ".py",
   "mimetype": "text/x-python",
   "name": "python",
   "nbconvert_exporter": "python",
   "pygments_lexer": "ipython3",
   "version": "3.8.10"
  },
  "orig_nbformat": 4
 },
 "nbformat": 4,
 "nbformat_minor": 2
}
