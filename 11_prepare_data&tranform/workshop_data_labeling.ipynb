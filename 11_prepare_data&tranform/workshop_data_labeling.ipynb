{
 "cells": [
  {
   "cell_type": "code",
   "execution_count": 2,
   "metadata": {},
   "outputs": [],
   "source": [
    "import pandas as pd\n",
    "import matplotlib.pyplot as plt\n",
    "from sklearn.preprocessing import LabelEncoder, OneHotEncoder"
   ]
  },
  {
   "cell_type": "code",
   "execution_count": 3,
   "metadata": {},
   "outputs": [],
   "source": [
    "data = pd.read_csv('E:/Conding/Investic/ML101/11_prepare_data&tranform/workshopdata-labeling.csv', index_col= 'Date')"
   ]
  },
  {
   "cell_type": "code",
   "execution_count": 81,
   "metadata": {},
   "outputs": [
    {
     "name": "stdout",
     "output_type": "stream",
     "text": [
      "<class 'pandas.core.frame.DataFrame'>\n",
      "Index: 224 entries, 21/10/2021 to 21/10/2021\n",
      "Data columns (total 11 columns):\n",
      " #   Column              Non-Null Count  Dtype  \n",
      "---  ------              --------------  -----  \n",
      " 0   Market              224 non-null    object \n",
      " 1   Symbol              224 non-null    object \n",
      " 2   Market Cap          224 non-null    float64\n",
      " 3   PE                  193 non-null    float64\n",
      " 4   PEG                 185 non-null    float64\n",
      " 5   PBV                 224 non-null    float64\n",
      " 6   BVPS                224 non-null    float64\n",
      " 7   Dividend Yield      179 non-null    float64\n",
      " 8   12M Dividend Yield  180 non-null    float64\n",
      " 9   Volume Turnover     223 non-null    float64\n",
      " 10  Market Cap_enc      224 non-null    object \n",
      "dtypes: float64(8), object(3)\n",
      "memory usage: 29.1+ KB\n"
     ]
    }
   ],
   "source": [
    "data.info()"
   ]
  },
  {
   "cell_type": "code",
   "execution_count": 59,
   "metadata": {},
   "outputs": [],
   "source": [
    "# remove , to get ready for convert to float\n",
    "data['Market Cap'] = data['Market Cap'].replace('[\\,]', '', regex=True)"
   ]
  },
  {
   "cell_type": "code",
   "execution_count": 61,
   "metadata": {},
   "outputs": [],
   "source": [
    "# convert to float\n",
    "data['Market Cap'] = data['Market Cap'].astype(float)"
   ]
  },
  {
   "cell_type": "code",
   "execution_count": 85,
   "metadata": {},
   "outputs": [],
   "source": [
    "data['Market Cap_enc'] = data['Market Cap'].apply(lambda x: 'Big' if x >= 100000000000 else 'Mid')\n",
    "# no Small cap in dataset"
   ]
  },
  {
   "cell_type": "code",
   "execution_count": 72,
   "metadata": {},
   "outputs": [
    {
     "data": {
      "text/html": [
       "<div>\n",
       "<style scoped>\n",
       "    .dataframe tbody tr th:only-of-type {\n",
       "        vertical-align: middle;\n",
       "    }\n",
       "\n",
       "    .dataframe tbody tr th {\n",
       "        vertical-align: top;\n",
       "    }\n",
       "\n",
       "    .dataframe thead th {\n",
       "        text-align: right;\n",
       "    }\n",
       "</style>\n",
       "<table border=\"1\" class=\"dataframe\">\n",
       "  <thead>\n",
       "    <tr style=\"text-align: right;\">\n",
       "      <th></th>\n",
       "      <th>Market</th>\n",
       "      <th>Symbol</th>\n",
       "      <th>Market Cap</th>\n",
       "      <th>PE</th>\n",
       "      <th>PEG</th>\n",
       "      <th>PBV</th>\n",
       "      <th>BVPS</th>\n",
       "      <th>Dividend Yield</th>\n",
       "      <th>12M Dividend Yield</th>\n",
       "      <th>Volume Turnover</th>\n",
       "      <th>Market Cap_enc</th>\n",
       "    </tr>\n",
       "    <tr>\n",
       "      <th>Date</th>\n",
       "      <th></th>\n",
       "      <th></th>\n",
       "      <th></th>\n",
       "      <th></th>\n",
       "      <th></th>\n",
       "      <th></th>\n",
       "      <th></th>\n",
       "      <th></th>\n",
       "      <th></th>\n",
       "      <th></th>\n",
       "      <th></th>\n",
       "    </tr>\n",
       "  </thead>\n",
       "  <tbody>\n",
       "    <tr>\n",
       "      <th>21/10/2021</th>\n",
       "      <td>SET</td>\n",
       "      <td>RJH</td>\n",
       "      <td>1.050000e+10</td>\n",
       "      <td>20.62</td>\n",
       "      <td>0.35</td>\n",
       "      <td>6.79</td>\n",
       "      <td>5.15</td>\n",
       "      <td>2.86</td>\n",
       "      <td>3.43</td>\n",
       "      <td>0.55</td>\n",
       "      <td>Mid</td>\n",
       "    </tr>\n",
       "    <tr>\n",
       "      <th>21/10/2021</th>\n",
       "      <td>SET</td>\n",
       "      <td>WORK</td>\n",
       "      <td>1.042083e+10</td>\n",
       "      <td>27.22</td>\n",
       "      <td>0.05</td>\n",
       "      <td>2.24</td>\n",
       "      <td>10.54</td>\n",
       "      <td>1.19</td>\n",
       "      <td>2.03</td>\n",
       "      <td>1.00</td>\n",
       "      <td>Mid</td>\n",
       "    </tr>\n",
       "    <tr>\n",
       "      <th>21/10/2021</th>\n",
       "      <td>SET</td>\n",
       "      <td>PTT</td>\n",
       "      <td>1.142520e+12</td>\n",
       "      <td>13.53</td>\n",
       "      <td>0.18</td>\n",
       "      <td>1.18</td>\n",
       "      <td>33.94</td>\n",
       "      <td>2.50</td>\n",
       "      <td>5.05</td>\n",
       "      <td>0.16</td>\n",
       "      <td>Mid</td>\n",
       "    </tr>\n",
       "  </tbody>\n",
       "</table>\n",
       "</div>"
      ],
      "text/plain": [
       "           Market Symbol    Market Cap     PE   PEG   PBV   BVPS  \\\n",
       "Date                                                               \n",
       "21/10/2021    SET    RJH  1.050000e+10  20.62  0.35  6.79   5.15   \n",
       "21/10/2021    SET   WORK  1.042083e+10  27.22  0.05  2.24  10.54   \n",
       "21/10/2021    SET    PTT  1.142520e+12  13.53  0.18  1.18  33.94   \n",
       "\n",
       "            Dividend Yield  12M Dividend Yield  Volume Turnover Market Cap_enc  \n",
       "Date                                                                            \n",
       "21/10/2021            2.86                3.43             0.55            Mid  \n",
       "21/10/2021            1.19                2.03             1.00            Mid  \n",
       "21/10/2021            2.50                5.05             0.16            Mid  "
      ]
     },
     "execution_count": 72,
     "metadata": {},
     "output_type": "execute_result"
    }
   ],
   "source": [
    "data.loc[data['Market Cap_enc'] == 'Mid']"
   ]
  },
  {
   "cell_type": "code",
   "execution_count": 90,
   "metadata": {},
   "outputs": [
    {
     "data": {
      "text/html": [
       "<div>\n",
       "<style scoped>\n",
       "    .dataframe tbody tr th:only-of-type {\n",
       "        vertical-align: middle;\n",
       "    }\n",
       "\n",
       "    .dataframe tbody tr th {\n",
       "        vertical-align: top;\n",
       "    }\n",
       "\n",
       "    .dataframe thead th {\n",
       "        text-align: right;\n",
       "    }\n",
       "</style>\n",
       "<table border=\"1\" class=\"dataframe\">\n",
       "  <thead>\n",
       "    <tr style=\"text-align: right;\">\n",
       "      <th></th>\n",
       "      <th>Market</th>\n",
       "      <th>Symbol</th>\n",
       "      <th>Market Cap</th>\n",
       "      <th>PE</th>\n",
       "      <th>PEG</th>\n",
       "      <th>PBV</th>\n",
       "      <th>BVPS</th>\n",
       "      <th>Dividend Yield</th>\n",
       "      <th>12M Dividend Yield</th>\n",
       "      <th>Volume Turnover</th>\n",
       "      <th>Market Cap_enc</th>\n",
       "    </tr>\n",
       "    <tr>\n",
       "      <th>Date</th>\n",
       "      <th></th>\n",
       "      <th></th>\n",
       "      <th></th>\n",
       "      <th></th>\n",
       "      <th></th>\n",
       "      <th></th>\n",
       "      <th></th>\n",
       "      <th></th>\n",
       "      <th></th>\n",
       "      <th></th>\n",
       "      <th></th>\n",
       "    </tr>\n",
       "  </thead>\n",
       "  <tbody>\n",
       "  </tbody>\n",
       "</table>\n",
       "</div>"
      ],
      "text/plain": [
       "Empty DataFrame\n",
       "Columns: [Market, Symbol, Market Cap, PE, PEG, PBV, BVPS, Dividend Yield, 12M Dividend Yield, Volume Turnover, Market Cap_enc]\n",
       "Index: []"
      ]
     },
     "execution_count": 90,
     "metadata": {},
     "output_type": "execute_result"
    }
   ],
   "source": [
    "data.loc[data['Market Cap'] < 2000000000]"
   ]
  },
  {
   "cell_type": "code",
   "execution_count": null,
   "metadata": {},
   "outputs": [],
   "source": [
    "## แยกขนาดแล้วว่าอันไหน big mid รอเอาไปทำเป็น label"
   ]
  }
 ],
 "metadata": {
  "interpreter": {
   "hash": "97ae724bfa85b9b34df7982b8bb8c7216f435b92902d749e4263f71162bea840"
  },
  "kernelspec": {
   "display_name": "Python 3.8.10 64-bit ('base': conda)",
   "name": "python3"
  },
  "language_info": {
   "codemirror_mode": {
    "name": "ipython",
    "version": 3
   },
   "file_extension": ".py",
   "mimetype": "text/x-python",
   "name": "python",
   "nbconvert_exporter": "python",
   "pygments_lexer": "ipython3",
   "version": "3.8.10"
  },
  "orig_nbformat": 4
 },
 "nbformat": 4,
 "nbformat_minor": 2
}
