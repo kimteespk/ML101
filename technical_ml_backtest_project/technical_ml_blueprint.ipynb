{
 "cells": [
  {
   "cell_type": "code",
   "execution_count": 2,
   "metadata": {},
   "outputs": [],
   "source": [
    "# edit to be a blueprint\n",
    "# change to predicting y ml only signal day"
   ]
  },
  {
   "cell_type": "code",
   "execution_count": 118,
   "metadata": {},
   "outputs": [],
   "source": [
    "import pandas as pd\n",
    "import numpy as np \n",
    "import matplotlib.pyplot as plt\n",
    "import pandas_ta as ta\n",
    "import vectorbt as vbt\n",
    "from tvDatafeed import TvDatafeed, Interval\n",
    "import config_api\n",
    "import mplfinance as mpf"
   ]
  },
  {
   "cell_type": "code",
   "execution_count": 119,
   "metadata": {},
   "outputs": [],
   "source": [
    "user = config_api.tradingview_user\n",
    "password = config_api.tradingview_password"
   ]
  },
  {
   "cell_type": "code",
   "execution_count": 120,
   "metadata": {},
   "outputs": [],
   "source": [
    "tv = TvDatafeed(user, password, chromedriver_path= None)"
   ]
  },
  {
   "cell_type": "code",
   "execution_count": 121,
   "metadata": {},
   "outputs": [],
   "source": [
    "data = tv.get_hist(symbol= 'ADAUSDT', exchange= 'BINANCE', interval= Interval.in_daily, n_bars= 5000)"
   ]
  },
  {
   "cell_type": "code",
   "execution_count": 122,
   "metadata": {},
   "outputs": [],
   "source": [
    "data = tv.get_hist(symbol= 'BTCUSDT', exchange= 'BINANCE', interval= Interval.in_daily, n_bars= 5000)"
   ]
  },
  {
   "cell_type": "code",
   "execution_count": 123,
   "metadata": {},
   "outputs": [],
   "source": [
    "data = tv.get_hist(symbol= 'XRPUSDT', exchange= 'BINANCE', interval= Interval.in_daily, n_bars= 5000)\n",
    "#df = ax"
   ]
  },
  {
   "cell_type": "code",
   "execution_count": 124,
   "metadata": {},
   "outputs": [],
   "source": [
    "data = tv.get_hist(symbol= 'ETHUSDT', exchange= 'BINANCE', interval= Interval.in_daily, n_bars= 5000)"
   ]
  },
  {
   "cell_type": "code",
   "execution_count": 184,
   "metadata": {},
   "outputs": [],
   "source": [
    "df = data.copy()"
   ]
  },
  {
   "cell_type": "code",
   "execution_count": 185,
   "metadata": {},
   "outputs": [],
   "source": [
    "rsi = df.ta.rsi(length= 14, append= True).name\n",
    "ma_obv = df.ta.ma_obv(fast= 5, slow= 35, ma_type= 'ema', append= True).name\n",
    "ma_cross = df.ta.ma_cross(fast= 5, slow= 15, ma_type= 'ema', append= True).name\n",
    "ema = df.ta.ema(length= 100, append= True).name"
   ]
  },
  {
   "cell_type": "code",
   "execution_count": null,
   "metadata": {},
   "outputs": [],
   "source": []
  },
  {
   "cell_type": "code",
   "execution_count": 186,
   "metadata": {},
   "outputs": [
    {
     "name": "stdout",
     "output_type": "stream",
     "text": [
      "Help on function atr in module pandas_ta.volatility.atr:\n",
      "\n",
      "atr(high, low, close, length=None, mamode=None, talib=None, drift=None, offset=None, **kwargs)\n",
      "    Average True Range (ATR)\n",
      "    \n",
      "    Averge True Range is used to measure volatility, especially volatility caused by\n",
      "    gaps or limit moves.\n",
      "    \n",
      "    Sources:\n",
      "        https://www.tradingview.com/wiki/Average_True_Range_(ATR)\n",
      "    \n",
      "    Calculation:\n",
      "        Default Inputs:\n",
      "            length=14, drift=1, percent=False\n",
      "        EMA = Exponential Moving Average\n",
      "        SMA = Simple Moving Average\n",
      "        WMA = Weighted Moving Average\n",
      "        RMA = WildeR's Moving Average\n",
      "        TR = True Range\n",
      "    \n",
      "        tr = TR(high, low, close, drift)\n",
      "        if 'ema':\n",
      "            ATR = EMA(tr, length)\n",
      "        elif 'sma':\n",
      "            ATR = SMA(tr, length)\n",
      "        elif 'wma':\n",
      "            ATR = WMA(tr, length)\n",
      "        else:\n",
      "            ATR = RMA(tr, length)\n",
      "    \n",
      "        if percent:\n",
      "            ATR *= 100 / close\n",
      "    \n",
      "    Args:\n",
      "        high (pd.Series): Series of 'high's\n",
      "        low (pd.Series): Series of 'low's\n",
      "        close (pd.Series): Series of 'close's\n",
      "        length (int): It's period. Default: 14\n",
      "        mamode (str): See ```help(ta.ma)```. Default: 'rma'\n",
      "        talib (bool): If TA Lib is installed and talib is True, Returns the TA Lib\n",
      "            version. Default: True\n",
      "        drift (int): The difference period. Default: 1\n",
      "        offset (int): How many periods to offset the result. Default: 0\n",
      "    \n",
      "    Kwargs:\n",
      "        percent (bool, optional): Return as percentage. Default: False\n",
      "        fillna (value, optional): pd.DataFrame.fillna(value)\n",
      "        fill_method (value, optional): Type of fill method\n",
      "    \n",
      "    Returns:\n",
      "        pd.Series: New feature generated.\n",
      "\n"
     ]
    }
   ],
   "source": [
    "help(ta.atr)"
   ]
  },
  {
   "cell_type": "code",
   "execution_count": 187,
   "metadata": {},
   "outputs": [
    {
     "data": {
      "text/plain": [
       "Index(['symbol', 'open', 'high', 'low', 'close', 'volume', 'RSI_14', 'OBV',\n",
       "       'OBVe_5', 'OBVe_35', 'MA_OBVe_5_35_diff', 'MAe_5', 'MAe_15',\n",
       "       'MAe_5_15_diff', 'EMA_100'],\n",
       "      dtype='object')"
      ]
     },
     "execution_count": 187,
     "metadata": {},
     "output_type": "execute_result"
    }
   ],
   "source": [
    "df.columns"
   ]
  },
  {
   "cell_type": "code",
   "execution_count": 188,
   "metadata": {},
   "outputs": [],
   "source": [
    "ticker = 'AXS'"
   ]
  },
  {
   "cell_type": "code",
   "execution_count": 189,
   "metadata": {},
   "outputs": [],
   "source": [
    "# 2018 กราฟลงอย่างเดียว\n",
    "# 2019 ขึ้น และลงปิดปีลบ # มีsideway, uptrend, downtrend\n",
    "# 2020 ขึ้น ย่อ ขึ้น\n",
    "# 2021:2022 มีขึ้นหนัก ลงหนัก"
   ]
  },
  {
   "cell_type": "code",
   "execution_count": 190,
   "metadata": {},
   "outputs": [
    {
     "name": "stderr",
     "output_type": "stream",
     "text": [
      "C:\\Anaconda3\\lib\\site-packages\\mplfinance\\_arg_validators.py:35: UserWarning:\n",
      "\n",
      "\n",
      "\n",
      " ================================================================= \n",
      "\n",
      "   WARNING: YOU ARE PLOTTING SO MUCH DATA THAT IT MAY NOT BE\n",
      "            POSSIBLE TO SEE DETAILS (Candles, Ohlc-Bars, Etc.)\n",
      "   For more information see:\n",
      "   - https://github.com/matplotlib/mplfinance/wiki/Plotting-Too-Much-Data\n",
      "   \n",
      "   TO SILENCE THIS WARNING, set `type='line'` in `mpf.plot()`\n",
      "   OR set kwarg `warn_too_much_data=N` where N is an integer \n",
      "   LARGER than the number of data points you want to plot.\n",
      "\n",
      " ================================================================ \n",
      "\n"
     ]
    },
    {
     "data": {
      "image/png": "[encoded data removed]",
      "text/plain": [
       "<Figure size 958.333x575 with 4 Axes>"
      ]
     },
     "metadata": {},
     "output_type": "display_data"
    }
   ],
   "source": [
    "mpf.plot(df, figratio=(10, 6), type='candle', mav=(21), volume=True, title = f'Price of {ticker}', tight_layout=True, style='binance')"
   ]
  },
  {
   "cell_type": "code",
   "execution_count": 191,
   "metadata": {},
   "outputs": [],
   "source": [
    "def enc_rsi(rsi):\n",
    "    if rsi > 50:\n",
    "        return 1\n",
    "    elif rsi < 50:\n",
    "        return 0\n",
    "    # try 66 and 33 / 30 and 70\n",
    "\n",
    "def enc_maobv(maobv):\n",
    "    if maobv > 0:\n",
    "        return 1\n",
    "    elif maobv < 0:\n",
    "        return 0\n",
    "\n",
    "def enc_ma_cross(ma_cross):\n",
    "    if ma_cross > 0:\n",
    "        return 1\n",
    "    elif ma_cross < 0:\n",
    "        return 0"
   ]
  },
  {
   "cell_type": "code",
   "execution_count": 192,
   "metadata": {},
   "outputs": [],
   "source": [
    "df['strength'] = df[f'{rsi}'].apply(enc_rsi)\n",
    "df['vol_in'] = df[f'{ma_obv}'].apply(enc_maobv)\n",
    "df['ma_cross'] = df[f'{ma_cross}'].apply(enc_ma_cross)\n",
    "df['price_over_ema'] = df[f'{ema}'] < df['close']"
   ]
  },
  {
   "cell_type": "code",
   "execution_count": 193,
   "metadata": {},
   "outputs": [],
   "source": [
    "df['signal'] = (df['vol_in'] == 1) & (df['strength'] == 1) & (df['ma_cross'] == 1)"
   ]
  },
  {
   "cell_type": "code",
   "execution_count": 194,
   "metadata": {},
   "outputs": [
    {
     "data": {
      "text/html": [
       "<div>\n",
       "<style scoped>\n",
       "    .dataframe tbody tr th:only-of-type {\n",
       "        vertical-align: middle;\n",
       "    }\n",
       "\n",
       "    .dataframe tbody tr th {\n",
       "        vertical-align: top;\n",
       "    }\n",
       "\n",
       "    .dataframe thead th {\n",
       "        text-align: right;\n",
       "    }\n",
       "</style>\n",
       "<table border=\"1\" class=\"dataframe\">\n",
       "  <thead>\n",
       "    <tr style=\"text-align: right;\">\n",
       "      <th></th>\n",
       "      <th>symbol</th>\n",
       "      <th>open</th>\n",
       "      <th>high</th>\n",
       "      <th>low</th>\n",
       "      <th>close</th>\n",
       "      <th>volume</th>\n",
       "      <th>RSI_14</th>\n",
       "      <th>OBV</th>\n",
       "      <th>OBVe_5</th>\n",
       "      <th>OBVe_35</th>\n",
       "      <th>MA_OBVe_5_35_diff</th>\n",
       "      <th>MAe_5</th>\n",
       "      <th>MAe_15</th>\n",
       "      <th>MAe_5_15_diff</th>\n",
       "      <th>EMA_100</th>\n",
       "      <th>strength</th>\n",
       "      <th>vol_in</th>\n",
       "      <th>ma_cross</th>\n",
       "      <th>price_over_ema</th>\n",
       "      <th>signal</th>\n",
       "    </tr>\n",
       "    <tr>\n",
       "      <th>datetime</th>\n",
       "      <th></th>\n",
       "      <th></th>\n",
       "      <th></th>\n",
       "      <th></th>\n",
       "      <th></th>\n",
       "      <th></th>\n",
       "      <th></th>\n",
       "      <th></th>\n",
       "      <th></th>\n",
       "      <th></th>\n",
       "      <th></th>\n",
       "      <th></th>\n",
       "      <th></th>\n",
       "      <th></th>\n",
       "      <th></th>\n",
       "      <th></th>\n",
       "      <th></th>\n",
       "      <th></th>\n",
       "      <th></th>\n",
       "      <th></th>\n",
       "    </tr>\n",
       "  </thead>\n",
       "  <tbody>\n",
       "    <tr>\n",
       "      <th>2017-10-14 07:00:00</th>\n",
       "      <td>BINANCE:ETHUSDT</td>\n",
       "      <td>337.96</td>\n",
       "      <td>349.80</td>\n",
       "      <td>335.00</td>\n",
       "      <td>342.00</td>\n",
       "      <td>7731.96469</td>\n",
       "      <td>65.175689</td>\n",
       "      <td>6.215449e+03</td>\n",
       "      <td>-6.054124e+03</td>\n",
       "      <td>-6.655545e+03</td>\n",
       "      <td>601.420689</td>\n",
       "      <td>323.759563</td>\n",
       "      <td>309.317649</td>\n",
       "      <td>14.441914</td>\n",
       "      <td>NaN</td>\n",
       "      <td>1.0</td>\n",
       "      <td>1.0</td>\n",
       "      <td>1.0</td>\n",
       "      <td>False</td>\n",
       "      <td>True</td>\n",
       "    </tr>\n",
       "    <tr>\n",
       "      <th>2017-10-15 07:00:00</th>\n",
       "      <td>BINANCE:ETHUSDT</td>\n",
       "      <td>342.00</td>\n",
       "      <td>348.00</td>\n",
       "      <td>316.17</td>\n",
       "      <td>337.96</td>\n",
       "      <td>10011.34708</td>\n",
       "      <td>63.174625</td>\n",
       "      <td>-3.795898e+03</td>\n",
       "      <td>-5.301382e+03</td>\n",
       "      <td>-6.496676e+03</td>\n",
       "      <td>1195.293446</td>\n",
       "      <td>328.493042</td>\n",
       "      <td>312.897943</td>\n",
       "      <td>15.595099</td>\n",
       "      <td>NaN</td>\n",
       "      <td>1.0</td>\n",
       "      <td>1.0</td>\n",
       "      <td>1.0</td>\n",
       "      <td>False</td>\n",
       "      <td>True</td>\n",
       "    </tr>\n",
       "    <tr>\n",
       "      <th>2017-11-19 07:00:00</th>\n",
       "      <td>BINANCE:ETHUSDT</td>\n",
       "      <td>346.66</td>\n",
       "      <td>373.56</td>\n",
       "      <td>343.07</td>\n",
       "      <td>354.15</td>\n",
       "      <td>19397.74898</td>\n",
       "      <td>66.702407</td>\n",
       "      <td>-3.610420e+04</td>\n",
       "      <td>-5.266346e+04</td>\n",
       "      <td>-5.463076e+04</td>\n",
       "      <td>1967.304742</td>\n",
       "      <td>340.416242</td>\n",
       "      <td>323.409781</td>\n",
       "      <td>17.006461</td>\n",
       "      <td>NaN</td>\n",
       "      <td>1.0</td>\n",
       "      <td>1.0</td>\n",
       "      <td>1.0</td>\n",
       "      <td>False</td>\n",
       "      <td>True</td>\n",
       "    </tr>\n",
       "    <tr>\n",
       "      <th>2017-11-20 07:00:00</th>\n",
       "      <td>BINANCE:ETHUSDT</td>\n",
       "      <td>355.15</td>\n",
       "      <td>372.50</td>\n",
       "      <td>353.90</td>\n",
       "      <td>367.42</td>\n",
       "      <td>18277.01940</td>\n",
       "      <td>70.123522</td>\n",
       "      <td>-1.782718e+04</td>\n",
       "      <td>-4.105137e+04</td>\n",
       "      <td>-5.258612e+04</td>\n",
       "      <td>11534.753301</td>\n",
       "      <td>349.417495</td>\n",
       "      <td>328.911058</td>\n",
       "      <td>20.506436</td>\n",
       "      <td>NaN</td>\n",
       "      <td>1.0</td>\n",
       "      <td>1.0</td>\n",
       "      <td>1.0</td>\n",
       "      <td>False</td>\n",
       "      <td>True</td>\n",
       "    </tr>\n",
       "    <tr>\n",
       "      <th>2017-11-21 07:00:00</th>\n",
       "      <td>BINANCE:ETHUSDT</td>\n",
       "      <td>367.42</td>\n",
       "      <td>375.50</td>\n",
       "      <td>350.02</td>\n",
       "      <td>362.12</td>\n",
       "      <td>26237.64398</td>\n",
       "      <td>67.155769</td>\n",
       "      <td>-4.406483e+04</td>\n",
       "      <td>-4.205585e+04</td>\n",
       "      <td>-5.211271e+04</td>\n",
       "      <td>10056.861413</td>\n",
       "      <td>353.651663</td>\n",
       "      <td>333.062176</td>\n",
       "      <td>20.589487</td>\n",
       "      <td>NaN</td>\n",
       "      <td>1.0</td>\n",
       "      <td>1.0</td>\n",
       "      <td>1.0</td>\n",
       "      <td>False</td>\n",
       "      <td>True</td>\n",
       "    </tr>\n",
       "    <tr>\n",
       "      <th>...</th>\n",
       "      <td>...</td>\n",
       "      <td>...</td>\n",
       "      <td>...</td>\n",
       "      <td>...</td>\n",
       "      <td>...</td>\n",
       "      <td>...</td>\n",
       "      <td>...</td>\n",
       "      <td>...</td>\n",
       "      <td>...</td>\n",
       "      <td>...</td>\n",
       "      <td>...</td>\n",
       "      <td>...</td>\n",
       "      <td>...</td>\n",
       "      <td>...</td>\n",
       "      <td>...</td>\n",
       "      <td>...</td>\n",
       "      <td>...</td>\n",
       "      <td>...</td>\n",
       "      <td>...</td>\n",
       "      <td>...</td>\n",
       "    </tr>\n",
       "    <tr>\n",
       "      <th>2021-11-12 07:00:00</th>\n",
       "      <td>BINANCE:ETHUSDT</td>\n",
       "      <td>4719.00</td>\n",
       "      <td>4809.71</td>\n",
       "      <td>4507.85</td>\n",
       "      <td>4665.46</td>\n",
       "      <td>461580.04150</td>\n",
       "      <td>62.054545</td>\n",
       "      <td>6.495988e+07</td>\n",
       "      <td>6.527351e+07</td>\n",
       "      <td>6.486823e+07</td>\n",
       "      <td>405285.005149</td>\n",
       "      <td>4670.440178</td>\n",
       "      <td>4527.735913</td>\n",
       "      <td>142.704265</td>\n",
       "      <td>3634.348209</td>\n",
       "      <td>1.0</td>\n",
       "      <td>1.0</td>\n",
       "      <td>1.0</td>\n",
       "      <td>True</td>\n",
       "      <td>True</td>\n",
       "    </tr>\n",
       "    <tr>\n",
       "      <th>2021-11-13 07:00:00</th>\n",
       "      <td>BINANCE:ETHUSDT</td>\n",
       "      <td>4665.47</td>\n",
       "      <td>4707.60</td>\n",
       "      <td>4584.08</td>\n",
       "      <td>4644.28</td>\n",
       "      <td>220720.66110</td>\n",
       "      <td>61.114396</td>\n",
       "      <td>6.473916e+07</td>\n",
       "      <td>6.509540e+07</td>\n",
       "      <td>6.486106e+07</td>\n",
       "      <td>234337.635240</td>\n",
       "      <td>4661.720119</td>\n",
       "      <td>4542.303924</td>\n",
       "      <td>119.416195</td>\n",
       "      <td>3654.346858</td>\n",
       "      <td>1.0</td>\n",
       "      <td>1.0</td>\n",
       "      <td>1.0</td>\n",
       "      <td>True</td>\n",
       "      <td>True</td>\n",
       "    </tr>\n",
       "    <tr>\n",
       "      <th>2021-11-14 07:00:00</th>\n",
       "      <td>BINANCE:ETHUSDT</td>\n",
       "      <td>4644.27</td>\n",
       "      <td>4696.05</td>\n",
       "      <td>4514.12</td>\n",
       "      <td>4626.50</td>\n",
       "      <td>245309.06740</td>\n",
       "      <td>60.288645</td>\n",
       "      <td>6.449385e+07</td>\n",
       "      <td>6.489488e+07</td>\n",
       "      <td>6.484066e+07</td>\n",
       "      <td>54223.112589</td>\n",
       "      <td>4649.980079</td>\n",
       "      <td>4552.828434</td>\n",
       "      <td>97.151646</td>\n",
       "      <td>3673.597415</td>\n",
       "      <td>1.0</td>\n",
       "      <td>1.0</td>\n",
       "      <td>1.0</td>\n",
       "      <td>True</td>\n",
       "      <td>True</td>\n",
       "    </tr>\n",
       "    <tr>\n",
       "      <th>2022-02-05 07:00:00</th>\n",
       "      <td>BINANCE:ETHUSDT</td>\n",
       "      <td>2994.99</td>\n",
       "      <td>3060.47</td>\n",
       "      <td>2958.01</td>\n",
       "      <td>3012.65</td>\n",
       "      <td>356802.34790</td>\n",
       "      <td>54.265423</td>\n",
       "      <td>6.121812e+07</td>\n",
       "      <td>6.052460e+07</td>\n",
       "      <td>6.038631e+07</td>\n",
       "      <td>138288.747959</td>\n",
       "      <td>2860.124283</td>\n",
       "      <td>2782.595403</td>\n",
       "      <td>77.528880</td>\n",
       "      <td>3426.909309</td>\n",
       "      <td>1.0</td>\n",
       "      <td>1.0</td>\n",
       "      <td>1.0</td>\n",
       "      <td>False</td>\n",
       "      <td>True</td>\n",
       "    </tr>\n",
       "    <tr>\n",
       "      <th>2022-02-06 07:00:00</th>\n",
       "      <td>BINANCE:ETHUSDT</td>\n",
       "      <td>3012.64</td>\n",
       "      <td>3047.00</td>\n",
       "      <td>2950.21</td>\n",
       "      <td>3001.50</td>\n",
       "      <td>198591.74750</td>\n",
       "      <td>53.787052</td>\n",
       "      <td>6.101953e+07</td>\n",
       "      <td>6.068957e+07</td>\n",
       "      <td>6.042149e+07</td>\n",
       "      <td>268087.201804</td>\n",
       "      <td>2907.249522</td>\n",
       "      <td>2809.958478</td>\n",
       "      <td>97.291045</td>\n",
       "      <td>3418.485362</td>\n",
       "      <td>1.0</td>\n",
       "      <td>1.0</td>\n",
       "      <td>1.0</td>\n",
       "      <td>False</td>\n",
       "      <td>True</td>\n",
       "    </tr>\n",
       "  </tbody>\n",
       "</table>\n",
       "<p>651 rows × 20 columns</p>\n",
       "</div>"
      ],
      "text/plain": [
       "                              symbol     open     high      low    close  \\\n",
       "datetime                                                                   \n",
       "2017-10-14 07:00:00  BINANCE:ETHUSDT   337.96   349.80   335.00   342.00   \n",
       "2017-10-15 07:00:00  BINANCE:ETHUSDT   342.00   348.00   316.17   337.96   \n",
       "2017-11-19 07:00:00  BINANCE:ETHUSDT   346.66   373.56   343.07   354.15   \n",
       "2017-11-20 07:00:00  BINANCE:ETHUSDT   355.15   372.50   353.90   367.42   \n",
       "2017-11-21 07:00:00  BINANCE:ETHUSDT   367.42   375.50   350.02   362.12   \n",
       "...                              ...      ...      ...      ...      ...   \n",
       "2021-11-12 07:00:00  BINANCE:ETHUSDT  4719.00  4809.71  4507.85  4665.46   \n",
       "2021-11-13 07:00:00  BINANCE:ETHUSDT  4665.47  4707.60  4584.08  4644.28   \n",
       "2021-11-14 07:00:00  BINANCE:ETHUSDT  4644.27  4696.05  4514.12  4626.50   \n",
       "2022-02-05 07:00:00  BINANCE:ETHUSDT  2994.99  3060.47  2958.01  3012.65   \n",
       "2022-02-06 07:00:00  BINANCE:ETHUSDT  3012.64  3047.00  2950.21  3001.50   \n",
       "\n",
       "                           volume     RSI_14           OBV        OBVe_5  \\\n",
       "datetime                                                                   \n",
       "2017-10-14 07:00:00    7731.96469  65.175689  6.215449e+03 -6.054124e+03   \n",
       "2017-10-15 07:00:00   10011.34708  63.174625 -3.795898e+03 -5.301382e+03   \n",
       "2017-11-19 07:00:00   19397.74898  66.702407 -3.610420e+04 -5.266346e+04   \n",
       "2017-11-20 07:00:00   18277.01940  70.123522 -1.782718e+04 -4.105137e+04   \n",
       "2017-11-21 07:00:00   26237.64398  67.155769 -4.406483e+04 -4.205585e+04   \n",
       "...                           ...        ...           ...           ...   \n",
       "2021-11-12 07:00:00  461580.04150  62.054545  6.495988e+07  6.527351e+07   \n",
       "2021-11-13 07:00:00  220720.66110  61.114396  6.473916e+07  6.509540e+07   \n",
       "2021-11-14 07:00:00  245309.06740  60.288645  6.449385e+07  6.489488e+07   \n",
       "2022-02-05 07:00:00  356802.34790  54.265423  6.121812e+07  6.052460e+07   \n",
       "2022-02-06 07:00:00  198591.74750  53.787052  6.101953e+07  6.068957e+07   \n",
       "\n",
       "                          OBVe_35  MA_OBVe_5_35_diff        MAe_5  \\\n",
       "datetime                                                            \n",
       "2017-10-14 07:00:00 -6.655545e+03         601.420689   323.759563   \n",
       "2017-10-15 07:00:00 -6.496676e+03        1195.293446   328.493042   \n",
       "2017-11-19 07:00:00 -5.463076e+04        1967.304742   340.416242   \n",
       "2017-11-20 07:00:00 -5.258612e+04       11534.753301   349.417495   \n",
       "2017-11-21 07:00:00 -5.211271e+04       10056.861413   353.651663   \n",
       "...                           ...                ...          ...   \n",
       "2021-11-12 07:00:00  6.486823e+07      405285.005149  4670.440178   \n",
       "2021-11-13 07:00:00  6.486106e+07      234337.635240  4661.720119   \n",
       "2021-11-14 07:00:00  6.484066e+07       54223.112589  4649.980079   \n",
       "2022-02-05 07:00:00  6.038631e+07      138288.747959  2860.124283   \n",
       "2022-02-06 07:00:00  6.042149e+07      268087.201804  2907.249522   \n",
       "\n",
       "                          MAe_15  MAe_5_15_diff      EMA_100  strength  \\\n",
       "datetime                                                                 \n",
       "2017-10-14 07:00:00   309.317649      14.441914          NaN       1.0   \n",
       "2017-10-15 07:00:00   312.897943      15.595099          NaN       1.0   \n",
       "2017-11-19 07:00:00   323.409781      17.006461          NaN       1.0   \n",
       "2017-11-20 07:00:00   328.911058      20.506436          NaN       1.0   \n",
       "2017-11-21 07:00:00   333.062176      20.589487          NaN       1.0   \n",
       "...                          ...            ...          ...       ...   \n",
       "2021-11-12 07:00:00  4527.735913     142.704265  3634.348209       1.0   \n",
       "2021-11-13 07:00:00  4542.303924     119.416195  3654.346858       1.0   \n",
       "2021-11-14 07:00:00  4552.828434      97.151646  3673.597415       1.0   \n",
       "2022-02-05 07:00:00  2782.595403      77.528880  3426.909309       1.0   \n",
       "2022-02-06 07:00:00  2809.958478      97.291045  3418.485362       1.0   \n",
       "\n",
       "                     vol_in  ma_cross  price_over_ema  signal  \n",
       "datetime                                                       \n",
       "2017-10-14 07:00:00     1.0       1.0           False    True  \n",
       "2017-10-15 07:00:00     1.0       1.0           False    True  \n",
       "2017-11-19 07:00:00     1.0       1.0           False    True  \n",
       "2017-11-20 07:00:00     1.0       1.0           False    True  \n",
       "2017-11-21 07:00:00     1.0       1.0           False    True  \n",
       "...                     ...       ...             ...     ...  \n",
       "2021-11-12 07:00:00     1.0       1.0            True    True  \n",
       "2021-11-13 07:00:00     1.0       1.0            True    True  \n",
       "2021-11-14 07:00:00     1.0       1.0            True    True  \n",
       "2022-02-05 07:00:00     1.0       1.0           False    True  \n",
       "2022-02-06 07:00:00     1.0       1.0           False    True  \n",
       "\n",
       "[651 rows x 20 columns]"
      ]
     },
     "execution_count": 194,
     "metadata": {},
     "output_type": "execute_result"
    }
   ],
   "source": [
    "df.loc[df['signal'] == 1]"
   ]
  },
  {
   "cell_type": "code",
   "execution_count": 195,
   "metadata": {},
   "outputs": [],
   "source": [
    "df['action_price'] = df['open'].shift(-1)"
   ]
  },
  {
   "cell_type": "code",
   "execution_count": 196,
   "metadata": {},
   "outputs": [
    {
     "data": {
      "text/plain": [
       "Index(['symbol', 'open', 'high', 'low', 'close', 'volume', 'RSI_14', 'OBV',\n",
       "       'OBVe_5', 'OBVe_35', 'MA_OBVe_5_35_diff', 'MAe_5', 'MAe_15',\n",
       "       'MAe_5_15_diff', 'EMA_100', 'strength', 'vol_in', 'ma_cross',\n",
       "       'price_over_ema', 'signal', 'action_price'],\n",
       "      dtype='object')"
      ]
     },
     "execution_count": 196,
     "metadata": {},
     "output_type": "execute_result"
    }
   ],
   "source": [
    "df.columns"
   ]
  },
  {
   "cell_type": "code",
   "execution_count": 197,
   "metadata": {},
   "outputs": [],
   "source": [
    "df_encoded = df[['open', 'close', 'action_price', rsi, 'OBV', 'OBVe_5', 'OBVe_35', ma_obv, 'MAe_5', 'MAe_15',\n",
    "       'MAe_5_15_diff', ema, 'price_over_ema', 'strength', 'vol_in', 'ma_cross', 'signal']]"
   ]
  },
  {
   "cell_type": "code",
   "execution_count": 198,
   "metadata": {},
   "outputs": [],
   "source": [
    "#df_encoded.loc[(df_encoded['vol_in'] == 1) & (df_encoded['strength'] == 1)]"
   ]
  },
  {
   "cell_type": "code",
   "execution_count": 199,
   "metadata": {},
   "outputs": [
    {
     "name": "stderr",
     "output_type": "stream",
     "text": [
      "C:\\Anaconda3\\lib\\site-packages\\pandas_ta\\core.py:420: SettingWithCopyWarning:\n",
      "\n",
      "\n",
      "A value is trying to be set on a copy of a slice from a DataFrame.\n",
      "Try using .loc[row_indexer,col_indexer] = value instead\n",
      "\n",
      "See the caveats in the documentation: https://pandas.pydata.org/pandas-docs/stable/user_guide/indexing.html#returning-a-view-versus-a-copy\n",
      "\n"
     ]
    },
    {
     "data": {
      "text/html": [
       "<div>\n",
       "<style scoped>\n",
       "    .dataframe tbody tr th:only-of-type {\n",
       "        vertical-align: middle;\n",
       "    }\n",
       "\n",
       "    .dataframe tbody tr th {\n",
       "        vertical-align: top;\n",
       "    }\n",
       "\n",
       "    .dataframe thead th {\n",
       "        text-align: right;\n",
       "    }\n",
       "</style>\n",
       "<table border=\"1\" class=\"dataframe\">\n",
       "  <thead>\n",
       "    <tr style=\"text-align: right;\">\n",
       "      <th></th>\n",
       "      <th>TS_Trends</th>\n",
       "      <th>TS_Trades</th>\n",
       "      <th>TS_Entries</th>\n",
       "      <th>TS_Exits</th>\n",
       "    </tr>\n",
       "    <tr>\n",
       "      <th>datetime</th>\n",
       "      <th></th>\n",
       "      <th></th>\n",
       "      <th></th>\n",
       "      <th></th>\n",
       "    </tr>\n",
       "  </thead>\n",
       "  <tbody>\n",
       "    <tr>\n",
       "      <th>2017-08-17 07:00:00</th>\n",
       "      <td>False</td>\n",
       "      <td>0</td>\n",
       "      <td>False</td>\n",
       "      <td>False</td>\n",
       "    </tr>\n",
       "    <tr>\n",
       "      <th>2017-08-18 07:00:00</th>\n",
       "      <td>False</td>\n",
       "      <td>0</td>\n",
       "      <td>False</td>\n",
       "      <td>False</td>\n",
       "    </tr>\n",
       "    <tr>\n",
       "      <th>2017-08-19 07:00:00</th>\n",
       "      <td>False</td>\n",
       "      <td>0</td>\n",
       "      <td>False</td>\n",
       "      <td>False</td>\n",
       "    </tr>\n",
       "    <tr>\n",
       "      <th>2017-08-20 07:00:00</th>\n",
       "      <td>False</td>\n",
       "      <td>0</td>\n",
       "      <td>False</td>\n",
       "      <td>False</td>\n",
       "    </tr>\n",
       "    <tr>\n",
       "      <th>2017-08-21 07:00:00</th>\n",
       "      <td>False</td>\n",
       "      <td>0</td>\n",
       "      <td>False</td>\n",
       "      <td>False</td>\n",
       "    </tr>\n",
       "    <tr>\n",
       "      <th>...</th>\n",
       "      <td>...</td>\n",
       "      <td>...</td>\n",
       "      <td>...</td>\n",
       "      <td>...</td>\n",
       "    </tr>\n",
       "    <tr>\n",
       "      <th>2022-02-02 07:00:00</th>\n",
       "      <td>False</td>\n",
       "      <td>0</td>\n",
       "      <td>False</td>\n",
       "      <td>False</td>\n",
       "    </tr>\n",
       "    <tr>\n",
       "      <th>2022-02-03 07:00:00</th>\n",
       "      <td>False</td>\n",
       "      <td>0</td>\n",
       "      <td>False</td>\n",
       "      <td>False</td>\n",
       "    </tr>\n",
       "    <tr>\n",
       "      <th>2022-02-04 07:00:00</th>\n",
       "      <td>False</td>\n",
       "      <td>0</td>\n",
       "      <td>False</td>\n",
       "      <td>False</td>\n",
       "    </tr>\n",
       "    <tr>\n",
       "      <th>2022-02-05 07:00:00</th>\n",
       "      <td>True</td>\n",
       "      <td>1</td>\n",
       "      <td>True</td>\n",
       "      <td>False</td>\n",
       "    </tr>\n",
       "    <tr>\n",
       "      <th>2022-02-06 07:00:00</th>\n",
       "      <td>True</td>\n",
       "      <td>0</td>\n",
       "      <td>False</td>\n",
       "      <td>False</td>\n",
       "    </tr>\n",
       "  </tbody>\n",
       "</table>\n",
       "<p>1635 rows × 4 columns</p>\n",
       "</div>"
      ],
      "text/plain": [
       "                     TS_Trends  TS_Trades  TS_Entries  TS_Exits\n",
       "datetime                                                       \n",
       "2017-08-17 07:00:00      False          0       False     False\n",
       "2017-08-18 07:00:00      False          0       False     False\n",
       "2017-08-19 07:00:00      False          0       False     False\n",
       "2017-08-20 07:00:00      False          0       False     False\n",
       "2017-08-21 07:00:00      False          0       False     False\n",
       "...                        ...        ...         ...       ...\n",
       "2022-02-02 07:00:00      False          0       False     False\n",
       "2022-02-03 07:00:00      False          0       False     False\n",
       "2022-02-04 07:00:00      False          0       False     False\n",
       "2022-02-05 07:00:00       True          1        True     False\n",
       "2022-02-06 07:00:00       True          0       False     False\n",
       "\n",
       "[1635 rows x 4 columns]"
      ]
     },
     "execution_count": 199,
     "metadata": {},
     "output_type": "execute_result"
    }
   ],
   "source": [
    "df_encoded.ta.tsignals(df_encoded['signal'], asbool= True, append= True)"
   ]
  },
  {
   "cell_type": "code",
   "execution_count": 200,
   "metadata": {},
   "outputs": [],
   "source": [
    "df_encoded['1d_ret'] = df_encoded['action_price'].pct_change(1).shift(-1)\n",
    "df_encoded['good_signal'] = df_encoded['1d_ret'] > -0.00 \n",
    "# เพิ่มความยืดหยุ่นให้กับ วันที่เปิดออเดอร์ แล้ววันต่อมา ราคาลงนิดหน่อยก็ไม่เป็นไร ต้องลงเยอะๆถึงนับว่าเป็น false signal"
   ]
  },
  {
   "cell_type": "code",
   "execution_count": 201,
   "metadata": {},
   "outputs": [],
   "source": [
    "#### get only signal = True, as primary filter to train data\n",
    "#df_signal = df_encoded.loc[df_encoded['TS_Trends'] == 1]"
   ]
  },
  {
   "cell_type": "code",
   "execution_count": 202,
   "metadata": {},
   "outputs": [],
   "source": [
    "#### get only action day\n",
    "df_encoded = df_encoded.loc[df_encoded['TS_Trades'] != 0]#.loc[df_encoded['action_price']].pct_change()"
   ]
  },
  {
   "cell_type": "code",
   "execution_count": 203,
   "metadata": {},
   "outputs": [
    {
     "name": "stderr",
     "output_type": "stream",
     "text": [
      "<ipython-input-203-a348f6391013>:1: SettingWithCopyWarning:\n",
      "\n",
      "\n",
      "A value is trying to be set on a copy of a slice from a DataFrame.\n",
      "Try using .loc[row_indexer,col_indexer] = value instead\n",
      "\n",
      "See the caveats in the documentation: https://pandas.pydata.org/pandas-docs/stable/user_guide/indexing.html#returning-a-view-versus-a-copy\n",
      "\n"
     ]
    }
   ],
   "source": [
    "df_encoded['trade_ret'] = df_encoded['action_price'].pct_change()"
   ]
  },
  {
   "cell_type": "code",
   "execution_count": 204,
   "metadata": {},
   "outputs": [
    {
     "name": "stdout",
     "output_type": "stream",
     "text": [
      "n day that 1d_ret can indicate trade loss: 6, total n of trade lose: 10\n",
      "prob to indicate trade loss from  1d_ret: 60.0 %\n"
     ]
    }
   ],
   "source": [
    "#### check about how many days that price goes down can indicate trading loss (and prob correct)\n",
    "\n",
    "n_day_loss_and_1d_loss  = len(df_encoded.loc[(df_encoded['1d_ret'] < 0) & (df_encoded['trade_ret'] < 0) & (df_encoded['TS_Trades'] == 1)])\n",
    "n_trade_loss = len(df_encoded.loc[(df_encoded['trade_ret'] < 0) & (df_encoded['TS_Trades'] == 1)] )\n",
    "print(f'n day that 1d_ret can indicate trade loss: {n_day_loss_and_1d_loss}, total n of trade lose: {n_trade_loss}')\n",
    "print(f'prob to indicate trade loss from  1d_ret: {n_day_loss_and_1d_loss/n_trade_loss *100} %')"
   ]
  },
  {
   "cell_type": "code",
   "execution_count": 205,
   "metadata": {},
   "outputs": [
    {
     "name": "stdout",
     "output_type": "stream",
     "text": [
      "times that trade would profit but 1d_ret say no: 7, total n of trade win: 30\n",
      "จำนวนที่จะตกรถ: 23.333333333333332 %\n"
     ]
    }
   ],
   "source": [
    "#### check about trade would profit but 1d_ret goes down, ตกรถ\n",
    "\n",
    "n_day_profit_but_1d_loss  = len(df_encoded.loc[(df_encoded['1d_ret'] < -0.02) & (df_encoded['trade_ret'] > 0) & (df_encoded['TS_Trades'] == 1)])\n",
    "n_trade_win = len(df_encoded.loc[(df_encoded['trade_ret'] > 0) & (df_encoded['TS_Trades'] == 1)] )\n",
    "print(f'times that trade would profit but 1d_ret say no: {n_day_profit_but_1d_loss}, total n of trade win: {n_trade_win}')\n",
    "print(f'จำนวนที่จะตกรถ: {n_day_profit_but_1d_loss/n_trade_win * 100} %')"
   ]
  },
  {
   "cell_type": "code",
   "execution_count": 206,
   "metadata": {},
   "outputs": [
    {
     "data": {
      "text/plain": [
       "count    1634.000000\n",
       "mean        0.002850\n",
       "std         0.053087\n",
       "min        -0.446740\n",
       "25%        -0.021675\n",
       "50%         0.001512\n",
       "75%         0.030103\n",
       "max         0.263274\n",
       "Name: open, dtype: float64"
      ]
     },
     "execution_count": 206,
     "metadata": {},
     "output_type": "execute_result"
    }
   ],
   "source": [
    "(df['open'].pct_change(1)).describe()"
   ]
  },
  {
   "cell_type": "code",
   "execution_count": 207,
   "metadata": {},
   "outputs": [
    {
     "data": {
      "text/plain": [
       "count    19.000000\n",
       "mean     -0.020454\n",
       "std       0.017239\n",
       "min      -0.060758\n",
       "25%      -0.025427\n",
       "50%      -0.015375\n",
       "75%      -0.008422\n",
       "max      -0.001489\n",
       "Name: 1d_ret, dtype: float64"
      ]
     },
     "execution_count": 207,
     "metadata": {},
     "output_type": "execute_result"
    }
   ],
   "source": [
    "#### see stats of trade that 1d_ret false indicate, (สแตทของ 1d_ret ที่ทำให้ตกรถ)\n",
    "(df_encoded.loc[(df_encoded['1d_ret'] <0) & (df_encoded['trade_ret'] > 0) & (df_encoded['TS_Trades'] == 1)])['1d_ret'].describe()"
   ]
  },
  {
   "cell_type": "code",
   "execution_count": 208,
   "metadata": {},
   "outputs": [
    {
     "data": {
      "text/plain": [
       "count    6.000000\n",
       "mean    -0.041935\n",
       "std      0.021180\n",
       "min     -0.075357\n",
       "25%     -0.050411\n",
       "50%     -0.039087\n",
       "75%     -0.032954\n",
       "max     -0.012981\n",
       "Name: 1d_ret, dtype: float64"
      ]
     },
     "execution_count": 208,
     "metadata": {},
     "output_type": "execute_result"
    }
   ],
   "source": [
    "#### see stats of trade that 1d_ret can detect false signal, (สแตทของ 1d_ret ที่กำหนดว่าเทรดขาดทุนได้)\n",
    "(df_encoded.loc[(df_encoded['1d_ret'] <0) & (df_encoded['trade_ret'] < 0) & (df_encoded['TS_Trades'] == 1)])['1d_ret'].describe()"
   ]
  },
  {
   "cell_type": "code",
   "execution_count": 209,
   "metadata": {},
   "outputs": [
    {
     "name": "stderr",
     "output_type": "stream",
     "text": [
      "<ipython-input-209-a232b34f2424>:3: SettingWithCopyWarning:\n",
      "\n",
      "\n",
      "A value is trying to be set on a copy of a slice from a DataFrame.\n",
      "Try using .loc[row_indexer,col_indexer] = value instead\n",
      "\n",
      "See the caveats in the documentation: https://pandas.pydata.org/pandas-docs/stable/user_guide/indexing.html#returning-a-view-versus-a-copy\n",
      "\n"
     ]
    }
   ],
   "source": [
    "'''df_encoded[f'{ma_obv}'] = df_encoded[f'{ma_obv}'].pct_change()\n",
    "df_encoded[f'{ma_cross}'] = df_encoded[f'{ma_cross}'].pct_change()'''\n",
    "df_encoded['close']  = df_encoded['close'].pct_change()"
   ]
  },
  {
   "cell_type": "code",
   "execution_count": 210,
   "metadata": {},
   "outputs": [
    {
     "data": {
      "text/html": [
       "<div>\n",
       "<style scoped>\n",
       "    .dataframe tbody tr th:only-of-type {\n",
       "        vertical-align: middle;\n",
       "    }\n",
       "\n",
       "    .dataframe tbody tr th {\n",
       "        vertical-align: top;\n",
       "    }\n",
       "\n",
       "    .dataframe thead th {\n",
       "        text-align: right;\n",
       "    }\n",
       "</style>\n",
       "<table border=\"1\" class=\"dataframe\">\n",
       "  <thead>\n",
       "    <tr style=\"text-align: right;\">\n",
       "      <th></th>\n",
       "      <th>open</th>\n",
       "      <th>close</th>\n",
       "      <th>action_price</th>\n",
       "      <th>RSI_14</th>\n",
       "      <th>OBV</th>\n",
       "      <th>OBVe_5</th>\n",
       "      <th>OBVe_35</th>\n",
       "      <th>MA_OBVe_5_35_diff</th>\n",
       "      <th>MAe_5</th>\n",
       "      <th>MAe_15</th>\n",
       "      <th>MAe_5_15_diff</th>\n",
       "      <th>EMA_100</th>\n",
       "      <th>strength</th>\n",
       "      <th>vol_in</th>\n",
       "      <th>ma_cross</th>\n",
       "      <th>TS_Trades</th>\n",
       "      <th>1d_ret</th>\n",
       "      <th>trade_ret</th>\n",
       "    </tr>\n",
       "  </thead>\n",
       "  <tbody>\n",
       "    <tr>\n",
       "      <th>count</th>\n",
       "      <td>81.000000</td>\n",
       "      <td>80.000000</td>\n",
       "      <td>81.000000</td>\n",
       "      <td>81.000000</td>\n",
       "      <td>8.100000e+01</td>\n",
       "      <td>8.100000e+01</td>\n",
       "      <td>8.100000e+01</td>\n",
       "      <td>8.100000e+01</td>\n",
       "      <td>81.000000</td>\n",
       "      <td>81.000000</td>\n",
       "      <td>81.000000</td>\n",
       "      <td>78.000000</td>\n",
       "      <td>81.000000</td>\n",
       "      <td>81.000000</td>\n",
       "      <td>81.000000</td>\n",
       "      <td>81.000000</td>\n",
       "      <td>81.000000</td>\n",
       "      <td>80.000000</td>\n",
       "    </tr>\n",
       "    <tr>\n",
       "      <th>mean</th>\n",
       "      <td>781.373210</td>\n",
       "      <td>0.068222</td>\n",
       "      <td>773.612593</td>\n",
       "      <td>54.287973</td>\n",
       "      <td>1.224792e+07</td>\n",
       "      <td>1.220008e+07</td>\n",
       "      <td>1.151487e+07</td>\n",
       "      <td>6.852078e+05</td>\n",
       "      <td>773.405121</td>\n",
       "      <td>764.406981</td>\n",
       "      <td>8.998140</td>\n",
       "      <td>714.784636</td>\n",
       "      <td>0.641975</td>\n",
       "      <td>0.888889</td>\n",
       "      <td>0.765432</td>\n",
       "      <td>0.012346</td>\n",
       "      <td>-0.001378</td>\n",
       "      <td>0.068159</td>\n",
       "    </tr>\n",
       "    <tr>\n",
       "      <th>std</th>\n",
       "      <td>1041.327362</td>\n",
       "      <td>0.334593</td>\n",
       "      <td>1025.499754</td>\n",
       "      <td>7.907731</td>\n",
       "      <td>2.345104e+07</td>\n",
       "      <td>2.348789e+07</td>\n",
       "      <td>2.333916e+07</td>\n",
       "      <td>8.349660e+05</td>\n",
       "      <td>1028.982799</td>\n",
       "      <td>1019.253339</td>\n",
       "      <td>21.008653</td>\n",
       "      <td>922.492087</td>\n",
       "      <td>0.482407</td>\n",
       "      <td>0.316228</td>\n",
       "      <td>0.426369</td>\n",
       "      <td>1.006154</td>\n",
       "      <td>0.051629</td>\n",
       "      <td>0.334002</td>\n",
       "    </tr>\n",
       "    <tr>\n",
       "      <th>min</th>\n",
       "      <td>113.750000</td>\n",
       "      <td>-0.705875</td>\n",
       "      <td>113.750000</td>\n",
       "      <td>34.426353</td>\n",
       "      <td>-8.163576e+06</td>\n",
       "      <td>-7.997529e+06</td>\n",
       "      <td>-8.306285e+06</td>\n",
       "      <td>-6.230160e+05</td>\n",
       "      <td>121.832597</td>\n",
       "      <td>109.158453</td>\n",
       "      <td>-51.659221</td>\n",
       "      <td>138.603535</td>\n",
       "      <td>0.000000</td>\n",
       "      <td>0.000000</td>\n",
       "      <td>0.000000</td>\n",
       "      <td>-1.000000</td>\n",
       "      <td>-0.277374</td>\n",
       "      <td>-0.705384</td>\n",
       "    </tr>\n",
       "    <tr>\n",
       "      <th>25%</th>\n",
       "      <td>191.180000</td>\n",
       "      <td>-0.060977</td>\n",
       "      <td>180.650000</td>\n",
       "      <td>49.426001</td>\n",
       "      <td>-2.282330e+06</td>\n",
       "      <td>-1.845469e+06</td>\n",
       "      <td>-2.129313e+06</td>\n",
       "      <td>1.032455e+05</td>\n",
       "      <td>183.867295</td>\n",
       "      <td>181.900335</td>\n",
       "      <td>0.290135</td>\n",
       "      <td>181.864697</td>\n",
       "      <td>0.000000</td>\n",
       "      <td>1.000000</td>\n",
       "      <td>1.000000</td>\n",
       "      <td>-1.000000</td>\n",
       "      <td>-0.016106</td>\n",
       "      <td>-0.061092</td>\n",
       "    </tr>\n",
       "    <tr>\n",
       "      <th>50%</th>\n",
       "      <td>350.940000</td>\n",
       "      <td>0.013241</td>\n",
       "      <td>365.010000</td>\n",
       "      <td>52.588841</td>\n",
       "      <td>-3.610420e+04</td>\n",
       "      <td>-1.159480e+05</td>\n",
       "      <td>-8.270205e+04</td>\n",
       "      <td>3.741691e+05</td>\n",
       "      <td>353.409708</td>\n",
       "      <td>353.119573</td>\n",
       "      <td>1.966959</td>\n",
       "      <td>300.392386</td>\n",
       "      <td>1.000000</td>\n",
       "      <td>1.000000</td>\n",
       "      <td>1.000000</td>\n",
       "      <td>1.000000</td>\n",
       "      <td>0.000000</td>\n",
       "      <td>0.013600</td>\n",
       "    </tr>\n",
       "    <tr>\n",
       "      <th>75%</th>\n",
       "      <td>568.090000</td>\n",
       "      <td>0.117998</td>\n",
       "      <td>585.480000</td>\n",
       "      <td>58.031449</td>\n",
       "      <td>1.632510e+07</td>\n",
       "      <td>1.543162e+07</td>\n",
       "      <td>1.483310e+07</td>\n",
       "      <td>1.012483e+06</td>\n",
       "      <td>573.121072</td>\n",
       "      <td>569.342561</td>\n",
       "      <td>9.099002</td>\n",
       "      <td>548.713986</td>\n",
       "      <td>1.000000</td>\n",
       "      <td>1.000000</td>\n",
       "      <td>1.000000</td>\n",
       "      <td>1.000000</td>\n",
       "      <td>0.018153</td>\n",
       "      <td>0.117965</td>\n",
       "    </tr>\n",
       "    <tr>\n",
       "      <th>max</th>\n",
       "      <td>4626.500000</td>\n",
       "      <td>1.806720</td>\n",
       "      <td>4563.770000</td>\n",
       "      <td>77.838957</td>\n",
       "      <td>6.420399e+07</td>\n",
       "      <td>6.463606e+07</td>\n",
       "      <td>6.480053e+07</td>\n",
       "      <td>3.231467e+06</td>\n",
       "      <td>4621.246719</td>\n",
       "      <td>4554.197379</td>\n",
       "      <td>89.153509</td>\n",
       "      <td>3691.224793</td>\n",
       "      <td>1.000000</td>\n",
       "      <td>1.000000</td>\n",
       "      <td>1.000000</td>\n",
       "      <td>1.000000</td>\n",
       "      <td>0.189451</td>\n",
       "      <td>1.796846</td>\n",
       "    </tr>\n",
       "  </tbody>\n",
       "</table>\n",
       "</div>"
      ],
      "text/plain": [
       "              open      close  action_price     RSI_14           OBV  \\\n",
       "count    81.000000  80.000000     81.000000  81.000000  8.100000e+01   \n",
       "mean    781.373210   0.068222    773.612593  54.287973  1.224792e+07   \n",
       "std    1041.327362   0.334593   1025.499754   7.907731  2.345104e+07   \n",
       "min     113.750000  -0.705875    113.750000  34.426353 -8.163576e+06   \n",
       "25%     191.180000  -0.060977    180.650000  49.426001 -2.282330e+06   \n",
       "50%     350.940000   0.013241    365.010000  52.588841 -3.610420e+04   \n",
       "75%     568.090000   0.117998    585.480000  58.031449  1.632510e+07   \n",
       "max    4626.500000   1.806720   4563.770000  77.838957  6.420399e+07   \n",
       "\n",
       "             OBVe_5       OBVe_35  MA_OBVe_5_35_diff        MAe_5  \\\n",
       "count  8.100000e+01  8.100000e+01       8.100000e+01    81.000000   \n",
       "mean   1.220008e+07  1.151487e+07       6.852078e+05   773.405121   \n",
       "std    2.348789e+07  2.333916e+07       8.349660e+05  1028.982799   \n",
       "min   -7.997529e+06 -8.306285e+06      -6.230160e+05   121.832597   \n",
       "25%   -1.845469e+06 -2.129313e+06       1.032455e+05   183.867295   \n",
       "50%   -1.159480e+05 -8.270205e+04       3.741691e+05   353.409708   \n",
       "75%    1.543162e+07  1.483310e+07       1.012483e+06   573.121072   \n",
       "max    6.463606e+07  6.480053e+07       3.231467e+06  4621.246719   \n",
       "\n",
       "            MAe_15  MAe_5_15_diff      EMA_100   strength     vol_in  \\\n",
       "count    81.000000      81.000000    78.000000  81.000000  81.000000   \n",
       "mean    764.406981       8.998140   714.784636   0.641975   0.888889   \n",
       "std    1019.253339      21.008653   922.492087   0.482407   0.316228   \n",
       "min     109.158453     -51.659221   138.603535   0.000000   0.000000   \n",
       "25%     181.900335       0.290135   181.864697   0.000000   1.000000   \n",
       "50%     353.119573       1.966959   300.392386   1.000000   1.000000   \n",
       "75%     569.342561       9.099002   548.713986   1.000000   1.000000   \n",
       "max    4554.197379      89.153509  3691.224793   1.000000   1.000000   \n",
       "\n",
       "        ma_cross  TS_Trades     1d_ret  trade_ret  \n",
       "count  81.000000  81.000000  81.000000  80.000000  \n",
       "mean    0.765432   0.012346  -0.001378   0.068159  \n",
       "std     0.426369   1.006154   0.051629   0.334002  \n",
       "min     0.000000  -1.000000  -0.277374  -0.705384  \n",
       "25%     1.000000  -1.000000  -0.016106  -0.061092  \n",
       "50%     1.000000   1.000000   0.000000   0.013600  \n",
       "75%     1.000000   1.000000   0.018153   0.117965  \n",
       "max     1.000000   1.000000   0.189451   1.796846  "
      ]
     },
     "execution_count": 210,
     "metadata": {},
     "output_type": "execute_result"
    }
   ],
   "source": [
    "df_encoded.describe()"
   ]
  },
  {
   "cell_type": "code",
   "execution_count": 211,
   "metadata": {},
   "outputs": [],
   "source": [
    "#### get only action to  train data\n",
    "df_signal = df_encoded.loc[df_encoded['TS_Trades'] == 1]"
   ]
  },
  {
   "cell_type": "code",
   "execution_count": 217,
   "metadata": {},
   "outputs": [
    {
     "data": {
      "text/html": [
       "<div>\n",
       "<style scoped>\n",
       "    .dataframe tbody tr th:only-of-type {\n",
       "        vertical-align: middle;\n",
       "    }\n",
       "\n",
       "    .dataframe tbody tr th {\n",
       "        vertical-align: top;\n",
       "    }\n",
       "\n",
       "    .dataframe thead th {\n",
       "        text-align: right;\n",
       "    }\n",
       "</style>\n",
       "<table border=\"1\" class=\"dataframe\">\n",
       "  <thead>\n",
       "    <tr style=\"text-align: right;\">\n",
       "      <th></th>\n",
       "      <th>open</th>\n",
       "      <th>close</th>\n",
       "      <th>action_price</th>\n",
       "      <th>RSI_14</th>\n",
       "      <th>OBV</th>\n",
       "      <th>OBVe_5</th>\n",
       "      <th>OBVe_35</th>\n",
       "      <th>MA_OBVe_5_35_diff</th>\n",
       "      <th>MAe_5</th>\n",
       "      <th>MAe_15</th>\n",
       "      <th>...</th>\n",
       "      <th>vol_in</th>\n",
       "      <th>ma_cross</th>\n",
       "      <th>signal</th>\n",
       "      <th>TS_Trends</th>\n",
       "      <th>TS_Trades</th>\n",
       "      <th>TS_Entries</th>\n",
       "      <th>TS_Exits</th>\n",
       "      <th>1d_ret</th>\n",
       "      <th>good_signal</th>\n",
       "      <th>trade_ret</th>\n",
       "    </tr>\n",
       "    <tr>\n",
       "      <th>datetime</th>\n",
       "      <th></th>\n",
       "      <th></th>\n",
       "      <th></th>\n",
       "      <th></th>\n",
       "      <th></th>\n",
       "      <th></th>\n",
       "      <th></th>\n",
       "      <th></th>\n",
       "      <th></th>\n",
       "      <th></th>\n",
       "      <th></th>\n",
       "      <th></th>\n",
       "      <th></th>\n",
       "      <th></th>\n",
       "      <th></th>\n",
       "      <th></th>\n",
       "      <th></th>\n",
       "      <th></th>\n",
       "      <th></th>\n",
       "      <th></th>\n",
       "      <th></th>\n",
       "    </tr>\n",
       "  </thead>\n",
       "  <tbody>\n",
       "    <tr>\n",
       "      <th>2018-07-17 07:00:00</th>\n",
       "      <td>478.49</td>\n",
       "      <td>-0.252928</td>\n",
       "      <td>498.89</td>\n",
       "      <td>56.573810</td>\n",
       "      <td>-9.687303e+04</td>\n",
       "      <td>-3.919770e+05</td>\n",
       "      <td>-8.656333e+05</td>\n",
       "      <td>4.736562e+05</td>\n",
       "      <td>469.410690</td>\n",
       "      <td>461.950078</td>\n",
       "      <td>...</td>\n",
       "      <td>1.0</td>\n",
       "      <td>1.0</td>\n",
       "      <td>True</td>\n",
       "      <td>True</td>\n",
       "      <td>1</td>\n",
       "      <td>True</td>\n",
       "      <td>False</td>\n",
       "      <td>-0.039067</td>\n",
       "      <td>False</td>\n",
       "      <td>-0.252734</td>\n",
       "    </tr>\n",
       "    <tr>\n",
       "      <th>2018-12-24 07:00:00</th>\n",
       "      <td>129.03</td>\n",
       "      <td>-0.705875</td>\n",
       "      <td>138.01</td>\n",
       "      <td>65.728103</td>\n",
       "      <td>-6.627091e+06</td>\n",
       "      <td>-7.997529e+06</td>\n",
       "      <td>-8.306285e+06</td>\n",
       "      <td>3.087562e+05</td>\n",
       "      <td>122.347515</td>\n",
       "      <td>109.158453</td>\n",
       "      <td>...</td>\n",
       "      <td>1.0</td>\n",
       "      <td>1.0</td>\n",
       "      <td>True</td>\n",
       "      <td>True</td>\n",
       "      <td>1</td>\n",
       "      <td>True</td>\n",
       "      <td>False</td>\n",
       "      <td>-0.075357</td>\n",
       "      <td>False</td>\n",
       "      <td>-0.705384</td>\n",
       "    </tr>\n",
       "    <tr>\n",
       "      <th>2019-04-08 07:00:00</th>\n",
       "      <td>174.29</td>\n",
       "      <td>0.117279</td>\n",
       "      <td>178.71</td>\n",
       "      <td>77.838957</td>\n",
       "      <td>-6.466501e+06</td>\n",
       "      <td>-7.344605e+06</td>\n",
       "      <td>-7.572910e+06</td>\n",
       "      <td>2.283052e+05</td>\n",
       "      <td>169.482474</td>\n",
       "      <td>156.461695</td>\n",
       "      <td>...</td>\n",
       "      <td>1.0</td>\n",
       "      <td>1.0</td>\n",
       "      <td>True</td>\n",
       "      <td>True</td>\n",
       "      <td>1</td>\n",
       "      <td>True</td>\n",
       "      <td>False</td>\n",
       "      <td>-0.023110</td>\n",
       "      <td>False</td>\n",
       "      <td>0.117217</td>\n",
       "    </tr>\n",
       "    <tr>\n",
       "      <th>2019-05-03 07:00:00</th>\n",
       "      <td>161.82</td>\n",
       "      <td>0.086220</td>\n",
       "      <td>168.10</td>\n",
       "      <td>56.915492</td>\n",
       "      <td>-6.999500e+06</td>\n",
       "      <td>-7.374539e+06</td>\n",
       "      <td>-7.431699e+06</td>\n",
       "      <td>5.715942e+04</td>\n",
       "      <td>162.963891</td>\n",
       "      <td>162.616452</td>\n",
       "      <td>...</td>\n",
       "      <td>1.0</td>\n",
       "      <td>1.0</td>\n",
       "      <td>True</td>\n",
       "      <td>True</td>\n",
       "      <td>1</td>\n",
       "      <td>True</td>\n",
       "      <td>False</td>\n",
       "      <td>-0.026115</td>\n",
       "      <td>False</td>\n",
       "      <td>0.086619</td>\n",
       "    </tr>\n",
       "    <tr>\n",
       "      <th>2019-06-12 07:00:00</th>\n",
       "      <td>244.36</td>\n",
       "      <td>0.063184</td>\n",
       "      <td>261.13</td>\n",
       "      <td>58.592253</td>\n",
       "      <td>-2.880270e+06</td>\n",
       "      <td>-3.043500e+06</td>\n",
       "      <td>-3.910183e+06</td>\n",
       "      <td>8.666826e+05</td>\n",
       "      <td>249.589102</td>\n",
       "      <td>248.869874</td>\n",
       "      <td>...</td>\n",
       "      <td>1.0</td>\n",
       "      <td>1.0</td>\n",
       "      <td>True</td>\n",
       "      <td>True</td>\n",
       "      <td>1</td>\n",
       "      <td>True</td>\n",
       "      <td>False</td>\n",
       "      <td>-0.024739</td>\n",
       "      <td>False</td>\n",
       "      <td>0.063146</td>\n",
       "    </tr>\n",
       "    <tr>\n",
       "      <th>2019-08-05 07:00:00</th>\n",
       "      <td>221.79</td>\n",
       "      <td>-0.192546</td>\n",
       "      <td>233.53</td>\n",
       "      <td>51.492397</td>\n",
       "      <td>-4.017280e+05</td>\n",
       "      <td>-6.134960e+05</td>\n",
       "      <td>-7.989627e+05</td>\n",
       "      <td>1.854666e+05</td>\n",
       "      <td>223.989863</td>\n",
       "      <td>222.604402</td>\n",
       "      <td>...</td>\n",
       "      <td>1.0</td>\n",
       "      <td>1.0</td>\n",
       "      <td>True</td>\n",
       "      <td>True</td>\n",
       "      <td>1</td>\n",
       "      <td>True</td>\n",
       "      <td>False</td>\n",
       "      <td>-0.030917</td>\n",
       "      <td>False</td>\n",
       "      <td>-0.192580</td>\n",
       "    </tr>\n",
       "    <tr>\n",
       "      <th>2020-04-06 07:00:00</th>\n",
       "      <td>142.69</td>\n",
       "      <td>-0.234939</td>\n",
       "      <td>171.32</td>\n",
       "      <td>60.377528</td>\n",
       "      <td>9.184545e+05</td>\n",
       "      <td>-5.539463e+05</td>\n",
       "      <td>-2.369643e+06</td>\n",
       "      <td>1.815696e+06</td>\n",
       "      <td>150.918073</td>\n",
       "      <td>143.120757</td>\n",
       "      <td>...</td>\n",
       "      <td>1.0</td>\n",
       "      <td>1.0</td>\n",
       "      <td>True</td>\n",
       "      <td>True</td>\n",
       "      <td>1</td>\n",
       "      <td>True</td>\n",
       "      <td>False</td>\n",
       "      <td>-0.039108</td>\n",
       "      <td>False</td>\n",
       "      <td>-0.235110</td>\n",
       "    </tr>\n",
       "    <tr>\n",
       "      <th>2020-05-30 07:00:00</th>\n",
       "      <td>220.63</td>\n",
       "      <td>0.226024</td>\n",
       "      <td>243.71</td>\n",
       "      <td>70.079149</td>\n",
       "      <td>1.447566e+06</td>\n",
       "      <td>2.914671e+05</td>\n",
       "      <td>-8.270205e+04</td>\n",
       "      <td>3.741691e+05</td>\n",
       "      <td>223.569300</td>\n",
       "      <td>212.308562</td>\n",
       "      <td>...</td>\n",
       "      <td>1.0</td>\n",
       "      <td>1.0</td>\n",
       "      <td>True</td>\n",
       "      <td>True</td>\n",
       "      <td>1</td>\n",
       "      <td>True</td>\n",
       "      <td>False</td>\n",
       "      <td>-0.049854</td>\n",
       "      <td>False</td>\n",
       "      <td>0.226399</td>\n",
       "    </tr>\n",
       "    <tr>\n",
       "      <th>2020-08-24 07:00:00</th>\n",
       "      <td>390.72</td>\n",
       "      <td>0.043434</td>\n",
       "      <td>407.68</td>\n",
       "      <td>58.197612</td>\n",
       "      <td>7.434391e+06</td>\n",
       "      <td>7.176430e+06</td>\n",
       "      <td>5.310447e+06</td>\n",
       "      <td>1.865983e+06</td>\n",
       "      <td>402.157494</td>\n",
       "      <td>401.397273</td>\n",
       "      <td>...</td>\n",
       "      <td>1.0</td>\n",
       "      <td>1.0</td>\n",
       "      <td>True</td>\n",
       "      <td>True</td>\n",
       "      <td>1</td>\n",
       "      <td>True</td>\n",
       "      <td>False</td>\n",
       "      <td>-0.060758</td>\n",
       "      <td>False</td>\n",
       "      <td>0.043407</td>\n",
       "    </tr>\n",
       "    <tr>\n",
       "      <th>2021-03-09 07:00:00</th>\n",
       "      <td>1833.22</td>\n",
       "      <td>0.185450</td>\n",
       "      <td>1870.50</td>\n",
       "      <td>62.700130</td>\n",
       "      <td>5.099935e+07</td>\n",
       "      <td>4.965216e+07</td>\n",
       "      <td>4.918663e+07</td>\n",
       "      <td>4.655325e+05</td>\n",
       "      <td>1752.044590</td>\n",
       "      <td>1666.341210</td>\n",
       "      <td>...</td>\n",
       "      <td>1.0</td>\n",
       "      <td>1.0</td>\n",
       "      <td>True</td>\n",
       "      <td>True</td>\n",
       "      <td>1</td>\n",
       "      <td>True</td>\n",
       "      <td>False</td>\n",
       "      <td>-0.040214</td>\n",
       "      <td>False</td>\n",
       "      <td>0.185519</td>\n",
       "    </tr>\n",
       "    <tr>\n",
       "      <th>2021-07-04 07:00:00</th>\n",
       "      <td>2226.99</td>\n",
       "      <td>-0.311810</td>\n",
       "      <td>2322.69</td>\n",
       "      <td>52.731076</td>\n",
       "      <td>5.354629e+07</td>\n",
       "      <td>5.256683e+07</td>\n",
       "      <td>5.155435e+07</td>\n",
       "      <td>1.012483e+06</td>\n",
       "      <td>2215.285531</td>\n",
       "      <td>2166.654818</td>\n",
       "      <td>...</td>\n",
       "      <td>1.0</td>\n",
       "      <td>1.0</td>\n",
       "      <td>True</td>\n",
       "      <td>True</td>\n",
       "      <td>1</td>\n",
       "      <td>True</td>\n",
       "      <td>False</td>\n",
       "      <td>-0.054179</td>\n",
       "      <td>False</td>\n",
       "      <td>-0.311812</td>\n",
       "    </tr>\n",
       "    <tr>\n",
       "      <th>2021-09-16 07:00:00</th>\n",
       "      <td>3613.55</td>\n",
       "      <td>0.111915</td>\n",
       "      <td>3567.97</td>\n",
       "      <td>55.233956</td>\n",
       "      <td>6.420399e+07</td>\n",
       "      <td>6.431496e+07</td>\n",
       "      <td>6.330386e+07</td>\n",
       "      <td>1.011104e+06</td>\n",
       "      <td>3496.083013</td>\n",
       "      <td>3475.604512</td>\n",
       "      <td>...</td>\n",
       "      <td>1.0</td>\n",
       "      <td>1.0</td>\n",
       "      <td>True</td>\n",
       "      <td>True</td>\n",
       "      <td>1</td>\n",
       "      <td>True</td>\n",
       "      <td>False</td>\n",
       "      <td>-0.047108</td>\n",
       "      <td>False</td>\n",
       "      <td>0.111915</td>\n",
       "    </tr>\n",
       "  </tbody>\n",
       "</table>\n",
       "<p>12 rows × 24 columns</p>\n",
       "</div>"
      ],
      "text/plain": [
       "                        open     close  action_price     RSI_14           OBV  \\\n",
       "datetime                                                                        \n",
       "2018-07-17 07:00:00   478.49 -0.252928        498.89  56.573810 -9.687303e+04   \n",
       "2018-12-24 07:00:00   129.03 -0.705875        138.01  65.728103 -6.627091e+06   \n",
       "2019-04-08 07:00:00   174.29  0.117279        178.71  77.838957 -6.466501e+06   \n",
       "2019-05-03 07:00:00   161.82  0.086220        168.10  56.915492 -6.999500e+06   \n",
       "2019-06-12 07:00:00   244.36  0.063184        261.13  58.592253 -2.880270e+06   \n",
       "2019-08-05 07:00:00   221.79 -0.192546        233.53  51.492397 -4.017280e+05   \n",
       "2020-04-06 07:00:00   142.69 -0.234939        171.32  60.377528  9.184545e+05   \n",
       "2020-05-30 07:00:00   220.63  0.226024        243.71  70.079149  1.447566e+06   \n",
       "2020-08-24 07:00:00   390.72  0.043434        407.68  58.197612  7.434391e+06   \n",
       "2021-03-09 07:00:00  1833.22  0.185450       1870.50  62.700130  5.099935e+07   \n",
       "2021-07-04 07:00:00  2226.99 -0.311810       2322.69  52.731076  5.354629e+07   \n",
       "2021-09-16 07:00:00  3613.55  0.111915       3567.97  55.233956  6.420399e+07   \n",
       "\n",
       "                           OBVe_5       OBVe_35  MA_OBVe_5_35_diff  \\\n",
       "datetime                                                             \n",
       "2018-07-17 07:00:00 -3.919770e+05 -8.656333e+05       4.736562e+05   \n",
       "2018-12-24 07:00:00 -7.997529e+06 -8.306285e+06       3.087562e+05   \n",
       "2019-04-08 07:00:00 -7.344605e+06 -7.572910e+06       2.283052e+05   \n",
       "2019-05-03 07:00:00 -7.374539e+06 -7.431699e+06       5.715942e+04   \n",
       "2019-06-12 07:00:00 -3.043500e+06 -3.910183e+06       8.666826e+05   \n",
       "2019-08-05 07:00:00 -6.134960e+05 -7.989627e+05       1.854666e+05   \n",
       "2020-04-06 07:00:00 -5.539463e+05 -2.369643e+06       1.815696e+06   \n",
       "2020-05-30 07:00:00  2.914671e+05 -8.270205e+04       3.741691e+05   \n",
       "2020-08-24 07:00:00  7.176430e+06  5.310447e+06       1.865983e+06   \n",
       "2021-03-09 07:00:00  4.965216e+07  4.918663e+07       4.655325e+05   \n",
       "2021-07-04 07:00:00  5.256683e+07  5.155435e+07       1.012483e+06   \n",
       "2021-09-16 07:00:00  6.431496e+07  6.330386e+07       1.011104e+06   \n",
       "\n",
       "                           MAe_5       MAe_15  ...  vol_in  ma_cross  signal  \\\n",
       "datetime                                       ...                             \n",
       "2018-07-17 07:00:00   469.410690   461.950078  ...     1.0       1.0    True   \n",
       "2018-12-24 07:00:00   122.347515   109.158453  ...     1.0       1.0    True   \n",
       "2019-04-08 07:00:00   169.482474   156.461695  ...     1.0       1.0    True   \n",
       "2019-05-03 07:00:00   162.963891   162.616452  ...     1.0       1.0    True   \n",
       "2019-06-12 07:00:00   249.589102   248.869874  ...     1.0       1.0    True   \n",
       "2019-08-05 07:00:00   223.989863   222.604402  ...     1.0       1.0    True   \n",
       "2020-04-06 07:00:00   150.918073   143.120757  ...     1.0       1.0    True   \n",
       "2020-05-30 07:00:00   223.569300   212.308562  ...     1.0       1.0    True   \n",
       "2020-08-24 07:00:00   402.157494   401.397273  ...     1.0       1.0    True   \n",
       "2021-03-09 07:00:00  1752.044590  1666.341210  ...     1.0       1.0    True   \n",
       "2021-07-04 07:00:00  2215.285531  2166.654818  ...     1.0       1.0    True   \n",
       "2021-09-16 07:00:00  3496.083013  3475.604512  ...     1.0       1.0    True   \n",
       "\n",
       "                     TS_Trends  TS_Trades  TS_Entries  TS_Exits    1d_ret  \\\n",
       "datetime                                                                    \n",
       "2018-07-17 07:00:00       True          1        True     False -0.039067   \n",
       "2018-12-24 07:00:00       True          1        True     False -0.075357   \n",
       "2019-04-08 07:00:00       True          1        True     False -0.023110   \n",
       "2019-05-03 07:00:00       True          1        True     False -0.026115   \n",
       "2019-06-12 07:00:00       True          1        True     False -0.024739   \n",
       "2019-08-05 07:00:00       True          1        True     False -0.030917   \n",
       "2020-04-06 07:00:00       True          1        True     False -0.039108   \n",
       "2020-05-30 07:00:00       True          1        True     False -0.049854   \n",
       "2020-08-24 07:00:00       True          1        True     False -0.060758   \n",
       "2021-03-09 07:00:00       True          1        True     False -0.040214   \n",
       "2021-07-04 07:00:00       True          1        True     False -0.054179   \n",
       "2021-09-16 07:00:00       True          1        True     False -0.047108   \n",
       "\n",
       "                     good_signal  trade_ret  \n",
       "datetime                                     \n",
       "2018-07-17 07:00:00        False  -0.252734  \n",
       "2018-12-24 07:00:00        False  -0.705384  \n",
       "2019-04-08 07:00:00        False   0.117217  \n",
       "2019-05-03 07:00:00        False   0.086619  \n",
       "2019-06-12 07:00:00        False   0.063146  \n",
       "2019-08-05 07:00:00        False  -0.192580  \n",
       "2020-04-06 07:00:00        False  -0.235110  \n",
       "2020-05-30 07:00:00        False   0.226399  \n",
       "2020-08-24 07:00:00        False   0.043407  \n",
       "2021-03-09 07:00:00        False   0.185519  \n",
       "2021-07-04 07:00:00        False  -0.311812  \n",
       "2021-09-16 07:00:00        False   0.111915  \n",
       "\n",
       "[12 rows x 24 columns]"
      ]
     },
     "execution_count": 217,
     "metadata": {},
     "output_type": "execute_result"
    }
   ],
   "source": [
    "df_signal.loc[df_signal['1d_ret'] < -0.02]"
   ]
  },
  {
   "cell_type": "code",
   "execution_count": 213,
   "metadata": {},
   "outputs": [
    {
     "data": {
      "image/png": "[encoded data removed]",
      "text/plain": [
       "<Figure size 640x480 with 1 Axes>"
      ]
     },
     "metadata": {},
     "output_type": "display_data"
    }
   ],
   "source": [
    "(df_signal['1d_ret']).plot(kind= 'bar')\n",
    "plt.show()\n",
    "\n",
    "# all 5d_ret < 0 is false signal"
   ]
  },
  {
   "cell_type": "code",
   "execution_count": 214,
   "metadata": {},
   "outputs": [
    {
     "name": "stdout",
     "output_type": "stream",
     "text": [
      "benchmark return= -0.001005676252983839\n"
     ]
    }
   ],
   "source": [
    "benchmark = (df_signal['close'].iloc[-1]) / (df_signal['open'].iloc[0])\n",
    "print(f'benchmark return= {benchmark}')"
   ]
  },
  {
   "cell_type": "code",
   "execution_count": 161,
   "metadata": {},
   "outputs": [
    {
     "data": {
      "text/plain": [
       "Index(['open', 'close', 'action_price', 'RSI_14', 'OBV', 'OBVe_5', 'OBVe_35',\n",
       "       'MA_OBVe_5_35_diff', 'MAe_5', 'MAe_15', 'MAe_5_15_diff', 'EMA_100',\n",
       "       'price_over_ema', 'strength', 'vol_in', 'ma_cross', 'signal',\n",
       "       'TS_Trends', 'TS_Trades', 'TS_Entries', 'TS_Exits', '1d_ret',\n",
       "       'good_signal', 'trade_ret'],\n",
       "      dtype='object')"
      ]
     },
     "execution_count": 161,
     "metadata": {},
     "output_type": "execute_result"
    }
   ],
   "source": [
    "df_signal.columns"
   ]
  },
  {
   "cell_type": "code",
   "execution_count": 162,
   "metadata": {},
   "outputs": [],
   "source": [
    "df_ml = df_signal[['close', 'RSI_14', f'{ma_obv}', f'{ma_cross}', 'strength', 'vol_in', 'ma_cross', 'price_over_ema', 'good_signal']]"
   ]
  },
  {
   "cell_type": "code",
   "execution_count": 164,
   "metadata": {},
   "outputs": [
    {
     "name": "stdout",
     "output_type": "stream",
     "text": [
      "<class 'pandas.core.frame.DataFrame'>\n",
      "DatetimeIndex: 40 entries, 2017-11-19 07:00:00 to 2022-02-05 07:00:00\n",
      "Data columns (total 9 columns):\n",
      " #   Column             Non-Null Count  Dtype  \n",
      "---  ------             --------------  -----  \n",
      " 0   close              40 non-null     float64\n",
      " 1   RSI_14             40 non-null     float64\n",
      " 2   MA_OBVe_5_35_diff  40 non-null     float64\n",
      " 3   MAe_5_15_diff      40 non-null     float64\n",
      " 4   strength           40 non-null     float64\n",
      " 5   vol_in             40 non-null     float64\n",
      " 6   ma_cross           40 non-null     float64\n",
      " 7   price_over_ema     40 non-null     bool   \n",
      " 8   good_signal        40 non-null     bool   \n",
      "dtypes: bool(2), float64(7)\n",
      "memory usage: 2.6 KB\n"
     ]
    }
   ],
   "source": [
    "df_ml = df_ml.dropna()\n",
    "df_ml.info()"
   ]
  },
  {
   "cell_type": "code",
   "execution_count": 165,
   "metadata": {},
   "outputs": [
    {
     "data": {
      "text/html": [
       "<div>\n",
       "<style scoped>\n",
       "    .dataframe tbody tr th:only-of-type {\n",
       "        vertical-align: middle;\n",
       "    }\n",
       "\n",
       "    .dataframe tbody tr th {\n",
       "        vertical-align: top;\n",
       "    }\n",
       "\n",
       "    .dataframe thead th {\n",
       "        text-align: right;\n",
       "    }\n",
       "</style>\n",
       "<table border=\"1\" class=\"dataframe\">\n",
       "  <thead>\n",
       "    <tr style=\"text-align: right;\">\n",
       "      <th></th>\n",
       "      <th>close</th>\n",
       "      <th>RSI_14</th>\n",
       "      <th>MA_OBVe_5_35_diff</th>\n",
       "      <th>MAe_5_15_diff</th>\n",
       "      <th>strength</th>\n",
       "      <th>vol_in</th>\n",
       "      <th>ma_cross</th>\n",
       "    </tr>\n",
       "  </thead>\n",
       "  <tbody>\n",
       "    <tr>\n",
       "      <th>count</th>\n",
       "      <td>40.000000</td>\n",
       "      <td>40.000000</td>\n",
       "      <td>40.000000</td>\n",
       "      <td>40.000000</td>\n",
       "      <td>40.0</td>\n",
       "      <td>40.0</td>\n",
       "      <td>40.0</td>\n",
       "    </tr>\n",
       "    <tr>\n",
       "      <th>mean</th>\n",
       "      <td>0.044542</td>\n",
       "      <td>58.983793</td>\n",
       "      <td>-1.854111</td>\n",
       "      <td>-6.014054</td>\n",
       "      <td>1.0</td>\n",
       "      <td>1.0</td>\n",
       "      <td>1.0</td>\n",
       "    </tr>\n",
       "    <tr>\n",
       "      <th>std</th>\n",
       "      <td>0.378659</td>\n",
       "      <td>7.031975</td>\n",
       "      <td>6.582692</td>\n",
       "      <td>24.104287</td>\n",
       "      <td>0.0</td>\n",
       "      <td>0.0</td>\n",
       "      <td>0.0</td>\n",
       "    </tr>\n",
       "    <tr>\n",
       "      <th>min</th>\n",
       "      <td>-0.705875</td>\n",
       "      <td>50.430895</td>\n",
       "      <td>-35.434161</td>\n",
       "      <td>-141.528870</td>\n",
       "      <td>1.0</td>\n",
       "      <td>1.0</td>\n",
       "      <td>1.0</td>\n",
       "    </tr>\n",
       "    <tr>\n",
       "      <th>25%</th>\n",
       "      <td>-0.000103</td>\n",
       "      <td>53.660652</td>\n",
       "      <td>-0.879516</td>\n",
       "      <td>-2.245382</td>\n",
       "      <td>1.0</td>\n",
       "      <td>1.0</td>\n",
       "      <td>1.0</td>\n",
       "    </tr>\n",
       "    <tr>\n",
       "      <th>50%</th>\n",
       "      <td>0.048258</td>\n",
       "      <td>57.045497</td>\n",
       "      <td>-0.241911</td>\n",
       "      <td>-0.736668</td>\n",
       "      <td>1.0</td>\n",
       "      <td>1.0</td>\n",
       "      <td>1.0</td>\n",
       "    </tr>\n",
       "    <tr>\n",
       "      <th>75%</th>\n",
       "      <td>0.113256</td>\n",
       "      <td>61.312218</td>\n",
       "      <td>0.222387</td>\n",
       "      <td>0.516061</td>\n",
       "      <td>1.0</td>\n",
       "      <td>1.0</td>\n",
       "      <td>1.0</td>\n",
       "    </tr>\n",
       "    <tr>\n",
       "      <th>max</th>\n",
       "      <td>2.054842</td>\n",
       "      <td>77.838957</td>\n",
       "      <td>2.463166</td>\n",
       "      <td>15.710783</td>\n",
       "      <td>1.0</td>\n",
       "      <td>1.0</td>\n",
       "      <td>1.0</td>\n",
       "    </tr>\n",
       "  </tbody>\n",
       "</table>\n",
       "</div>"
      ],
      "text/plain": [
       "           close     RSI_14  MA_OBVe_5_35_diff  MAe_5_15_diff  strength  \\\n",
       "count  40.000000  40.000000          40.000000      40.000000      40.0   \n",
       "mean    0.044542  58.983793          -1.854111      -6.014054       1.0   \n",
       "std     0.378659   7.031975           6.582692      24.104287       0.0   \n",
       "min    -0.705875  50.430895         -35.434161    -141.528870       1.0   \n",
       "25%    -0.000103  53.660652          -0.879516      -2.245382       1.0   \n",
       "50%     0.048258  57.045497          -0.241911      -0.736668       1.0   \n",
       "75%     0.113256  61.312218           0.222387       0.516061       1.0   \n",
       "max     2.054842  77.838957           2.463166      15.710783       1.0   \n",
       "\n",
       "       vol_in  ma_cross  \n",
       "count    40.0      40.0  \n",
       "mean      1.0       1.0  \n",
       "std       0.0       0.0  \n",
       "min       1.0       1.0  \n",
       "25%       1.0       1.0  \n",
       "50%       1.0       1.0  \n",
       "75%       1.0       1.0  \n",
       "max       1.0       1.0  "
      ]
     },
     "execution_count": 165,
     "metadata": {},
     "output_type": "execute_result"
    }
   ],
   "source": [
    "df_ml.describe()"
   ]
  },
  {
   "cell_type": "code",
   "execution_count": 181,
   "metadata": {},
   "outputs": [
    {
     "data": {
      "text/plain": [
       "16"
      ]
     },
     "execution_count": 181,
     "metadata": {},
     "output_type": "execute_result"
    }
   ],
   "source": [
    "len(df_signal.loc[(df_signal[f'{ma_obv}'] < -0) & (df_signal['trade_ret'] > 0)])"
   ]
  },
  {
   "cell_type": "code",
   "execution_count": null,
   "metadata": {},
   "outputs": [],
   "source": [
    "len(df_encoded.loc['trade_ret'])"
   ]
  },
  {
   "cell_type": "code",
   "execution_count": 93,
   "metadata": {},
   "outputs": [],
   "source": [
    "from sklearn.model_selection import train_test_split\n",
    "from sklearn.ensemble import RandomForestClassifier\n",
    "from sklearn.metrics import confusion_matrix, plot_confusion_matrix"
   ]
  },
  {
   "cell_type": "code",
   "execution_count": 94,
   "metadata": {},
   "outputs": [],
   "source": [
    "# X y เอาแค่ถึง  2020 ไม่เอา 2021 เพราะเก็บ 2021: ไปเป็น livebacktest"
   ]
  },
  {
   "cell_type": "code",
   "execution_count": 95,
   "metadata": {},
   "outputs": [],
   "source": [
    "X = df_ml.loc[: '2020'].iloc[:, :-1]"
   ]
  },
  {
   "cell_type": "code",
   "execution_count": 96,
   "metadata": {},
   "outputs": [],
   "source": [
    "y = df_ml.loc[: '2020'].iloc[:, -1]"
   ]
  },
  {
   "cell_type": "code",
   "execution_count": 97,
   "metadata": {},
   "outputs": [],
   "source": [
    "X_train, X_test, y_train, y_test = train_test_split(X, y, test_size= 0.20, random_state= 10)"
   ]
  },
  {
   "cell_type": "code",
   "execution_count": 98,
   "metadata": {},
   "outputs": [],
   "source": [
    "rf = RandomForestClassifier(n_estimators= 100, max_depth= 3, random_state= 22)\n",
    "rf.fit(X_train, y_train)\n",
    "y_pred = rf.predict(X_test)"
   ]
  },
  {
   "cell_type": "code",
   "execution_count": 99,
   "metadata": {},
   "outputs": [
    {
     "data": {
      "text/plain": [
       "array([[5, 0],\n",
       "       [2, 0]], dtype=int64)"
      ]
     },
     "execution_count": 99,
     "metadata": {},
     "output_type": "execute_result"
    }
   ],
   "source": [
    "confusion_matrix(y_test, y_pred)"
   ]
  },
  {
   "cell_type": "code",
   "execution_count": 100,
   "metadata": {},
   "outputs": [
    {
     "data": {
      "image/png": "[encoded data removed]",
      "text/plain": [
       "<Figure size 640x480 with 2 Axes>"
      ]
     },
     "metadata": {},
     "output_type": "display_data"
    }
   ],
   "source": [
    "plot_confusion_matrix(rf, X_test, y_test)\n",
    "plt.show()\n",
    "\n",
    "#### its a little bit the avoid false signal, 1:3 screen out,\n",
    "#### but its still have 2:3 of false signal here\n",
    "####### next method try to use others feature to predict false signal, because all of these feature its related to signal"
   ]
  },
  {
   "cell_type": "code",
   "execution_count": 101,
   "metadata": {},
   "outputs": [],
   "source": [
    "compare = pd.DataFrame(y_test)\n",
    "compare['predict'] = y_pred\n",
    "compare = compare * 1"
   ]
  },
  {
   "cell_type": "code",
   "execution_count": 102,
   "metadata": {},
   "outputs": [
    {
     "name": "stdout",
     "output_type": "stream",
     "text": [
      "accuracy prediction 0.7142857142857143 %\n"
     ]
    }
   ],
   "source": [
    "acc = (compare['predict'] == compare['good_signal']).sum() / len(compare)\n",
    "print(f'accuracy prediction {acc} %')\n",
    "# ถูก 4 จาก 16 "
   ]
  },
  {
   "cell_type": "markdown",
   "metadata": {},
   "source": [
    "# live_test"
   ]
  },
  {
   "cell_type": "markdown",
   "metadata": {},
   "source": [
    "#### ต้องใช้signal ธรรมดามาสร้าง action เพื่อฟีลเตอร์order เข้ามาก่อน และใช้ ML เป็นตัวตัดสินใจสุดท้าย ว่าจะทำอะไร  \n",
    "##### ไม่สามารถที่จะใช้ ML มากำหนด action เพียวๆในทุกวันได้"
   ]
  },
  {
   "cell_type": "markdown",
   "metadata": {},
   "source": [
    "prepare data for live predict and backtest"
   ]
  },
  {
   "cell_type": "code",
   "execution_count": 103,
   "metadata": {},
   "outputs": [
    {
     "data": {
      "text/plain": [
       "Index(['close', 'RSI_14', 'MA_OBVe_5_35_diff', 'MAe_5_15_diff', 'strength',\n",
       "       'vol_in', 'ma_cross', 'price_over_ema', 'good_signal'],\n",
       "      dtype='object')"
      ]
     },
     "execution_count": 103,
     "metadata": {},
     "output_type": "execute_result"
    }
   ],
   "source": [
    "df_ml.columns"
   ]
  },
  {
   "cell_type": "code",
   "execution_count": 104,
   "metadata": {},
   "outputs": [],
   "source": [
    "### ดึงข้อมูลในส่วนที่เป็น live test มา\n",
    "df_live = df_ml.loc['2021': ]#.iloc[:]"
   ]
  },
  {
   "cell_type": "code",
   "execution_count": 105,
   "metadata": {},
   "outputs": [
    {
     "data": {
      "text/html": [
       "<div>\n",
       "<style scoped>\n",
       "    .dataframe tbody tr th:only-of-type {\n",
       "        vertical-align: middle;\n",
       "    }\n",
       "\n",
       "    .dataframe tbody tr th {\n",
       "        vertical-align: top;\n",
       "    }\n",
       "\n",
       "    .dataframe thead th {\n",
       "        text-align: right;\n",
       "    }\n",
       "</style>\n",
       "<table border=\"1\" class=\"dataframe\">\n",
       "  <thead>\n",
       "    <tr style=\"text-align: right;\">\n",
       "      <th></th>\n",
       "      <th>close</th>\n",
       "      <th>RSI_14</th>\n",
       "      <th>MA_OBVe_5_35_diff</th>\n",
       "      <th>MAe_5_15_diff</th>\n",
       "      <th>strength</th>\n",
       "      <th>vol_in</th>\n",
       "      <th>ma_cross</th>\n",
       "      <th>price_over_ema</th>\n",
       "      <th>good_signal</th>\n",
       "    </tr>\n",
       "    <tr>\n",
       "      <th>datetime</th>\n",
       "      <th></th>\n",
       "      <th></th>\n",
       "      <th></th>\n",
       "      <th></th>\n",
       "      <th></th>\n",
       "      <th></th>\n",
       "      <th></th>\n",
       "      <th></th>\n",
       "      <th></th>\n",
       "    </tr>\n",
       "  </thead>\n",
       "  <tbody>\n",
       "    <tr>\n",
       "      <th>2021-03-09 07:00:00</th>\n",
       "      <td>2.054842</td>\n",
       "      <td>62.700130</td>\n",
       "      <td>-0.843087</td>\n",
       "      <td>15.710783</td>\n",
       "      <td>1.0</td>\n",
       "      <td>1.0</td>\n",
       "      <td>1.0</td>\n",
       "      <td>True</td>\n",
       "      <td>False</td>\n",
       "    </tr>\n",
       "    <tr>\n",
       "      <th>2021-03-30 07:00:00</th>\n",
       "      <td>-0.016065</td>\n",
       "      <td>58.031449</td>\n",
       "      <td>-0.631707</td>\n",
       "      <td>-0.676977</td>\n",
       "      <td>1.0</td>\n",
       "      <td>1.0</td>\n",
       "      <td>1.0</td>\n",
       "      <td>True</td>\n",
       "      <td>True</td>\n",
       "    </tr>\n",
       "    <tr>\n",
       "      <th>2021-07-04 07:00:00</th>\n",
       "      <td>0.262016</td>\n",
       "      <td>52.731076</td>\n",
       "      <td>4.905334</td>\n",
       "      <td>0.756625</td>\n",
       "      <td>1.0</td>\n",
       "      <td>1.0</td>\n",
       "      <td>1.0</td>\n",
       "      <td>False</td>\n",
       "      <td>False</td>\n",
       "    </tr>\n",
       "    <tr>\n",
       "      <th>2021-07-06 07:00:00</th>\n",
       "      <td>-0.000082</td>\n",
       "      <td>52.588841</td>\n",
       "      <td>0.194797</td>\n",
       "      <td>0.181408</td>\n",
       "      <td>1.0</td>\n",
       "      <td>1.0</td>\n",
       "      <td>1.0</td>\n",
       "      <td>False</td>\n",
       "      <td>False</td>\n",
       "    </tr>\n",
       "    <tr>\n",
       "      <th>2021-07-24 07:00:00</th>\n",
       "      <td>-0.059311</td>\n",
       "      <td>55.582263</td>\n",
       "      <td>-0.917493</td>\n",
       "      <td>-0.268974</td>\n",
       "      <td>1.0</td>\n",
       "      <td>1.0</td>\n",
       "      <td>1.0</td>\n",
       "      <td>False</td>\n",
       "      <td>True</td>\n",
       "    </tr>\n",
       "    <tr>\n",
       "      <th>2021-09-16 07:00:00</th>\n",
       "      <td>0.633130</td>\n",
       "      <td>55.233956</td>\n",
       "      <td>9.130326</td>\n",
       "      <td>-0.512410</td>\n",
       "      <td>1.0</td>\n",
       "      <td>1.0</td>\n",
       "      <td>1.0</td>\n",
       "      <td>True</td>\n",
       "      <td>False</td>\n",
       "    </tr>\n",
       "    <tr>\n",
       "      <th>2021-10-03 07:00:00</th>\n",
       "      <td>-0.042111</td>\n",
       "      <td>56.489097</td>\n",
       "      <td>-0.909747</td>\n",
       "      <td>3.353517</td>\n",
       "      <td>1.0</td>\n",
       "      <td>1.0</td>\n",
       "      <td>1.0</td>\n",
       "      <td>True</td>\n",
       "      <td>True</td>\n",
       "    </tr>\n",
       "    <tr>\n",
       "      <th>2022-02-05 07:00:00</th>\n",
       "      <td>-0.118523</td>\n",
       "      <td>54.265423</td>\n",
       "      <td>0.515413</td>\n",
       "      <td>-0.130389</td>\n",
       "      <td>1.0</td>\n",
       "      <td>1.0</td>\n",
       "      <td>1.0</td>\n",
       "      <td>False</td>\n",
       "      <td>False</td>\n",
       "    </tr>\n",
       "  </tbody>\n",
       "</table>\n",
       "</div>"
      ],
      "text/plain": [
       "                        close     RSI_14  MA_OBVe_5_35_diff  MAe_5_15_diff  \\\n",
       "datetime                                                                     \n",
       "2021-03-09 07:00:00  2.054842  62.700130          -0.843087      15.710783   \n",
       "2021-03-30 07:00:00 -0.016065  58.031449          -0.631707      -0.676977   \n",
       "2021-07-04 07:00:00  0.262016  52.731076           4.905334       0.756625   \n",
       "2021-07-06 07:00:00 -0.000082  52.588841           0.194797       0.181408   \n",
       "2021-07-24 07:00:00 -0.059311  55.582263          -0.917493      -0.268974   \n",
       "2021-09-16 07:00:00  0.633130  55.233956           9.130326      -0.512410   \n",
       "2021-10-03 07:00:00 -0.042111  56.489097          -0.909747       3.353517   \n",
       "2022-02-05 07:00:00 -0.118523  54.265423           0.515413      -0.130389   \n",
       "\n",
       "                     strength  vol_in  ma_cross  price_over_ema  good_signal  \n",
       "datetime                                                                      \n",
       "2021-03-09 07:00:00       1.0     1.0       1.0            True        False  \n",
       "2021-03-30 07:00:00       1.0     1.0       1.0            True         True  \n",
       "2021-07-04 07:00:00       1.0     1.0       1.0           False        False  \n",
       "2021-07-06 07:00:00       1.0     1.0       1.0           False        False  \n",
       "2021-07-24 07:00:00       1.0     1.0       1.0           False         True  \n",
       "2021-09-16 07:00:00       1.0     1.0       1.0            True        False  \n",
       "2021-10-03 07:00:00       1.0     1.0       1.0            True         True  \n",
       "2022-02-05 07:00:00       1.0     1.0       1.0           False        False  "
      ]
     },
     "execution_count": 105,
     "metadata": {},
     "output_type": "execute_result"
    }
   ],
   "source": [
    "df_live"
   ]
  },
  {
   "cell_type": "code",
   "execution_count": 106,
   "metadata": {},
   "outputs": [],
   "source": [
    "# เอาราคามา join เข้ากับ dataframe ที่มี feature (X)\n",
    "df_live = df_live.join(df_signal['action_price'])"
   ]
  },
  {
   "cell_type": "markdown",
   "metadata": {},
   "source": [
    "create new dataframe with only nesscesary column"
   ]
  },
  {
   "cell_type": "code",
   "execution_count": 107,
   "metadata": {},
   "outputs": [
    {
     "name": "stdout",
     "output_type": "stream",
     "text": [
      "<class 'pandas.core.frame.DataFrame'>\n",
      "DatetimeIndex: 8 entries, 2021-03-09 07:00:00 to 2022-02-05 07:00:00\n",
      "Data columns (total 10 columns):\n",
      " #   Column             Non-Null Count  Dtype  \n",
      "---  ------             --------------  -----  \n",
      " 0   close              8 non-null      float64\n",
      " 1   RSI_14             8 non-null      float64\n",
      " 2   MA_OBVe_5_35_diff  8 non-null      float64\n",
      " 3   MAe_5_15_diff      8 non-null      float64\n",
      " 4   strength           8 non-null      float64\n",
      " 5   vol_in             8 non-null      float64\n",
      " 6   ma_cross           8 non-null      float64\n",
      " 7   price_over_ema     8 non-null      bool   \n",
      " 8   good_signal        8 non-null      bool   \n",
      " 9   action_price       8 non-null      float64\n",
      "dtypes: bool(2), float64(8)\n",
      "memory usage: 892.0 bytes\n"
     ]
    }
   ],
   "source": [
    "df_live.info()"
   ]
  },
  {
   "cell_type": "code",
   "execution_count": 108,
   "metadata": {},
   "outputs": [],
   "source": [
    "#set X and y test\n",
    "\n",
    "X_live_test = df_live.iloc[:, :-2]\n",
    "y_live_test = df_live.iloc[:, -2]"
   ]
  },
  {
   "cell_type": "code",
   "execution_count": 109,
   "metadata": {},
   "outputs": [
    {
     "data": {
      "text/html": [
       "<div>\n",
       "<style scoped>\n",
       "    .dataframe tbody tr th:only-of-type {\n",
       "        vertical-align: middle;\n",
       "    }\n",
       "\n",
       "    .dataframe tbody tr th {\n",
       "        vertical-align: top;\n",
       "    }\n",
       "\n",
       "    .dataframe thead th {\n",
       "        text-align: right;\n",
       "    }\n",
       "</style>\n",
       "<table border=\"1\" class=\"dataframe\">\n",
       "  <thead>\n",
       "    <tr style=\"text-align: right;\">\n",
       "      <th></th>\n",
       "      <th>close</th>\n",
       "      <th>RSI_14</th>\n",
       "      <th>MA_OBVe_5_35_diff</th>\n",
       "      <th>MAe_5_15_diff</th>\n",
       "      <th>strength</th>\n",
       "      <th>vol_in</th>\n",
       "      <th>ma_cross</th>\n",
       "      <th>price_over_ema</th>\n",
       "    </tr>\n",
       "    <tr>\n",
       "      <th>datetime</th>\n",
       "      <th></th>\n",
       "      <th></th>\n",
       "      <th></th>\n",
       "      <th></th>\n",
       "      <th></th>\n",
       "      <th></th>\n",
       "      <th></th>\n",
       "      <th></th>\n",
       "    </tr>\n",
       "  </thead>\n",
       "  <tbody>\n",
       "    <tr>\n",
       "      <th>2021-03-09 07:00:00</th>\n",
       "      <td>2.054842</td>\n",
       "      <td>62.700130</td>\n",
       "      <td>-0.843087</td>\n",
       "      <td>15.710783</td>\n",
       "      <td>1.0</td>\n",
       "      <td>1.0</td>\n",
       "      <td>1.0</td>\n",
       "      <td>True</td>\n",
       "    </tr>\n",
       "    <tr>\n",
       "      <th>2021-03-30 07:00:00</th>\n",
       "      <td>-0.016065</td>\n",
       "      <td>58.031449</td>\n",
       "      <td>-0.631707</td>\n",
       "      <td>-0.676977</td>\n",
       "      <td>1.0</td>\n",
       "      <td>1.0</td>\n",
       "      <td>1.0</td>\n",
       "      <td>True</td>\n",
       "    </tr>\n",
       "    <tr>\n",
       "      <th>2021-07-04 07:00:00</th>\n",
       "      <td>0.262016</td>\n",
       "      <td>52.731076</td>\n",
       "      <td>4.905334</td>\n",
       "      <td>0.756625</td>\n",
       "      <td>1.0</td>\n",
       "      <td>1.0</td>\n",
       "      <td>1.0</td>\n",
       "      <td>False</td>\n",
       "    </tr>\n",
       "    <tr>\n",
       "      <th>2021-07-06 07:00:00</th>\n",
       "      <td>-0.000082</td>\n",
       "      <td>52.588841</td>\n",
       "      <td>0.194797</td>\n",
       "      <td>0.181408</td>\n",
       "      <td>1.0</td>\n",
       "      <td>1.0</td>\n",
       "      <td>1.0</td>\n",
       "      <td>False</td>\n",
       "    </tr>\n",
       "    <tr>\n",
       "      <th>2021-07-24 07:00:00</th>\n",
       "      <td>-0.059311</td>\n",
       "      <td>55.582263</td>\n",
       "      <td>-0.917493</td>\n",
       "      <td>-0.268974</td>\n",
       "      <td>1.0</td>\n",
       "      <td>1.0</td>\n",
       "      <td>1.0</td>\n",
       "      <td>False</td>\n",
       "    </tr>\n",
       "    <tr>\n",
       "      <th>2021-09-16 07:00:00</th>\n",
       "      <td>0.633130</td>\n",
       "      <td>55.233956</td>\n",
       "      <td>9.130326</td>\n",
       "      <td>-0.512410</td>\n",
       "      <td>1.0</td>\n",
       "      <td>1.0</td>\n",
       "      <td>1.0</td>\n",
       "      <td>True</td>\n",
       "    </tr>\n",
       "    <tr>\n",
       "      <th>2021-10-03 07:00:00</th>\n",
       "      <td>-0.042111</td>\n",
       "      <td>56.489097</td>\n",
       "      <td>-0.909747</td>\n",
       "      <td>3.353517</td>\n",
       "      <td>1.0</td>\n",
       "      <td>1.0</td>\n",
       "      <td>1.0</td>\n",
       "      <td>True</td>\n",
       "    </tr>\n",
       "    <tr>\n",
       "      <th>2022-02-05 07:00:00</th>\n",
       "      <td>-0.118523</td>\n",
       "      <td>54.265423</td>\n",
       "      <td>0.515413</td>\n",
       "      <td>-0.130389</td>\n",
       "      <td>1.0</td>\n",
       "      <td>1.0</td>\n",
       "      <td>1.0</td>\n",
       "      <td>False</td>\n",
       "    </tr>\n",
       "  </tbody>\n",
       "</table>\n",
       "</div>"
      ],
      "text/plain": [
       "                        close     RSI_14  MA_OBVe_5_35_diff  MAe_5_15_diff  \\\n",
       "datetime                                                                     \n",
       "2021-03-09 07:00:00  2.054842  62.700130          -0.843087      15.710783   \n",
       "2021-03-30 07:00:00 -0.016065  58.031449          -0.631707      -0.676977   \n",
       "2021-07-04 07:00:00  0.262016  52.731076           4.905334       0.756625   \n",
       "2021-07-06 07:00:00 -0.000082  52.588841           0.194797       0.181408   \n",
       "2021-07-24 07:00:00 -0.059311  55.582263          -0.917493      -0.268974   \n",
       "2021-09-16 07:00:00  0.633130  55.233956           9.130326      -0.512410   \n",
       "2021-10-03 07:00:00 -0.042111  56.489097          -0.909747       3.353517   \n",
       "2022-02-05 07:00:00 -0.118523  54.265423           0.515413      -0.130389   \n",
       "\n",
       "                     strength  vol_in  ma_cross  price_over_ema  \n",
       "datetime                                                         \n",
       "2021-03-09 07:00:00       1.0     1.0       1.0            True  \n",
       "2021-03-30 07:00:00       1.0     1.0       1.0            True  \n",
       "2021-07-04 07:00:00       1.0     1.0       1.0           False  \n",
       "2021-07-06 07:00:00       1.0     1.0       1.0           False  \n",
       "2021-07-24 07:00:00       1.0     1.0       1.0           False  \n",
       "2021-09-16 07:00:00       1.0     1.0       1.0            True  \n",
       "2021-10-03 07:00:00       1.0     1.0       1.0            True  \n",
       "2022-02-05 07:00:00       1.0     1.0       1.0           False  "
      ]
     },
     "execution_count": 109,
     "metadata": {},
     "output_type": "execute_result"
    }
   ],
   "source": [
    "X_live_test"
   ]
  },
  {
   "cell_type": "code",
   "execution_count": 110,
   "metadata": {},
   "outputs": [],
   "source": [
    "y_live_pred = rf.predict(X_live_test)"
   ]
  },
  {
   "cell_type": "code",
   "execution_count": 111,
   "metadata": {},
   "outputs": [
    {
     "data": {
      "image/png": "[encoded data removed]",
      "text/plain": [
       "<Figure size 640x480 with 2 Axes>"
      ]
     },
     "metadata": {},
     "output_type": "display_data"
    }
   ],
   "source": [
    "plot_confusion_matrix(rf, X_live_test, y_live_test)\n",
    "plt.show()"
   ]
  },
  {
   "cell_type": "markdown",
   "metadata": {},
   "source": [
    "prepare data for vectorbt เอาราคาทุกวันและ ค่าy ที่predict ได้มาaction เริ่มตั้งแต่วันแรกของtest data (live) เพื่อมาลองเทส"
   ]
  },
  {
   "cell_type": "code",
   "execution_count": 112,
   "metadata": {},
   "outputs": [],
   "source": [
    "df_live_backtest = X_live_test\n",
    "df_live_backtest['action_price'] = df_live['action_price']\n",
    "df_live_backtest['predict'] = y_live_pred\n",
    "\n",
    "#### from y_live_pred, try the original signal from y_live_test\n",
    "#df_live_backtest['predict'] = y_live_test\n",
    "#df_live_backtest['ret'] = df['close'].pct_change().shift(-1)\n",
    "#df_live_backtest['profit'] = df_live_backtest['ret'] > 0"
   ]
  },
  {
   "cell_type": "code",
   "execution_count": 113,
   "metadata": {},
   "outputs": [
    {
     "data": {
      "text/html": [
       "<div>\n",
       "<style scoped>\n",
       "    .dataframe tbody tr th:only-of-type {\n",
       "        vertical-align: middle;\n",
       "    }\n",
       "\n",
       "    .dataframe tbody tr th {\n",
       "        vertical-align: top;\n",
       "    }\n",
       "\n",
       "    .dataframe thead th {\n",
       "        text-align: right;\n",
       "    }\n",
       "</style>\n",
       "<table border=\"1\" class=\"dataframe\">\n",
       "  <thead>\n",
       "    <tr style=\"text-align: right;\">\n",
       "      <th></th>\n",
       "      <th>TS_Trends</th>\n",
       "      <th>TS_Trades</th>\n",
       "      <th>TS_Entries</th>\n",
       "      <th>TS_Exits</th>\n",
       "    </tr>\n",
       "    <tr>\n",
       "      <th>datetime</th>\n",
       "      <th></th>\n",
       "      <th></th>\n",
       "      <th></th>\n",
       "      <th></th>\n",
       "    </tr>\n",
       "  </thead>\n",
       "  <tbody>\n",
       "    <tr>\n",
       "      <th>2021-03-09 07:00:00</th>\n",
       "      <td>False</td>\n",
       "      <td>0</td>\n",
       "      <td>False</td>\n",
       "      <td>False</td>\n",
       "    </tr>\n",
       "    <tr>\n",
       "      <th>2021-03-30 07:00:00</th>\n",
       "      <td>False</td>\n",
       "      <td>0</td>\n",
       "      <td>False</td>\n",
       "      <td>False</td>\n",
       "    </tr>\n",
       "    <tr>\n",
       "      <th>2021-07-04 07:00:00</th>\n",
       "      <td>False</td>\n",
       "      <td>0</td>\n",
       "      <td>False</td>\n",
       "      <td>False</td>\n",
       "    </tr>\n",
       "    <tr>\n",
       "      <th>2021-07-06 07:00:00</th>\n",
       "      <td>False</td>\n",
       "      <td>0</td>\n",
       "      <td>False</td>\n",
       "      <td>False</td>\n",
       "    </tr>\n",
       "    <tr>\n",
       "      <th>2021-07-24 07:00:00</th>\n",
       "      <td>False</td>\n",
       "      <td>0</td>\n",
       "      <td>False</td>\n",
       "      <td>False</td>\n",
       "    </tr>\n",
       "    <tr>\n",
       "      <th>2021-09-16 07:00:00</th>\n",
       "      <td>False</td>\n",
       "      <td>0</td>\n",
       "      <td>False</td>\n",
       "      <td>False</td>\n",
       "    </tr>\n",
       "    <tr>\n",
       "      <th>2021-10-03 07:00:00</th>\n",
       "      <td>False</td>\n",
       "      <td>0</td>\n",
       "      <td>False</td>\n",
       "      <td>False</td>\n",
       "    </tr>\n",
       "    <tr>\n",
       "      <th>2022-02-05 07:00:00</th>\n",
       "      <td>False</td>\n",
       "      <td>0</td>\n",
       "      <td>False</td>\n",
       "      <td>False</td>\n",
       "    </tr>\n",
       "  </tbody>\n",
       "</table>\n",
       "</div>"
      ],
      "text/plain": [
       "                     TS_Trends  TS_Trades  TS_Entries  TS_Exits\n",
       "datetime                                                       \n",
       "2021-03-09 07:00:00      False          0       False     False\n",
       "2021-03-30 07:00:00      False          0       False     False\n",
       "2021-07-04 07:00:00      False          0       False     False\n",
       "2021-07-06 07:00:00      False          0       False     False\n",
       "2021-07-24 07:00:00      False          0       False     False\n",
       "2021-09-16 07:00:00      False          0       False     False\n",
       "2021-10-03 07:00:00      False          0       False     False\n",
       "2022-02-05 07:00:00      False          0       False     False"
      ]
     },
     "execution_count": 113,
     "metadata": {},
     "output_type": "execute_result"
    }
   ],
   "source": [
    "signal_vectorbt = df_live_backtest.ta.tsignals(df_live_backtest['predict'], asbool= True, append= True)\n",
    "signal_vectorbt"
   ]
  },
  {
   "cell_type": "code",
   "execution_count": 114,
   "metadata": {},
   "outputs": [
    {
     "data": {
      "text/html": [
       "<div>\n",
       "<style scoped>\n",
       "    .dataframe tbody tr th:only-of-type {\n",
       "        vertical-align: middle;\n",
       "    }\n",
       "\n",
       "    .dataframe tbody tr th {\n",
       "        vertical-align: top;\n",
       "    }\n",
       "\n",
       "    .dataframe thead th {\n",
       "        text-align: right;\n",
       "    }\n",
       "</style>\n",
       "<table border=\"1\" class=\"dataframe\">\n",
       "  <thead>\n",
       "    <tr style=\"text-align: right;\">\n",
       "      <th></th>\n",
       "      <th>close</th>\n",
       "      <th>RSI_14</th>\n",
       "      <th>MA_OBVe_5_35_diff</th>\n",
       "      <th>MAe_5_15_diff</th>\n",
       "      <th>strength</th>\n",
       "      <th>vol_in</th>\n",
       "      <th>ma_cross</th>\n",
       "      <th>price_over_ema</th>\n",
       "      <th>action_price</th>\n",
       "      <th>predict</th>\n",
       "      <th>TS_Trends</th>\n",
       "      <th>TS_Trades</th>\n",
       "      <th>TS_Entries</th>\n",
       "      <th>TS_Exits</th>\n",
       "    </tr>\n",
       "    <tr>\n",
       "      <th>datetime</th>\n",
       "      <th></th>\n",
       "      <th></th>\n",
       "      <th></th>\n",
       "      <th></th>\n",
       "      <th></th>\n",
       "      <th></th>\n",
       "      <th></th>\n",
       "      <th></th>\n",
       "      <th></th>\n",
       "      <th></th>\n",
       "      <th></th>\n",
       "      <th></th>\n",
       "      <th></th>\n",
       "      <th></th>\n",
       "    </tr>\n",
       "  </thead>\n",
       "  <tbody>\n",
       "  </tbody>\n",
       "</table>\n",
       "</div>"
      ],
      "text/plain": [
       "Empty DataFrame\n",
       "Columns: [close, RSI_14, MA_OBVe_5_35_diff, MAe_5_15_diff, strength, vol_in, ma_cross, price_over_ema, action_price, predict, TS_Trends, TS_Trades, TS_Entries, TS_Exits]\n",
       "Index: []"
      ]
     },
     "execution_count": 114,
     "metadata": {},
     "output_type": "execute_result"
    }
   ],
   "source": [
    "df_live_backtest.loc[df_live_backtest['TS_Trends'] == 1]"
   ]
  },
  {
   "cell_type": "code",
   "execution_count": 115,
   "metadata": {},
   "outputs": [],
   "source": [
    "port = vbt.Portfolio.from_signals(\n",
    "    df_live_backtest['action_price'],\n",
    "    entries= signal_vectorbt.TS_Entries,\n",
    "    exits= signal_vectorbt.TS_Exits,\n",
    "    freq= '1D',\n",
    "    init_cash= 100,\n",
    "    fees= 0.0025,\n",
    "    slippage= 0.0050\n",
    ")"
   ]
  },
  {
   "cell_type": "code",
   "execution_count": 116,
   "metadata": {},
   "outputs": [
    {
     "data": {
      "application/vnd.plotly.v1+json": {
       "config": {
        "plotlyServerURL": "https://plot.ly"
       },
       "data": [
        {
         "legendgroup": "0",
         "line": {
          "color": "#1f77b4"
         },
         "name": "Close",
         "showlegend": true,
         "type": "scatter",
         "uid": "6ea207ea-05f8-4ff1-b9a5-0269ae9008b2",
         "x": [
          "2021-03-09T07:00:00",
          "2021-03-30T07:00:00",
          "2021-07-04T07:00:00",
          "2021-07-06T07:00:00",
          "2021-07-24T07:00:00",
          "2021-09-16T07:00:00",
          "2021-10-03T07:00:00",
          "2022-02-05T07:00:00"
         ],
         "xaxis": "x",
         "y": [
          1870.5,
          1840.41,
          2322.69,
          2322.51,
          2184.9,
          3567.97,
          3417.73,
          3012.64
         ],
         "yaxis": "y"
        },
        {
         "legendgroup": "1",
         "line": {
          "color": "#7f7f7f"
         },
         "name": "Benchmark",
         "showlegend": true,
         "type": "scatter",
         "uid": "1af98f79-e742-48fa-8e46-bd2047ae8383",
         "x": [
          "2021-03-09T07:00:00",
          "2021-03-30T07:00:00",
          "2021-07-04T07:00:00",
          "2021-07-06T07:00:00",
          "2021-07-24T07:00:00",
          "2021-09-16T07:00:00",
          "2021-10-03T07:00:00",
          "2022-02-05T07:00:00"
         ],
         "xaxis": "x3",
         "y": [
          1,
          0.9839133921411388,
          1.2417481956696073,
          1.241651964715317,
          1.1680834001603853,
          1.907495322106389,
          1.8271745522587548,
          1.610606789628442
         ],
         "yaxis": "y3"
        },
        {
         "legendgroup": "2",
         "line": {
          "color": "#9467bd"
         },
         "name": "Value",
         "showlegend": true,
         "type": "scatter",
         "uid": "7ca886c4-700c-45d6-b82b-fb7226f28737",
         "x": [
          "2021-03-09T07:00:00",
          "2021-03-30T07:00:00",
          "2021-07-04T07:00:00",
          "2021-07-06T07:00:00",
          "2021-07-24T07:00:00",
          "2021-09-16T07:00:00",
          "2021-10-03T07:00:00",
          "2022-02-05T07:00:00"
         ],
         "xaxis": "x3",
         "y": [
          1,
          1,
          1,
          1,
          1,
          1,
          1,
          1
         ],
         "yaxis": "y3"
        },
        {
         "hoverinfo": "skip",
         "legendgroup": "3",
         "line": {
          "color": "rgba(0, 0, 0, 0)",
          "width": 0
         },
         "opacity": 0,
         "showlegend": false,
         "type": "scatter",
         "uid": "d25229e7-92a7-4485-9841-f3d04cb696fc",
         "x": [
          "2021-03-09T07:00:00",
          "2021-03-30T07:00:00",
          "2021-07-04T07:00:00",
          "2021-07-06T07:00:00",
          "2021-07-24T07:00:00",
          "2021-09-16T07:00:00",
          "2021-10-03T07:00:00",
          "2022-02-05T07:00:00"
         ],
         "xaxis": "x3",
         "y": [
          1,
          1,
          1,
          1,
          1,
          1,
          1,
          1
         ],
         "yaxis": "y3"
        }
       ],
       "layout": {
        "annotations": [
         {
          "font": {
           "size": 16
          },
          "showarrow": false,
          "text": "Orders",
          "x": 0.5,
          "xanchor": "center",
          "xref": "paper",
          "y": 1,
          "yanchor": "bottom",
          "yref": "paper"
         },
         {
          "font": {
           "size": 16
          },
          "showarrow": false,
          "text": "Trade Returns",
          "x": 0.5,
          "xanchor": "center",
          "xref": "paper",
          "y": 0.6527777777777777,
          "yanchor": "bottom",
          "yref": "paper"
         },
         {
          "font": {
           "size": 16
          },
          "showarrow": false,
          "text": "Cumulative Returns",
          "x": 0.5,
          "xanchor": "center",
          "xref": "paper",
          "y": 0.3055555555555555,
          "yanchor": "bottom",
          "yref": "paper"
         }
        ],
        "height": 960,
        "legend": {
         "orientation": "h",
         "traceorder": "normal",
         "x": 1,
         "xanchor": "right",
         "y": 1.0416666666666667,
         "yanchor": "bottom"
        },
        "margin": {
         "b": 30,
         "l": 30,
         "r": 30,
         "t": 30
        },
        "shapes": [
         {
          "line": {
           "color": "gray",
           "dash": "dash"
          },
          "type": "line",
          "x0": 0,
          "x1": 1,
          "xref": "paper",
          "y0": 0,
          "y1": 0,
          "yref": "y2"
         },
         {
          "line": {
           "color": "gray",
           "dash": "dash"
          },
          "type": "line",
          "x0": 0,
          "x1": 1,
          "xref": "paper",
          "y0": 1,
          "y1": 1,
          "yref": "y3"
         }
        ],
        "template": {
         "data": {
          "bar": [
           {
            "error_x": {
             "color": "#2a3f5f"
            },
            "error_y": {
             "color": "#2a3f5f"
            },
            "marker": {
             "line": {
              "color": "#E5ECF6",
              "width": 0.5
             }
            },
            "type": "bar"
           }
          ],
          "barpolar": [
           {
            "marker": {
             "line": {
              "color": "#E5ECF6",
              "width": 0.5
             }
            },
            "type": "barpolar"
           }
          ],
          "carpet": [
           {
            "aaxis": {
             "endlinecolor": "#2a3f5f",
             "gridcolor": "white",
             "linecolor": "white",
             "minorgridcolor": "white",
             "startlinecolor": "#2a3f5f"
            },
            "baxis": {
             "endlinecolor": "#2a3f5f",
             "gridcolor": "white",
             "linecolor": "white",
             "minorgridcolor": "white",
             "startlinecolor": "#2a3f5f"
            },
            "type": "carpet"
           }
          ],
          "choropleth": [
           {
            "colorbar": {
             "outlinewidth": 0,
             "ticks": ""
            },
            "type": "choropleth"
           }
          ],
          "contour": [
           {
            "colorbar": {
             "outlinewidth": 0,
             "ticks": ""
            },
            "colorscale": [
             [
              0,
              "#0d0887"
             ],
             [
              0.1111111111111111,
              "#46039f"
             ],
             [
              0.2222222222222222,
              "#7201a8"
             ],
             [
              0.3333333333333333,
              "#9c179e"
             ],
             [
              0.4444444444444444,
              "#bd3786"
             ],
             [
              0.5555555555555556,
              "#d8576b"
             ],
             [
              0.6666666666666666,
              "#ed7953"
             ],
             [
              0.7777777777777778,
              "#fb9f3a"
             ],
             [
              0.8888888888888888,
              "#fdca26"
             ],
             [
              1,
              "#f0f921"
             ]
            ],
            "type": "contour"
           }
          ],
          "contourcarpet": [
           {
            "colorbar": {
             "outlinewidth": 0,
             "ticks": ""
            },
            "type": "contourcarpet"
           }
          ],
          "heatmap": [
           {
            "colorbar": {
             "outlinewidth": 0,
             "ticks": ""
            },
            "colorscale": [
             [
              0,
              "#0d0887"
             ],
             [
              0.1111111111111111,
              "#46039f"
             ],
             [
              0.2222222222222222,
              "#7201a8"
             ],
             [
              0.3333333333333333,
              "#9c179e"
             ],
             [
              0.4444444444444444,
              "#bd3786"
             ],
             [
              0.5555555555555556,
              "#d8576b"
             ],
             [
              0.6666666666666666,
              "#ed7953"
             ],
             [
              0.7777777777777778,
              "#fb9f3a"
             ],
             [
              0.8888888888888888,
              "#fdca26"
             ],
             [
              1,
              "#f0f921"
             ]
            ],
            "type": "heatmap"
           }
          ],
          "heatmapgl": [
           {
            "colorbar": {
             "outlinewidth": 0,
             "ticks": ""
            },
            "colorscale": [
             [
              0,
              "#0d0887"
             ],
             [
              0.1111111111111111,
              "#46039f"
             ],
             [
              0.2222222222222222,
              "#7201a8"
             ],
             [
              0.3333333333333333,
              "#9c179e"
             ],
             [
              0.4444444444444444,
              "#bd3786"
             ],
             [
              0.5555555555555556,
              "#d8576b"
             ],
             [
              0.6666666666666666,
              "#ed7953"
             ],
             [
              0.7777777777777778,
              "#fb9f3a"
             ],
             [
              0.8888888888888888,
              "#fdca26"
             ],
             [
              1,
              "#f0f921"
             ]
            ],
            "type": "heatmapgl"
           }
          ],
          "histogram": [
           {
            "marker": {
             "colorbar": {
              "outlinewidth": 0,
              "ticks": ""
             }
            },
            "type": "histogram"
           }
          ],
          "histogram2d": [
           {
            "colorbar": {
             "outlinewidth": 0,
             "ticks": ""
            },
            "colorscale": [
             [
              0,
              "#0d0887"
             ],
             [
              0.1111111111111111,
              "#46039f"
             ],
             [
              0.2222222222222222,
              "#7201a8"
             ],
             [
              0.3333333333333333,
              "#9c179e"
             ],
             [
              0.4444444444444444,
              "#bd3786"
             ],
             [
              0.5555555555555556,
              "#d8576b"
             ],
             [
              0.6666666666666666,
              "#ed7953"
             ],
             [
              0.7777777777777778,
              "#fb9f3a"
             ],
             [
              0.8888888888888888,
              "#fdca26"
             ],
             [
              1,
              "#f0f921"
             ]
            ],
            "type": "histogram2d"
           }
          ],
          "histogram2dcontour": [
           {
            "colorbar": {
             "outlinewidth": 0,
             "ticks": ""
            },
            "colorscale": [
             [
              0,
              "#0d0887"
             ],
             [
              0.1111111111111111,
              "#46039f"
             ],
             [
              0.2222222222222222,
              "#7201a8"
             ],
             [
              0.3333333333333333,
              "#9c179e"
             ],
             [
              0.4444444444444444,
              "#bd3786"
             ],
             [
              0.5555555555555556,
              "#d8576b"
             ],
             [
              0.6666666666666666,
              "#ed7953"
             ],
             [
              0.7777777777777778,
              "#fb9f3a"
             ],
             [
              0.8888888888888888,
              "#fdca26"
             ],
             [
              1,
              "#f0f921"
             ]
            ],
            "type": "histogram2dcontour"
           }
          ],
          "mesh3d": [
           {
            "colorbar": {
             "outlinewidth": 0,
             "ticks": ""
            },
            "type": "mesh3d"
           }
          ],
          "parcoords": [
           {
            "line": {
             "colorbar": {
              "outlinewidth": 0,
              "ticks": ""
             }
            },
            "type": "parcoords"
           }
          ],
          "pie": [
           {
            "automargin": true,
            "type": "pie"
           }
          ],
          "scatter": [
           {
            "marker": {
             "colorbar": {
              "outlinewidth": 0,
              "ticks": ""
             }
            },
            "type": "scatter"
           }
          ],
          "scatter3d": [
           {
            "line": {
             "colorbar": {
              "outlinewidth": 0,
              "ticks": ""
             }
            },
            "marker": {
             "colorbar": {
              "outlinewidth": 0,
              "ticks": ""
             }
            },
            "type": "scatter3d"
           }
          ],
          "scattercarpet": [
           {
            "marker": {
             "colorbar": {
              "outlinewidth": 0,
              "ticks": ""
             }
            },
            "type": "scattercarpet"
           }
          ],
          "scattergeo": [
           {
            "marker": {
             "colorbar": {
              "outlinewidth": 0,
              "ticks": ""
             }
            },
            "type": "scattergeo"
           }
          ],
          "scattergl": [
           {
            "marker": {
             "colorbar": {
              "outlinewidth": 0,
              "ticks": ""
             }
            },
            "type": "scattergl"
           }
          ],
          "scattermapbox": [
           {
            "marker": {
             "colorbar": {
              "outlinewidth": 0,
              "ticks": ""
             }
            },
            "type": "scattermapbox"
           }
          ],
          "scatterpolar": [
           {
            "marker": {
             "colorbar": {
              "outlinewidth": 0,
              "ticks": ""
             }
            },
            "type": "scatterpolar"
           }
          ],
          "scatterpolargl": [
           {
            "marker": {
             "colorbar": {
              "outlinewidth": 0,
              "ticks": ""
             }
            },
            "type": "scatterpolargl"
           }
          ],
          "scatterternary": [
           {
            "marker": {
             "colorbar": {
              "outlinewidth": 0,
              "ticks": ""
             }
            },
            "type": "scatterternary"
           }
          ],
          "surface": [
           {
            "colorbar": {
             "outlinewidth": 0,
             "ticks": ""
            },
            "colorscale": [
             [
              0,
              "#0d0887"
             ],
             [
              0.1111111111111111,
              "#46039f"
             ],
             [
              0.2222222222222222,
              "#7201a8"
             ],
             [
              0.3333333333333333,
              "#9c179e"
             ],
             [
              0.4444444444444444,
              "#bd3786"
             ],
             [
              0.5555555555555556,
              "#d8576b"
             ],
             [
              0.6666666666666666,
              "#ed7953"
             ],
             [
              0.7777777777777778,
              "#fb9f3a"
             ],
             [
              0.8888888888888888,
              "#fdca26"
             ],
             [
              1,
              "#f0f921"
             ]
            ],
            "type": "surface"
           }
          ],
          "table": [
           {
            "cells": {
             "fill": {
              "color": "#EBF0F8"
             },
             "line": {
              "color": "white"
             }
            },
            "header": {
             "fill": {
              "color": "#C8D4E3"
             },
             "line": {
              "color": "white"
             }
            },
            "type": "table"
           }
          ]
         },
         "layout": {
          "annotationdefaults": {
           "arrowcolor": "#2a3f5f",
           "arrowhead": 0,
           "arrowwidth": 1
          },
          "coloraxis": {
           "colorbar": {
            "outlinewidth": 0,
            "ticks": ""
           }
          },
          "colorscale": {
           "diverging": [
            [
             0,
             "#8e0152"
            ],
            [
             0.1,
             "#c51b7d"
            ],
            [
             0.2,
             "#de77ae"
            ],
            [
             0.3,
             "#f1b6da"
            ],
            [
             0.4,
             "#fde0ef"
            ],
            [
             0.5,
             "#f7f7f7"
            ],
            [
             0.6,
             "#e6f5d0"
            ],
            [
             0.7,
             "#b8e186"
            ],
            [
             0.8,
             "#7fbc41"
            ],
            [
             0.9,
             "#4d9221"
            ],
            [
             1,
             "#276419"
            ]
           ],
           "sequential": [
            [
             0,
             "#0d0887"
            ],
            [
             0.1111111111111111,
             "#46039f"
            ],
            [
             0.2222222222222222,
             "#7201a8"
            ],
            [
             0.3333333333333333,
             "#9c179e"
            ],
            [
             0.4444444444444444,
             "#bd3786"
            ],
            [
             0.5555555555555556,
             "#d8576b"
            ],
            [
             0.6666666666666666,
             "#ed7953"
            ],
            [
             0.7777777777777778,
             "#fb9f3a"
            ],
            [
             0.8888888888888888,
             "#fdca26"
            ],
            [
             1,
             "#f0f921"
            ]
           ],
           "sequentialminus": [
            [
             0,
             "#0d0887"
            ],
            [
             0.1111111111111111,
             "#46039f"
            ],
            [
             0.2222222222222222,
             "#7201a8"
            ],
            [
             0.3333333333333333,
             "#9c179e"
            ],
            [
             0.4444444444444444,
             "#bd3786"
            ],
            [
             0.5555555555555556,
             "#d8576b"
            ],
            [
             0.6666666666666666,
             "#ed7953"
            ],
            [
             0.7777777777777778,
             "#fb9f3a"
            ],
            [
             0.8888888888888888,
             "#fdca26"
            ],
            [
             1,
             "#f0f921"
            ]
           ]
          },
          "colorway": [
           "#1f77b4",
           "#ff7f0e",
           "#2ca02c",
           "#dc3912",
           "#9467bd",
           "#8c564b",
           "#e377c2",
           "#7f7f7f",
           "#bcbd22",
           "#17becf"
          ],
          "font": {
           "color": "#2a3f5f"
          },
          "geo": {
           "bgcolor": "white",
           "lakecolor": "white",
           "landcolor": "#E5ECF6",
           "showlakes": true,
           "showland": true,
           "subunitcolor": "white"
          },
          "hoverlabel": {
           "align": "left"
          },
          "hovermode": "closest",
          "mapbox": {
           "style": "light"
          },
          "paper_bgcolor": "white",
          "plot_bgcolor": "#E5ECF6",
          "polar": {
           "angularaxis": {
            "gridcolor": "white",
            "linecolor": "white",
            "ticks": ""
           },
           "bgcolor": "#E5ECF6",
           "radialaxis": {
            "gridcolor": "white",
            "linecolor": "white",
            "ticks": ""
           }
          },
          "scene": {
           "xaxis": {
            "backgroundcolor": "#E5ECF6",
            "gridcolor": "white",
            "gridwidth": 2,
            "linecolor": "white",
            "showbackground": true,
            "ticks": "",
            "zerolinecolor": "white"
           },
           "yaxis": {
            "backgroundcolor": "#E5ECF6",
            "gridcolor": "white",
            "gridwidth": 2,
            "linecolor": "white",
            "showbackground": true,
            "ticks": "",
            "zerolinecolor": "white"
           },
           "zaxis": {
            "backgroundcolor": "#E5ECF6",
            "gridcolor": "white",
            "gridwidth": 2,
            "linecolor": "white",
            "showbackground": true,
            "ticks": "",
            "zerolinecolor": "white"
           }
          },
          "shapedefaults": {
           "line": {
            "color": "#2a3f5f"
           }
          },
          "ternary": {
           "aaxis": {
            "gridcolor": "white",
            "linecolor": "white",
            "ticks": ""
           },
           "baxis": {
            "gridcolor": "white",
            "linecolor": "white",
            "ticks": ""
           },
           "bgcolor": "#E5ECF6",
           "caxis": {
            "gridcolor": "white",
            "linecolor": "white",
            "ticks": ""
           }
          },
          "title": {
           "x": 0.05
          },
          "xaxis": {
           "automargin": true,
           "gridcolor": "white",
           "linecolor": "white",
           "ticks": "",
           "title": {
            "standoff": 15
           },
           "zerolinecolor": "white",
           "zerolinewidth": 2
          },
          "yaxis": {
           "automargin": true,
           "gridcolor": "white",
           "linecolor": "white",
           "ticks": "",
           "title": {
            "standoff": 15
           },
           "zerolinecolor": "white",
           "zerolinewidth": 2
          }
         }
        },
        "width": 750,
        "xaxis": {
         "anchor": "y",
         "domain": [
          0,
          1
         ],
         "matches": "x3",
         "showticklabels": false
        },
        "xaxis2": {
         "anchor": "y2",
         "domain": [
          0,
          1
         ],
         "matches": "x3",
         "showticklabels": false
        },
        "xaxis3": {
         "anchor": "y3",
         "domain": [
          0,
          1
         ],
         "title": {
          "text": "Date"
         }
        },
        "yaxis": {
         "anchor": "x",
         "domain": [
          0.6944444444444444,
          1
         ],
         "title": {
          "text": "Price"
         }
        },
        "yaxis2": {
         "anchor": "x2",
         "domain": [
          0.3472222222222222,
          0.6527777777777777
         ],
         "tickformat": ".2%",
         "title": {
          "text": "Trade returns"
         }
        },
        "yaxis3": {
         "anchor": "x3",
         "domain": [
          0,
          0.3055555555555555
         ],
         "title": {
          "text": "Cumulative returns"
         }
        }
       }
      }
     },
     "metadata": {},
     "output_type": "display_data"
    }
   ],
   "source": [
    "port.plot().show()"
   ]
  },
  {
   "cell_type": "code",
   "execution_count": 117,
   "metadata": {},
   "outputs": [
    {
     "name": "stderr",
     "output_type": "stream",
     "text": [
      "C:\\Anaconda3\\lib\\site-packages\\vectorbt\\portfolio\\trades.py:407: RuntimeWarning:\n",
      "\n",
      "invalid value encountered in true_divide\n",
      "\n",
      "C:\\Anaconda3\\lib\\site-packages\\vectorbt\\portfolio\\trades.py:446: RuntimeWarning:\n",
      "\n",
      "invalid value encountered in true_divide\n",
      "\n"
     ]
    },
    {
     "data": {
      "text/plain": [
       "Start                         2021-03-09 07:00:00\n",
       "End                           2022-02-05 07:00:00\n",
       "Period                            8 days 00:00:00\n",
       "Start Value                                 100.0\n",
       "End Value                                   100.0\n",
       "Total Return [%]                              0.0\n",
       "Benchmark Return [%]                    61.060679\n",
       "Max Gross Exposure [%]                        0.0\n",
       "Total Fees Paid                               0.0\n",
       "Max Drawdown [%]                              NaN\n",
       "Max Drawdown Duration                         NaT\n",
       "Total Trades                                    0\n",
       "Total Closed Trades                             0\n",
       "Total Open Trades                               0\n",
       "Open Trade P&L                                0.0\n",
       "Win Rate [%]                                  NaN\n",
       "Best Trade [%]                                NaN\n",
       "Worst Trade [%]                               NaN\n",
       "Avg Winning Trade [%]                         NaN\n",
       "Avg Losing Trade [%]                          NaN\n",
       "Avg Winning Trade Duration                    NaT\n",
       "Avg Losing Trade Duration                     NaT\n",
       "Profit Factor                                 NaN\n",
       "Expectancy                                    NaN\n",
       "Sharpe Ratio                                  inf\n",
       "Calmar Ratio                                  NaN\n",
       "Omega Ratio                                   inf\n",
       "Sortino Ratio                                 inf\n",
       "dtype: object"
      ]
     },
     "execution_count": 117,
     "metadata": {},
     "output_type": "execute_result"
    }
   ],
   "source": [
    "port.stats()"
   ]
  },
  {
   "cell_type": "code",
   "execution_count": 67,
   "metadata": {},
   "outputs": [
    {
     "name": "stdout",
     "output_type": "stream",
     "text": [
      "return adjust vol: nan\n",
      "alpha: 0.0\n"
     ]
    },
    {
     "name": "stderr",
     "output_type": "stream",
     "text": [
      "<ipython-input-67-5480e407ff08>:1: RuntimeWarning:\n",
      "\n",
      "invalid value encountered in double_scalars\n",
      "\n"
     ]
    }
   ],
   "source": [
    "return_adjust_vol = port.annualized_return() / port.annualized_volatility()\n",
    "print(f'return adjust vol: {return_adjust_vol}')\n",
    "print(f'alpha: {port.alpha()}')"
   ]
  },
  {
   "cell_type": "code",
   "execution_count": 68,
   "metadata": {},
   "outputs": [],
   "source": [
    "# loc a first date of live test and use its for regular backtest with original signal with regular df"
   ]
  },
  {
   "cell_type": "code",
   "execution_count": 69,
   "metadata": {},
   "outputs": [],
   "source": [
    "df_og_signal_backtest = df_encoded.loc['2021':]"
   ]
  },
  {
   "cell_type": "code",
   "execution_count": 70,
   "metadata": {},
   "outputs": [
    {
     "name": "stderr",
     "output_type": "stream",
     "text": [
      "C:\\Anaconda3\\lib\\site-packages\\pandas_ta\\core.py:420: SettingWithCopyWarning:\n",
      "\n",
      "\n",
      "A value is trying to be set on a copy of a slice from a DataFrame.\n",
      "Try using .loc[row_indexer,col_indexer] = value instead\n",
      "\n",
      "See the caveats in the documentation: https://pandas.pydata.org/pandas-docs/stable/user_guide/indexing.html#returning-a-view-versus-a-copy\n",
      "\n"
     ]
    },
    {
     "data": {
      "text/html": [
       "<div>\n",
       "<style scoped>\n",
       "    .dataframe tbody tr th:only-of-type {\n",
       "        vertical-align: middle;\n",
       "    }\n",
       "\n",
       "    .dataframe tbody tr th {\n",
       "        vertical-align: top;\n",
       "    }\n",
       "\n",
       "    .dataframe thead th {\n",
       "        text-align: right;\n",
       "    }\n",
       "</style>\n",
       "<table border=\"1\" class=\"dataframe\">\n",
       "  <thead>\n",
       "    <tr style=\"text-align: right;\">\n",
       "      <th></th>\n",
       "      <th>TS_Trends</th>\n",
       "      <th>TS_Trades</th>\n",
       "      <th>TS_Entries</th>\n",
       "      <th>TS_Exits</th>\n",
       "    </tr>\n",
       "    <tr>\n",
       "      <th>datetime</th>\n",
       "      <th></th>\n",
       "      <th></th>\n",
       "      <th></th>\n",
       "      <th></th>\n",
       "    </tr>\n",
       "  </thead>\n",
       "  <tbody>\n",
       "    <tr>\n",
       "      <th>2021-02-23 07:00:00</th>\n",
       "      <td>False</td>\n",
       "      <td>0</td>\n",
       "      <td>False</td>\n",
       "      <td>False</td>\n",
       "    </tr>\n",
       "    <tr>\n",
       "      <th>2021-03-09 07:00:00</th>\n",
       "      <td>True</td>\n",
       "      <td>1</td>\n",
       "      <td>True</td>\n",
       "      <td>False</td>\n",
       "    </tr>\n",
       "    <tr>\n",
       "      <th>2021-03-22 07:00:00</th>\n",
       "      <td>False</td>\n",
       "      <td>-1</td>\n",
       "      <td>False</td>\n",
       "      <td>True</td>\n",
       "    </tr>\n",
       "    <tr>\n",
       "      <th>2021-03-30 07:00:00</th>\n",
       "      <td>True</td>\n",
       "      <td>1</td>\n",
       "      <td>True</td>\n",
       "      <td>False</td>\n",
       "    </tr>\n",
       "    <tr>\n",
       "      <th>2021-05-18 07:00:00</th>\n",
       "      <td>False</td>\n",
       "      <td>-1</td>\n",
       "      <td>False</td>\n",
       "      <td>True</td>\n",
       "    </tr>\n",
       "    <tr>\n",
       "      <th>2021-07-04 07:00:00</th>\n",
       "      <td>True</td>\n",
       "      <td>1</td>\n",
       "      <td>True</td>\n",
       "      <td>False</td>\n",
       "    </tr>\n",
       "    <tr>\n",
       "      <th>2021-07-05 07:00:00</th>\n",
       "      <td>False</td>\n",
       "      <td>-1</td>\n",
       "      <td>False</td>\n",
       "      <td>True</td>\n",
       "    </tr>\n",
       "    <tr>\n",
       "      <th>2021-07-06 07:00:00</th>\n",
       "      <td>True</td>\n",
       "      <td>1</td>\n",
       "      <td>True</td>\n",
       "      <td>False</td>\n",
       "    </tr>\n",
       "    <tr>\n",
       "      <th>2021-07-08 07:00:00</th>\n",
       "      <td>False</td>\n",
       "      <td>-1</td>\n",
       "      <td>False</td>\n",
       "      <td>True</td>\n",
       "    </tr>\n",
       "    <tr>\n",
       "      <th>2021-07-24 07:00:00</th>\n",
       "      <td>True</td>\n",
       "      <td>1</td>\n",
       "      <td>True</td>\n",
       "      <td>False</td>\n",
       "    </tr>\n",
       "    <tr>\n",
       "      <th>2021-09-10 07:00:00</th>\n",
       "      <td>False</td>\n",
       "      <td>-1</td>\n",
       "      <td>False</td>\n",
       "      <td>True</td>\n",
       "    </tr>\n",
       "    <tr>\n",
       "      <th>2021-09-16 07:00:00</th>\n",
       "      <td>True</td>\n",
       "      <td>1</td>\n",
       "      <td>True</td>\n",
       "      <td>False</td>\n",
       "    </tr>\n",
       "    <tr>\n",
       "      <th>2021-09-17 07:00:00</th>\n",
       "      <td>False</td>\n",
       "      <td>-1</td>\n",
       "      <td>False</td>\n",
       "      <td>True</td>\n",
       "    </tr>\n",
       "    <tr>\n",
       "      <th>2021-10-03 07:00:00</th>\n",
       "      <td>True</td>\n",
       "      <td>1</td>\n",
       "      <td>True</td>\n",
       "      <td>False</td>\n",
       "    </tr>\n",
       "    <tr>\n",
       "      <th>2021-11-15 07:00:00</th>\n",
       "      <td>False</td>\n",
       "      <td>-1</td>\n",
       "      <td>False</td>\n",
       "      <td>True</td>\n",
       "    </tr>\n",
       "    <tr>\n",
       "      <th>2022-02-05 07:00:00</th>\n",
       "      <td>True</td>\n",
       "      <td>1</td>\n",
       "      <td>True</td>\n",
       "      <td>False</td>\n",
       "    </tr>\n",
       "  </tbody>\n",
       "</table>\n",
       "</div>"
      ],
      "text/plain": [
       "                     TS_Trends  TS_Trades  TS_Entries  TS_Exits\n",
       "datetime                                                       \n",
       "2021-02-23 07:00:00      False          0       False     False\n",
       "2021-03-09 07:00:00       True          1        True     False\n",
       "2021-03-22 07:00:00      False         -1       False      True\n",
       "2021-03-30 07:00:00       True          1        True     False\n",
       "2021-05-18 07:00:00      False         -1       False      True\n",
       "2021-07-04 07:00:00       True          1        True     False\n",
       "2021-07-05 07:00:00      False         -1       False      True\n",
       "2021-07-06 07:00:00       True          1        True     False\n",
       "2021-07-08 07:00:00      False         -1       False      True\n",
       "2021-07-24 07:00:00       True          1        True     False\n",
       "2021-09-10 07:00:00      False         -1       False      True\n",
       "2021-09-16 07:00:00       True          1        True     False\n",
       "2021-09-17 07:00:00      False         -1       False      True\n",
       "2021-10-03 07:00:00       True          1        True     False\n",
       "2021-11-15 07:00:00      False         -1       False      True\n",
       "2022-02-05 07:00:00       True          1        True     False"
      ]
     },
     "execution_count": 70,
     "metadata": {},
     "output_type": "execute_result"
    }
   ],
   "source": [
    "signal_vectorbt_og = df_og_signal_backtest.ta.tsignals(df_og_signal_backtest['signal'], asbool= True, append= True)\n",
    "signal_vectorbt_og"
   ]
  },
  {
   "cell_type": "code",
   "execution_count": 71,
   "metadata": {},
   "outputs": [
    {
     "data": {
      "text/html": [
       "<div>\n",
       "<style scoped>\n",
       "    .dataframe tbody tr th:only-of-type {\n",
       "        vertical-align: middle;\n",
       "    }\n",
       "\n",
       "    .dataframe tbody tr th {\n",
       "        vertical-align: top;\n",
       "    }\n",
       "\n",
       "    .dataframe thead th {\n",
       "        text-align: right;\n",
       "    }\n",
       "</style>\n",
       "<table border=\"1\" class=\"dataframe\">\n",
       "  <thead>\n",
       "    <tr style=\"text-align: right;\">\n",
       "      <th></th>\n",
       "      <th>TS_Trends</th>\n",
       "      <th>TS_Trades</th>\n",
       "      <th>TS_Entries</th>\n",
       "      <th>TS_Exits</th>\n",
       "    </tr>\n",
       "    <tr>\n",
       "      <th>datetime</th>\n",
       "      <th></th>\n",
       "      <th></th>\n",
       "      <th></th>\n",
       "      <th></th>\n",
       "    </tr>\n",
       "  </thead>\n",
       "  <tbody>\n",
       "    <tr>\n",
       "      <th>2021-03-09 07:00:00</th>\n",
       "      <td>True</td>\n",
       "      <td>1</td>\n",
       "      <td>True</td>\n",
       "      <td>False</td>\n",
       "    </tr>\n",
       "    <tr>\n",
       "      <th>2021-03-22 07:00:00</th>\n",
       "      <td>False</td>\n",
       "      <td>-1</td>\n",
       "      <td>False</td>\n",
       "      <td>True</td>\n",
       "    </tr>\n",
       "    <tr>\n",
       "      <th>2021-03-30 07:00:00</th>\n",
       "      <td>True</td>\n",
       "      <td>1</td>\n",
       "      <td>True</td>\n",
       "      <td>False</td>\n",
       "    </tr>\n",
       "    <tr>\n",
       "      <th>2021-05-18 07:00:00</th>\n",
       "      <td>False</td>\n",
       "      <td>-1</td>\n",
       "      <td>False</td>\n",
       "      <td>True</td>\n",
       "    </tr>\n",
       "    <tr>\n",
       "      <th>2021-07-04 07:00:00</th>\n",
       "      <td>True</td>\n",
       "      <td>1</td>\n",
       "      <td>True</td>\n",
       "      <td>False</td>\n",
       "    </tr>\n",
       "    <tr>\n",
       "      <th>2021-07-05 07:00:00</th>\n",
       "      <td>False</td>\n",
       "      <td>-1</td>\n",
       "      <td>False</td>\n",
       "      <td>True</td>\n",
       "    </tr>\n",
       "    <tr>\n",
       "      <th>2021-07-06 07:00:00</th>\n",
       "      <td>True</td>\n",
       "      <td>1</td>\n",
       "      <td>True</td>\n",
       "      <td>False</td>\n",
       "    </tr>\n",
       "    <tr>\n",
       "      <th>2021-07-08 07:00:00</th>\n",
       "      <td>False</td>\n",
       "      <td>-1</td>\n",
       "      <td>False</td>\n",
       "      <td>True</td>\n",
       "    </tr>\n",
       "    <tr>\n",
       "      <th>2021-07-24 07:00:00</th>\n",
       "      <td>True</td>\n",
       "      <td>1</td>\n",
       "      <td>True</td>\n",
       "      <td>False</td>\n",
       "    </tr>\n",
       "    <tr>\n",
       "      <th>2021-09-10 07:00:00</th>\n",
       "      <td>False</td>\n",
       "      <td>-1</td>\n",
       "      <td>False</td>\n",
       "      <td>True</td>\n",
       "    </tr>\n",
       "    <tr>\n",
       "      <th>2021-09-16 07:00:00</th>\n",
       "      <td>True</td>\n",
       "      <td>1</td>\n",
       "      <td>True</td>\n",
       "      <td>False</td>\n",
       "    </tr>\n",
       "    <tr>\n",
       "      <th>2021-09-17 07:00:00</th>\n",
       "      <td>False</td>\n",
       "      <td>-1</td>\n",
       "      <td>False</td>\n",
       "      <td>True</td>\n",
       "    </tr>\n",
       "    <tr>\n",
       "      <th>2021-10-03 07:00:00</th>\n",
       "      <td>True</td>\n",
       "      <td>1</td>\n",
       "      <td>True</td>\n",
       "      <td>False</td>\n",
       "    </tr>\n",
       "    <tr>\n",
       "      <th>2021-11-15 07:00:00</th>\n",
       "      <td>False</td>\n",
       "      <td>-1</td>\n",
       "      <td>False</td>\n",
       "      <td>True</td>\n",
       "    </tr>\n",
       "    <tr>\n",
       "      <th>2022-02-05 07:00:00</th>\n",
       "      <td>True</td>\n",
       "      <td>1</td>\n",
       "      <td>True</td>\n",
       "      <td>False</td>\n",
       "    </tr>\n",
       "  </tbody>\n",
       "</table>\n",
       "</div>"
      ],
      "text/plain": [
       "                     TS_Trends  TS_Trades  TS_Entries  TS_Exits\n",
       "datetime                                                       \n",
       "2021-03-09 07:00:00       True          1        True     False\n",
       "2021-03-22 07:00:00      False         -1       False      True\n",
       "2021-03-30 07:00:00       True          1        True     False\n",
       "2021-05-18 07:00:00      False         -1       False      True\n",
       "2021-07-04 07:00:00       True          1        True     False\n",
       "2021-07-05 07:00:00      False         -1       False      True\n",
       "2021-07-06 07:00:00       True          1        True     False\n",
       "2021-07-08 07:00:00      False         -1       False      True\n",
       "2021-07-24 07:00:00       True          1        True     False\n",
       "2021-09-10 07:00:00      False         -1       False      True\n",
       "2021-09-16 07:00:00       True          1        True     False\n",
       "2021-09-17 07:00:00      False         -1       False      True\n",
       "2021-10-03 07:00:00       True          1        True     False\n",
       "2021-11-15 07:00:00      False         -1       False      True\n",
       "2022-02-05 07:00:00       True          1        True     False"
      ]
     },
     "execution_count": 71,
     "metadata": {},
     "output_type": "execute_result"
    }
   ],
   "source": [
    "signal_vectorbt_og.loc[signal_vectorbt_og['TS_Trades'] != 0]"
   ]
  },
  {
   "cell_type": "code",
   "execution_count": 72,
   "metadata": {},
   "outputs": [],
   "source": [
    "port_og = vbt.Portfolio.from_signals(\n",
    "    df_og_signal_backtest['action_price'],\n",
    "    entries= signal_vectorbt_og.TS_Entries,\n",
    "    exits= signal_vectorbt_og.TS_Exits,\n",
    "    freq= '1D',\n",
    "    init_cash= 100,\n",
    "    fees= 0.0025,\n",
    "    slippage= 0.0050\n",
    ")"
   ]
  },
  {
   "cell_type": "code",
   "execution_count": 73,
   "metadata": {},
   "outputs": [
    {
     "data": {
      "application/vnd.plotly.v1+json": {
       "config": {
        "plotlyServerURL": "https://plot.ly"
       },
       "data": [
        {
         "legendgroup": "0",
         "line": {
          "color": "#1f77b4"
         },
         "name": "Close",
         "showlegend": true,
         "type": "scatter",
         "uid": "e65bb0fb-3080-42e2-8621-b3a4a1eecc6a",
         "x": [
          "2021-02-23T07:00:00",
          "2021-03-09T07:00:00",
          "2021-03-22T07:00:00",
          "2021-03-30T07:00:00",
          "2021-05-18T07:00:00",
          "2021-07-04T07:00:00",
          "2021-07-05T07:00:00",
          "2021-07-06T07:00:00",
          "2021-07-08T07:00:00",
          "2021-07-24T07:00:00",
          "2021-09-10T07:00:00",
          "2021-09-16T07:00:00",
          "2021-09-17T07:00:00",
          "2021-10-03T07:00:00",
          "2021-11-15T07:00:00",
          "2022-02-05T07:00:00"
         ],
         "xaxis": "x",
         "y": [
          1577.79,
          1870.5,
          1681.17,
          1840.41,
          3375.08,
          2322.69,
          2196.85,
          2322.51,
          2116.32,
          2184.9,
          3208.85,
          3567.97,
          3399.89,
          3417.73,
          4563.77,
          3012.64
         ],
         "yaxis": "y"
        },
        {
         "customdata": [
          [
           0,
           0.053063005443989106,
           0.24937655860348684
          ],
          [
           2,
           0.04775011629532963,
           0.22079797622185993
          ],
          [
           4,
           0.06835224714559247,
           0.39888721581800723
          ],
          [
           6,
           0.0636914521665957,
           0.37165913686072827
          ],
          [
           8,
           0.060773810103929085,
           0.3336215529613753
          ],
          [
           10,
           0.053843121362394546,
           0.48267798734002554
          ],
          [
           12,
           0.052764628678906446,
           0.45309232661657006
          ],
          [
           14,
           0.07874172766457012,
           0.5960164520588478
          ]
         ],
         "hovertemplate": "Order Id: %{customdata[0]}<br>Date: %{x}<br>Price: %{y}<br>Size: %{customdata[1]:.6f}<br>Fees: %{customdata[2]:.6f}",
         "legendgroup": "1",
         "marker": {
          "color": "#37B13F",
          "line": {
           "color": "rgb(38,123,44)",
           "width": 1
          },
          "size": 8,
          "symbol": "triangle-up"
         },
         "mode": "markers",
         "name": "Buy",
         "type": "scatter",
         "uid": "1f72e269-0308-45ac-b29b-7674ce7c3fab",
         "x": [
          "2021-03-09T07:00:00",
          "2021-03-30T07:00:00",
          "2021-07-04T07:00:00",
          "2021-07-06T07:00:00",
          "2021-07-24T07:00:00",
          "2021-09-16T07:00:00",
          "2021-10-03T07:00:00",
          "2022-02-05T07:00:00"
         ],
         "xaxis": "x",
         "y": [
          1879.8524999999997,
          1849.61205,
          2334.30345,
          2334.12255,
          2195.8244999999997,
          3585.8098499999996,
          3434.8186499999997,
          3027.7031999999995
         ],
         "yaxis": "y"
        },
        {
         "customdata": [
          [
           1,
           0.053063005443989106,
           0.22190473299489952
          ],
          [
           3,
           0.04775011629532963,
           0.40088665048377736
          ],
          [
           5,
           0.06835224714559247,
           0.3735220899277146
          ],
          [
           7,
           0.0636914521665957,
           0.3352938414474095
          ],
          [
           9,
           0.060773810103929085,
           0.4850974258730822
          ],
          [
           11,
           0.053843121362394546,
           0.45536346609836914
          ],
          [
           13,
           0.052764628678906446,
           0.5990040031970082
          ]
         ],
         "hovertemplate": "Order Id: %{customdata[0]}<br>Date: %{x}<br>Price: %{y}<br>Size: %{customdata[1]:.6f}<br>Fees: %{customdata[2]:.6f}",
         "legendgroup": "2",
         "marker": {
          "color": "#EA4335",
          "line": {
           "color": "rgb(181,31,18)",
           "width": 1
          },
          "size": 8,
          "symbol": "triangle-down"
         },
         "mode": "markers",
         "name": "Sell",
         "type": "scatter",
         "uid": "f5848cb9-2873-48f0-89cc-3244edb9b6fe",
         "x": [
          "2021-03-22T07:00:00",
          "2021-05-18T07:00:00",
          "2021-07-05T07:00:00",
          "2021-07-08T07:00:00",
          "2021-09-10T07:00:00",
          "2021-09-17T07:00:00",
          "2021-11-15T07:00:00"
         ],
         "xaxis": "x",
         "y": [
          1672.76415,
          3358.2046,
          2185.86575,
          2105.7384,
          3192.80575,
          3382.89055,
          4540.951150000001
         ],
         "yaxis": "y"
        },
        {
         "customdata": [
          [
           1,
           1,
           71.41378507806225
          ],
          [
           4,
           4,
           59.77163018584341
          ],
          [
           6,
           6,
           57.312574302356964
          ]
         ],
         "hovertemplate": "Trade Id: %{customdata[0]}<br>Position Id: %{customdata[1]}<br>Date: %{x}<br>PnL: %{customdata[1]:.6f}<br>Return: %{y}",
         "legendgroup": "3",
         "marker": {
          "color": "#37B13F",
          "line": {
           "color": "rgb(38,123,44)",
           "width": 1
          },
          "opacity": [
           0.9,
           0.8324649986938635,
           0.8078111817394289
          ],
          "size": [
           14,
           10.848366605713625,
           9.697855147840016
          ],
          "symbol": "circle"
         },
         "mode": "markers",
         "name": "Closed - Profit",
         "type": "scatter",
         "uid": "6a88a875-a1f7-4f53-84d9-86dad21a9ec4",
         "x": [
          "2021-05-18T07:00:00",
          "2021-09-10T07:00:00",
          "2021-11-15T07:00:00"
         ],
         "xaxis": "x2",
         "y": [
          0.8085874053291338,
          0.4478999457265372,
          0.3162301088297635
         ],
         "yaxis": "y2"
        },
        {
         "customdata": [
          [
           0,
           0,
           -11.460011535035092
          ],
          [
           2,
           2,
           -10.918459661869033
          ],
          [
           3,
           3,
           -15.253071143641748
          ],
          [
           5,
           5,
           -11.863849950110513
          ]
         ],
         "hovertemplate": "Trade Id: %{customdata[0]}<br>Position Id: %{customdata[1]}<br>Date: %{x}<br>PnL: %{customdata[1]:.6f}<br>Return: %{y}",
         "legendgroup": "4",
         "marker": {
          "color": "#EA4335",
          "line": {
           "color": "rgb(181,31,18)",
           "width": 1
          },
          "opacity": [
           0.7701116922960736,
           0.7614133102655742,
           0.7678113773424503,
           0.7601058743062957
          ],
          "size": [
           7.938545640483433,
           7.5326211457268,
           7.83119760931435,
           7.471607467627135
          ],
          "symbol": "circle"
         },
         "mode": "markers",
         "name": "Closed - Loss",
         "type": "scatter",
         "uid": "a2e46d95-d6bf-41f7-ab1a-700d4563a2c7",
         "x": [
          "2021-03-22T07:00:00",
          "2021-07-05T07:00:00",
          "2021-07-08T07:00:00",
          "2021-09-17T07:00:00"
         ],
         "xaxis": "x2",
         "y": [
          -0.11488661563872679,
          -0.06843074451181562,
          -0.10260121190937452,
          -0.06144805782158221
         ],
         "yaxis": "y2"
        },
        {
         "customdata": [
          [
           7,
           7,
           -1.7821188442157734
          ]
         ],
         "hovertemplate": "Trade Id: %{customdata[0]}<br>Position Id: %{customdata[1]}<br>Date: %{x}<br>PnL: %{customdata[1]:.6f}<br>Return: %{y}",
         "legendgroup": "5",
         "marker": {
          "color": "#FFAA00",
          "line": {
           "color": "rgb(178,118,0)",
           "width": 1
          },
          "opacity": [
           0.75
          ],
          "size": [
           7
          ],
          "symbol": "circle"
         },
         "mode": "markers",
         "name": "Open",
         "type": "scatter",
         "uid": "5f70fd4c-c483-4e42-9689-d58c6859ec43",
         "x": [
          "2022-02-05T07:00:00"
         ],
         "xaxis": "x2",
         "y": [
          -0.007475124378109253
         ],
         "yaxis": "y2"
        },
        {
         "legendgroup": "6",
         "line": {
          "color": "#7f7f7f"
         },
         "name": "Benchmark",
         "showlegend": true,
         "type": "scatter",
         "uid": "eb884037-ccd7-4add-90ca-f9d216d025ba",
         "x": [
          "2021-02-23T07:00:00",
          "2021-03-09T07:00:00",
          "2021-03-22T07:00:00",
          "2021-03-30T07:00:00",
          "2021-05-18T07:00:00",
          "2021-07-04T07:00:00",
          "2021-07-05T07:00:00",
          "2021-07-06T07:00:00",
          "2021-07-08T07:00:00",
          "2021-07-24T07:00:00",
          "2021-09-10T07:00:00",
          "2021-09-16T07:00:00",
          "2021-09-17T07:00:00",
          "2021-10-03T07:00:00",
          "2021-11-15T07:00:00",
          "2022-02-05T07:00:00"
         ],
         "xaxis": "x3",
         "y": [
          1,
          1.1855189854163102,
          1.0655220276462647,
          1.166448006388683,
          2.1391186406302487,
          1.4721160610727664,
          1.392358932430805,
          1.4720019774494704,
          1.3413191869640446,
          1.3847850474397732,
          2.0337624145165067,
          2.2613719189499233,
          2.154843166707863,
          2.166150121372299,
          2.8925078749389965,
          1.90940492714493
         ],
         "yaxis": "y3"
        },
        {
         "hoverinfo": "skip",
         "legendgroup": "7",
         "line": {
          "color": "rgba(0, 0, 0, 0)",
          "width": 0
         },
         "opacity": 0,
         "showlegend": false,
         "type": "scatter",
         "uid": "1c4bc801-669d-4ae7-94e4-157149eff2de",
         "x": [
          "2021-02-23T07:00:00",
          "2021-03-09T07:00:00",
          "2021-03-22T07:00:00",
          "2021-03-30T07:00:00",
          "2021-05-18T07:00:00",
          "2021-07-04T07:00:00",
          "2021-07-05T07:00:00",
          "2021-07-06T07:00:00",
          "2021-07-08T07:00:00",
          "2021-07-24T07:00:00",
          "2021-09-10T07:00:00",
          "2021-09-16T07:00:00",
          "2021-09-17T07:00:00",
          "2021-10-03T07:00:00",
          "2021-11-15T07:00:00",
          "2022-02-05T07:00:00"
         ],
         "xaxis": "x3",
         "y": [
          1,
          1,
          1,
          1,
          1,
          1,
          1,
          1,
          1,
          1,
          1,
          1,
          1,
          1,
          1,
          1
         ],
         "yaxis": "y3"
        },
        {
         "connectgaps": false,
         "fill": "tonexty",
         "fillcolor": "rgba(0, 128, 0, 0.3)",
         "hoverinfo": "skip",
         "legendgroup": "7",
         "line": {
          "color": "rgba(0, 0, 0, 0)",
          "width": 0
         },
         "opacity": 0,
         "showlegend": false,
         "type": "scatter",
         "uid": "3f7d8e69-44c3-46cb-b630-ecdfac441b36",
         "x": [
          "2021-02-23T07:00:00",
          "2021-03-09T07:00:00",
          "2021-03-22T07:00:00",
          "2021-03-30T07:00:00",
          "2021-05-18T07:00:00",
          "2021-07-04T07:00:00",
          "2021-07-05T07:00:00",
          "2021-07-06T07:00:00",
          "2021-07-08T07:00:00",
          "2021-07-24T07:00:00",
          "2021-09-10T07:00:00",
          "2021-09-16T07:00:00",
          "2021-09-17T07:00:00",
          "2021-10-03T07:00:00",
          "2021-11-15T07:00:00",
          "2022-02-05T07:00:00"
         ],
         "xaxis": "x3",
         "y": [
          1,
          1,
          1,
          1,
          1.5995377354302716,
          1.587610809225962,
          1.4903531388115812,
          1.479240345714402,
          1.3378224273751638,
          1.3278469769607464,
          1.9355387292335977,
          1.9211064172738286,
          1.8169002297324928,
          1.8033525437475892,
          2.3900259727560624,
          2.372204784313905
         ],
         "yaxis": "y3"
        },
        {
         "hoverinfo": "skip",
         "legendgroup": "7",
         "line": {
          "color": "rgba(0, 0, 0, 0)",
          "width": 0
         },
         "opacity": 0,
         "showlegend": false,
         "type": "scatter",
         "uid": "a5d3b603-323a-4e17-aca7-1371d54bbb98",
         "x": [
          "2021-02-23T07:00:00",
          "2021-03-09T07:00:00",
          "2021-03-22T07:00:00",
          "2021-03-30T07:00:00",
          "2021-05-18T07:00:00",
          "2021-07-04T07:00:00",
          "2021-07-05T07:00:00",
          "2021-07-06T07:00:00",
          "2021-07-08T07:00:00",
          "2021-07-24T07:00:00",
          "2021-09-10T07:00:00",
          "2021-09-16T07:00:00",
          "2021-09-17T07:00:00",
          "2021-10-03T07:00:00",
          "2021-11-15T07:00:00",
          "2022-02-05T07:00:00"
         ],
         "xaxis": "x3",
         "y": [
          1,
          1,
          1,
          1,
          1,
          1,
          1,
          1,
          1,
          1,
          1,
          1,
          1,
          1,
          1,
          1
         ],
         "yaxis": "y3"
        },
        {
         "connectgaps": false,
         "fill": "tonexty",
         "fillcolor": "rgba(255, 0, 0, 0.3)",
         "hoverinfo": "skip",
         "legendgroup": "7",
         "line": {
          "color": "rgba(0, 0, 0, 0)",
          "width": 0
         },
         "opacity": 0,
         "showlegend": false,
         "type": "scatter",
         "uid": "68719b3d-9c05-41e0-87a0-74ba0ef819eb",
         "x": [
          "2021-02-23T07:00:00",
          "2021-03-09T07:00:00",
          "2021-03-22T07:00:00",
          "2021-03-30T07:00:00",
          "2021-05-18T07:00:00",
          "2021-07-04T07:00:00",
          "2021-07-05T07:00:00",
          "2021-07-06T07:00:00",
          "2021-07-08T07:00:00",
          "2021-07-24T07:00:00",
          "2021-09-10T07:00:00",
          "2021-09-16T07:00:00",
          "2021-09-17T07:00:00",
          "2021-10-03T07:00:00",
          "2021-11-15T07:00:00",
          "2022-02-05T07:00:00"
         ],
         "xaxis": "x3",
         "y": [
          1,
          0.9925435168298162,
          0.8853998846496491,
          0.878797915310876,
          1,
          1,
          1,
          1,
          1,
          1,
          1,
          1,
          1,
          1,
          1,
          1
         ],
         "yaxis": "y3"
        },
        {
         "legendgroup": "8",
         "line": {
          "color": "#9467bd"
         },
         "name": "Value",
         "showlegend": true,
         "type": "scatter",
         "uid": "320200ef-7e87-4251-8306-ab6b28800d67",
         "x": [
          "2021-02-23T07:00:00",
          "2021-03-09T07:00:00",
          "2021-03-22T07:00:00",
          "2021-03-30T07:00:00",
          "2021-05-18T07:00:00",
          "2021-07-04T07:00:00",
          "2021-07-05T07:00:00",
          "2021-07-06T07:00:00",
          "2021-07-08T07:00:00",
          "2021-07-24T07:00:00",
          "2021-09-10T07:00:00",
          "2021-09-16T07:00:00",
          "2021-09-17T07:00:00",
          "2021-10-03T07:00:00",
          "2021-11-15T07:00:00",
          "2022-02-05T07:00:00"
         ],
         "xaxis": "x3",
         "y": [
          1,
          0.9925435168298162,
          0.8853998846496491,
          0.878797915310876,
          1.5995377354302716,
          1.587610809225962,
          1.4903531388115812,
          1.479240345714402,
          1.3378224273751638,
          1.3278469769607464,
          1.9355387292335977,
          1.9211064172738286,
          1.8169002297324928,
          1.8033525437475892,
          2.3900259727560624,
          2.372204784313905
         ],
         "yaxis": "y3"
        },
        {
         "hoverinfo": "skip",
         "legendgroup": "7",
         "line": {
          "color": "rgba(0, 0, 0, 0)",
          "width": 0
         },
         "opacity": 0,
         "showlegend": false,
         "type": "scatter",
         "uid": "8ebd119b-98b4-425d-bcf0-339c5022603b",
         "x": [
          "2021-02-23T07:00:00",
          "2021-03-09T07:00:00",
          "2021-03-22T07:00:00",
          "2021-03-30T07:00:00",
          "2021-05-18T07:00:00",
          "2021-07-04T07:00:00",
          "2021-07-05T07:00:00",
          "2021-07-06T07:00:00",
          "2021-07-08T07:00:00",
          "2021-07-24T07:00:00",
          "2021-09-10T07:00:00",
          "2021-09-16T07:00:00",
          "2021-09-17T07:00:00",
          "2021-10-03T07:00:00",
          "2021-11-15T07:00:00",
          "2022-02-05T07:00:00"
         ],
         "xaxis": "x3",
         "y": [
          1,
          1,
          1,
          1,
          1,
          1,
          1,
          1,
          1,
          1,
          1,
          1,
          1,
          1,
          1,
          1
         ],
         "yaxis": "y3"
        }
       ],
       "layout": {
        "annotations": [
         {
          "font": {
           "size": 16
          },
          "showarrow": false,
          "text": "Orders",
          "x": 0.5,
          "xanchor": "center",
          "xref": "paper",
          "y": 1,
          "yanchor": "bottom",
          "yref": "paper"
         },
         {
          "font": {
           "size": 16
          },
          "showarrow": false,
          "text": "Trade Returns",
          "x": 0.5,
          "xanchor": "center",
          "xref": "paper",
          "y": 0.6527777777777777,
          "yanchor": "bottom",
          "yref": "paper"
         },
         {
          "font": {
           "size": 16
          },
          "showarrow": false,
          "text": "Cumulative Returns",
          "x": 0.5,
          "xanchor": "center",
          "xref": "paper",
          "y": 0.3055555555555555,
          "yanchor": "bottom",
          "yref": "paper"
         }
        ],
        "height": 960,
        "legend": {
         "orientation": "h",
         "traceorder": "normal",
         "x": 1,
         "xanchor": "right",
         "y": 1.0416666666666667,
         "yanchor": "bottom"
        },
        "margin": {
         "b": 30,
         "l": 30,
         "r": 30,
         "t": 30
        },
        "shapes": [
         {
          "line": {
           "color": "gray",
           "dash": "dash"
          },
          "type": "line",
          "x0": 0,
          "x1": 1,
          "xref": "paper",
          "y0": 0,
          "y1": 0,
          "yref": "y2"
         },
         {
          "line": {
           "color": "gray",
           "dash": "dash"
          },
          "type": "line",
          "x0": 0,
          "x1": 1,
          "xref": "paper",
          "y0": 1,
          "y1": 1,
          "yref": "y3"
         }
        ],
        "template": {
         "data": {
          "bar": [
           {
            "error_x": {
             "color": "#2a3f5f"
            },
            "error_y": {
             "color": "#2a3f5f"
            },
            "marker": {
             "line": {
              "color": "#E5ECF6",
              "width": 0.5
             }
            },
            "type": "bar"
           }
          ],
          "barpolar": [
           {
            "marker": {
             "line": {
              "color": "#E5ECF6",
              "width": 0.5
             }
            },
            "type": "barpolar"
           }
          ],
          "carpet": [
           {
            "aaxis": {
             "endlinecolor": "#2a3f5f",
             "gridcolor": "white",
             "linecolor": "white",
             "minorgridcolor": "white",
             "startlinecolor": "#2a3f5f"
            },
            "baxis": {
             "endlinecolor": "#2a3f5f",
             "gridcolor": "white",
             "linecolor": "white",
             "minorgridcolor": "white",
             "startlinecolor": "#2a3f5f"
            },
            "type": "carpet"
           }
          ],
          "choropleth": [
           {
            "colorbar": {
             "outlinewidth": 0,
             "ticks": ""
            },
            "type": "choropleth"
           }
          ],
          "contour": [
           {
            "colorbar": {
             "outlinewidth": 0,
             "ticks": ""
            },
            "colorscale": [
             [
              0,
              "#0d0887"
             ],
             [
              0.1111111111111111,
              "#46039f"
             ],
             [
              0.2222222222222222,
              "#7201a8"
             ],
             [
              0.3333333333333333,
              "#9c179e"
             ],
             [
              0.4444444444444444,
              "#bd3786"
             ],
             [
              0.5555555555555556,
              "#d8576b"
             ],
             [
              0.6666666666666666,
              "#ed7953"
             ],
             [
              0.7777777777777778,
              "#fb9f3a"
             ],
             [
              0.8888888888888888,
              "#fdca26"
             ],
             [
              1,
              "#f0f921"
             ]
            ],
            "type": "contour"
           }
          ],
          "contourcarpet": [
           {
            "colorbar": {
             "outlinewidth": 0,
             "ticks": ""
            },
            "type": "contourcarpet"
           }
          ],
          "heatmap": [
           {
            "colorbar": {
             "outlinewidth": 0,
             "ticks": ""
            },
            "colorscale": [
             [
              0,
              "#0d0887"
             ],
             [
              0.1111111111111111,
              "#46039f"
             ],
             [
              0.2222222222222222,
              "#7201a8"
             ],
             [
              0.3333333333333333,
              "#9c179e"
             ],
             [
              0.4444444444444444,
              "#bd3786"
             ],
             [
              0.5555555555555556,
              "#d8576b"
             ],
             [
              0.6666666666666666,
              "#ed7953"
             ],
             [
              0.7777777777777778,
              "#fb9f3a"
             ],
             [
              0.8888888888888888,
              "#fdca26"
             ],
             [
              1,
              "#f0f921"
             ]
            ],
            "type": "heatmap"
           }
          ],
          "heatmapgl": [
           {
            "colorbar": {
             "outlinewidth": 0,
             "ticks": ""
            },
            "colorscale": [
             [
              0,
              "#0d0887"
             ],
             [
              0.1111111111111111,
              "#46039f"
             ],
             [
              0.2222222222222222,
              "#7201a8"
             ],
             [
              0.3333333333333333,
              "#9c179e"
             ],
             [
              0.4444444444444444,
              "#bd3786"
             ],
             [
              0.5555555555555556,
              "#d8576b"
             ],
             [
              0.6666666666666666,
              "#ed7953"
             ],
             [
              0.7777777777777778,
              "#fb9f3a"
             ],
             [
              0.8888888888888888,
              "#fdca26"
             ],
             [
              1,
              "#f0f921"
             ]
            ],
            "type": "heatmapgl"
           }
          ],
          "histogram": [
           {
            "marker": {
             "colorbar": {
              "outlinewidth": 0,
              "ticks": ""
             }
            },
            "type": "histogram"
           }
          ],
          "histogram2d": [
           {
            "colorbar": {
             "outlinewidth": 0,
             "ticks": ""
            },
            "colorscale": [
             [
              0,
              "#0d0887"
             ],
             [
              0.1111111111111111,
              "#46039f"
             ],
             [
              0.2222222222222222,
              "#7201a8"
             ],
             [
              0.3333333333333333,
              "#9c179e"
             ],
             [
              0.4444444444444444,
              "#bd3786"
             ],
             [
              0.5555555555555556,
              "#d8576b"
             ],
             [
              0.6666666666666666,
              "#ed7953"
             ],
             [
              0.7777777777777778,
              "#fb9f3a"
             ],
             [
              0.8888888888888888,
              "#fdca26"
             ],
             [
              1,
              "#f0f921"
             ]
            ],
            "type": "histogram2d"
           }
          ],
          "histogram2dcontour": [
           {
            "colorbar": {
             "outlinewidth": 0,
             "ticks": ""
            },
            "colorscale": [
             [
              0,
              "#0d0887"
             ],
             [
              0.1111111111111111,
              "#46039f"
             ],
             [
              0.2222222222222222,
              "#7201a8"
             ],
             [
              0.3333333333333333,
              "#9c179e"
             ],
             [
              0.4444444444444444,
              "#bd3786"
             ],
             [
              0.5555555555555556,
              "#d8576b"
             ],
             [
              0.6666666666666666,
              "#ed7953"
             ],
             [
              0.7777777777777778,
              "#fb9f3a"
             ],
             [
              0.8888888888888888,
              "#fdca26"
             ],
             [
              1,
              "#f0f921"
             ]
            ],
            "type": "histogram2dcontour"
           }
          ],
          "mesh3d": [
           {
            "colorbar": {
             "outlinewidth": 0,
             "ticks": ""
            },
            "type": "mesh3d"
           }
          ],
          "parcoords": [
           {
            "line": {
             "colorbar": {
              "outlinewidth": 0,
              "ticks": ""
             }
            },
            "type": "parcoords"
           }
          ],
          "pie": [
           {
            "automargin": true,
            "type": "pie"
           }
          ],
          "scatter": [
           {
            "marker": {
             "colorbar": {
              "outlinewidth": 0,
              "ticks": ""
             }
            },
            "type": "scatter"
           }
          ],
          "scatter3d": [
           {
            "line": {
             "colorbar": {
              "outlinewidth": 0,
              "ticks": ""
             }
            },
            "marker": {
             "colorbar": {
              "outlinewidth": 0,
              "ticks": ""
             }
            },
            "type": "scatter3d"
           }
          ],
          "scattercarpet": [
           {
            "marker": {
             "colorbar": {
              "outlinewidth": 0,
              "ticks": ""
             }
            },
            "type": "scattercarpet"
           }
          ],
          "scattergeo": [
           {
            "marker": {
             "colorbar": {
              "outlinewidth": 0,
              "ticks": ""
             }
            },
            "type": "scattergeo"
           }
          ],
          "scattergl": [
           {
            "marker": {
             "colorbar": {
              "outlinewidth": 0,
              "ticks": ""
             }
            },
            "type": "scattergl"
           }
          ],
          "scattermapbox": [
           {
            "marker": {
             "colorbar": {
              "outlinewidth": 0,
              "ticks": ""
             }
            },
            "type": "scattermapbox"
           }
          ],
          "scatterpolar": [
           {
            "marker": {
             "colorbar": {
              "outlinewidth": 0,
              "ticks": ""
             }
            },
            "type": "scatterpolar"
           }
          ],
          "scatterpolargl": [
           {
            "marker": {
             "colorbar": {
              "outlinewidth": 0,
              "ticks": ""
             }
            },
            "type": "scatterpolargl"
           }
          ],
          "scatterternary": [
           {
            "marker": {
             "colorbar": {
              "outlinewidth": 0,
              "ticks": ""
             }
            },
            "type": "scatterternary"
           }
          ],
          "surface": [
           {
            "colorbar": {
             "outlinewidth": 0,
             "ticks": ""
            },
            "colorscale": [
             [
              0,
              "#0d0887"
             ],
             [
              0.1111111111111111,
              "#46039f"
             ],
             [
              0.2222222222222222,
              "#7201a8"
             ],
             [
              0.3333333333333333,
              "#9c179e"
             ],
             [
              0.4444444444444444,
              "#bd3786"
             ],
             [
              0.5555555555555556,
              "#d8576b"
             ],
             [
              0.6666666666666666,
              "#ed7953"
             ],
             [
              0.7777777777777778,
              "#fb9f3a"
             ],
             [
              0.8888888888888888,
              "#fdca26"
             ],
             [
              1,
              "#f0f921"
             ]
            ],
            "type": "surface"
           }
          ],
          "table": [
           {
            "cells": {
             "fill": {
              "color": "#EBF0F8"
             },
             "line": {
              "color": "white"
             }
            },
            "header": {
             "fill": {
              "color": "#C8D4E3"
             },
             "line": {
              "color": "white"
             }
            },
            "type": "table"
           }
          ]
         },
         "layout": {
          "annotationdefaults": {
           "arrowcolor": "#2a3f5f",
           "arrowhead": 0,
           "arrowwidth": 1
          },
          "coloraxis": {
           "colorbar": {
            "outlinewidth": 0,
            "ticks": ""
           }
          },
          "colorscale": {
           "diverging": [
            [
             0,
             "#8e0152"
            ],
            [
             0.1,
             "#c51b7d"
            ],
            [
             0.2,
             "#de77ae"
            ],
            [
             0.3,
             "#f1b6da"
            ],
            [
             0.4,
             "#fde0ef"
            ],
            [
             0.5,
             "#f7f7f7"
            ],
            [
             0.6,
             "#e6f5d0"
            ],
            [
             0.7,
             "#b8e186"
            ],
            [
             0.8,
             "#7fbc41"
            ],
            [
             0.9,
             "#4d9221"
            ],
            [
             1,
             "#276419"
            ]
           ],
           "sequential": [
            [
             0,
             "#0d0887"
            ],
            [
             0.1111111111111111,
             "#46039f"
            ],
            [
             0.2222222222222222,
             "#7201a8"
            ],
            [
             0.3333333333333333,
             "#9c179e"
            ],
            [
             0.4444444444444444,
             "#bd3786"
            ],
            [
             0.5555555555555556,
             "#d8576b"
            ],
            [
             0.6666666666666666,
             "#ed7953"
            ],
            [
             0.7777777777777778,
             "#fb9f3a"
            ],
            [
             0.8888888888888888,
             "#fdca26"
            ],
            [
             1,
             "#f0f921"
            ]
           ],
           "sequentialminus": [
            [
             0,
             "#0d0887"
            ],
            [
             0.1111111111111111,
             "#46039f"
            ],
            [
             0.2222222222222222,
             "#7201a8"
            ],
            [
             0.3333333333333333,
             "#9c179e"
            ],
            [
             0.4444444444444444,
             "#bd3786"
            ],
            [
             0.5555555555555556,
             "#d8576b"
            ],
            [
             0.6666666666666666,
             "#ed7953"
            ],
            [
             0.7777777777777778,
             "#fb9f3a"
            ],
            [
             0.8888888888888888,
             "#fdca26"
            ],
            [
             1,
             "#f0f921"
            ]
           ]
          },
          "colorway": [
           "#1f77b4",
           "#ff7f0e",
           "#2ca02c",
           "#dc3912",
           "#9467bd",
           "#8c564b",
           "#e377c2",
           "#7f7f7f",
           "#bcbd22",
           "#17becf"
          ],
          "font": {
           "color": "#2a3f5f"
          },
          "geo": {
           "bgcolor": "white",
           "lakecolor": "white",
           "landcolor": "#E5ECF6",
           "showlakes": true,
           "showland": true,
           "subunitcolor": "white"
          },
          "hoverlabel": {
           "align": "left"
          },
          "hovermode": "closest",
          "mapbox": {
           "style": "light"
          },
          "paper_bgcolor": "white",
          "plot_bgcolor": "#E5ECF6",
          "polar": {
           "angularaxis": {
            "gridcolor": "white",
            "linecolor": "white",
            "ticks": ""
           },
           "bgcolor": "#E5ECF6",
           "radialaxis": {
            "gridcolor": "white",
            "linecolor": "white",
            "ticks": ""
           }
          },
          "scene": {
           "xaxis": {
            "backgroundcolor": "#E5ECF6",
            "gridcolor": "white",
            "gridwidth": 2,
            "linecolor": "white",
            "showbackground": true,
            "ticks": "",
            "zerolinecolor": "white"
           },
           "yaxis": {
            "backgroundcolor": "#E5ECF6",
            "gridcolor": "white",
            "gridwidth": 2,
            "linecolor": "white",
            "showbackground": true,
            "ticks": "",
            "zerolinecolor": "white"
           },
           "zaxis": {
            "backgroundcolor": "#E5ECF6",
            "gridcolor": "white",
            "gridwidth": 2,
            "linecolor": "white",
            "showbackground": true,
            "ticks": "",
            "zerolinecolor": "white"
           }
          },
          "shapedefaults": {
           "line": {
            "color": "#2a3f5f"
           }
          },
          "ternary": {
           "aaxis": {
            "gridcolor": "white",
            "linecolor": "white",
            "ticks": ""
           },
           "baxis": {
            "gridcolor": "white",
            "linecolor": "white",
            "ticks": ""
           },
           "bgcolor": "#E5ECF6",
           "caxis": {
            "gridcolor": "white",
            "linecolor": "white",
            "ticks": ""
           }
          },
          "title": {
           "x": 0.05
          },
          "xaxis": {
           "automargin": true,
           "gridcolor": "white",
           "linecolor": "white",
           "ticks": "",
           "title": {
            "standoff": 15
           },
           "zerolinecolor": "white",
           "zerolinewidth": 2
          },
          "yaxis": {
           "automargin": true,
           "gridcolor": "white",
           "linecolor": "white",
           "ticks": "",
           "title": {
            "standoff": 15
           },
           "zerolinecolor": "white",
           "zerolinewidth": 2
          }
         }
        },
        "width": 750,
        "xaxis": {
         "anchor": "y",
         "domain": [
          0,
          1
         ],
         "matches": "x3",
         "showticklabels": false
        },
        "xaxis2": {
         "anchor": "y2",
         "domain": [
          0,
          1
         ],
         "matches": "x3",
         "showticklabels": false
        },
        "xaxis3": {
         "anchor": "y3",
         "domain": [
          0,
          1
         ],
         "title": {
          "text": "Date"
         }
        },
        "yaxis": {
         "anchor": "x",
         "domain": [
          0.6944444444444444,
          1
         ],
         "title": {
          "text": "Price"
         }
        },
        "yaxis2": {
         "anchor": "x2",
         "domain": [
          0.3472222222222222,
          0.6527777777777777
         ],
         "tickformat": ".2%",
         "title": {
          "text": "Trade returns"
         }
        },
        "yaxis3": {
         "anchor": "x3",
         "domain": [
          0,
          0.3055555555555555
         ],
         "title": {
          "text": "Cumulative returns"
         }
        }
       }
      }
     },
     "metadata": {},
     "output_type": "display_data"
    }
   ],
   "source": [
    "port_og.plot().show()"
   ]
  },
  {
   "cell_type": "code",
   "execution_count": 74,
   "metadata": {},
   "outputs": [
    {
     "data": {
      "text/plain": [
       "Start                         2021-02-23 07:00:00\n",
       "End                           2022-02-05 07:00:00\n",
       "Period                           16 days 00:00:00\n",
       "Start Value                                 100.0\n",
       "End Value                              237.220478\n",
       "Total Return [%]                       137.220478\n",
       "Benchmark Return [%]                    90.940493\n",
       "Max Gross Exposure [%]                      100.0\n",
       "Total Fees Paid                          5.977201\n",
       "Max Drawdown [%]                         16.98558\n",
       "Max Drawdown Duration             6 days 00:00:00\n",
       "Total Trades                                    8\n",
       "Total Closed Trades                             7\n",
       "Total Open Trades                               1\n",
       "Open Trade P&L                          -1.782119\n",
       "Win Rate [%]                            42.857143\n",
       "Best Trade [%]                          80.858741\n",
       "Worst Trade [%]                        -11.488662\n",
       "Avg Winning Trade [%]                   52.423915\n",
       "Avg Losing Trade [%]                    -8.684166\n",
       "Avg Winning Trade Duration        1 days 00:00:00\n",
       "Avg Losing Trade Duration         1 days 00:00:00\n",
       "Profit Factor                            3.808395\n",
       "Expectancy                              19.857514\n",
       "Sharpe Ratio                             5.896573\n",
       "Calmar Ratio                    2128524587.308035\n",
       "Omega Ratio                              4.233156\n",
       "Sortino Ratio                           34.991265\n",
       "dtype: object"
      ]
     },
     "execution_count": 74,
     "metadata": {},
     "output_type": "execute_result"
    }
   ],
   "source": [
    "port_og.stats()"
   ]
  },
  {
   "cell_type": "code",
   "execution_count": null,
   "metadata": {},
   "outputs": [],
   "source": []
  }
 ],
 "metadata": {
  "interpreter": {
   "hash": "97ae724bfa85b9b34df7982b8bb8c7216f435b92902d749e4263f71162bea840"
  },
  "kernelspec": {
   "display_name": "Python 3.8.10 64-bit ('base': conda)",
   "language": "python",
   "name": "python3"
  },
  "language_info": {
   "codemirror_mode": {
    "name": "ipython",
    "version": 3
   },
   "file_extension": ".py",
   "mimetype": "text/x-python",
   "name": "python",
   "nbconvert_exporter": "python",
   "pygments_lexer": "ipython3",
   "version": "3.8.10"
  },
  "orig_nbformat": 4
 },
 "nbformat": 4,
 "nbformat_minor": 2
}
