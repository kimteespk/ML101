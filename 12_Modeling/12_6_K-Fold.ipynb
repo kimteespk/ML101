{
 "cells": [
  {
   "cell_type": "markdown",
   "metadata": {},
   "source": [
    "# K-Fold"
   ]
  },
  {
   "cell_type": "markdown",
   "metadata": {},
   "source": [
    "เป็นการทำ Cross Validation ไม่ใช่เพื่อหา model ที่ดีที่สุด แต่เป็นการทำเพื่อดูความ generalize ของมัน ว่าหากไปเจอ Data ที่ไม่เคยเจอมาก่อน มันจะ perform ได้ดีแค่ไหน    \n",
    "\n",
    "ระดับ Basic คือการ startify K-Fold คือการแบ่งข้อมูลเป็นเซ็ต เท่าๆกัน"
   ]
  },
  {
   "cell_type": "code",
   "execution_count": 10,
   "metadata": {},
   "outputs": [],
   "source": [
    "from sklearn.model_selection import KFold\n",
    "import yfinance as yf\n",
    "import pandas as pd\n",
    "import numpy as np"
   ]
  },
  {
   "cell_type": "code",
   "execution_count": 8,
   "metadata": {},
   "outputs": [],
   "source": [
    "kfold = KFold(3, shuffle= True, random_state= 42) # random_state คือpattern การ shuffle เราจะได้เรียกข้อมูลที่มันสลับ มาให้ได้เป็นแบบเดิมได้\n",
    "# argument แรก คือcv ว่าจะแบ่งเป็นกี่ส่วน"
   ]
  },
  {
   "cell_type": "code",
   "execution_count": 9,
   "metadata": {},
   "outputs": [
    {
     "data": {
      "text/plain": [
       "KFold(n_splits=3, random_state=42, shuffle=True)"
      ]
     },
     "execution_count": 9,
     "metadata": {},
     "output_type": "execute_result"
    }
   ],
   "source": [
    "kfold"
   ]
  },
  {
   "cell_type": "code",
   "execution_count": 11,
   "metadata": {},
   "outputs": [],
   "source": [
    "start = '2017-01-01'\n",
    "end = '2021-11-01'"
   ]
  },
  {
   "cell_type": "code",
   "execution_count": 12,
   "metadata": {},
   "outputs": [
    {
     "name": "stdout",
     "output_type": "stream",
     "text": [
      "[*********************100%***********************]  5 of 5 completed\n"
     ]
    }
   ],
   "source": [
    "data = yf.download('CL=F PTTEP.BK GPSC.BK PTTGC.BK PTT.BK', start= start, end= end)"
   ]
  },
  {
   "cell_type": "code",
   "execution_count": 15,
   "metadata": {},
   "outputs": [],
   "source": [
    "df = data['Adj Close']"
   ]
  },
  {
   "cell_type": "code",
   "execution_count": 17,
   "metadata": {},
   "outputs": [],
   "source": [
    "df = df.pct_change()"
   ]
  },
  {
   "cell_type": "code",
   "execution_count": 24,
   "metadata": {},
   "outputs": [],
   "source": [
    "df = df.dropna()"
   ]
  },
  {
   "cell_type": "code",
   "execution_count": 25,
   "metadata": {},
   "outputs": [],
   "source": [
    "df = df[['CL=F', 'GPSC.BK', 'PTTEP.BK', 'PTTGC.BK', 'PTT.BK']]\n",
    "# จัดเรียง Cols ใหม่ ให้ PTT.BK เป็นy (y จะเป็น col สุดท้าย และทั้งหมดก่อนหน้าจะเป็น x)"
   ]
  },
  {
   "cell_type": "code",
   "execution_count": 26,
   "metadata": {},
   "outputs": [
    {
     "data": {
      "text/html": [
       "<div>\n",
       "<style scoped>\n",
       "    .dataframe tbody tr th:only-of-type {\n",
       "        vertical-align: middle;\n",
       "    }\n",
       "\n",
       "    .dataframe tbody tr th {\n",
       "        vertical-align: top;\n",
       "    }\n",
       "\n",
       "    .dataframe thead th {\n",
       "        text-align: right;\n",
       "    }\n",
       "</style>\n",
       "<table border=\"1\" class=\"dataframe\">\n",
       "  <thead>\n",
       "    <tr style=\"text-align: right;\">\n",
       "      <th></th>\n",
       "      <th>CL=F</th>\n",
       "      <th>GPSC.BK</th>\n",
       "      <th>PTTEP.BK</th>\n",
       "      <th>PTTGC.BK</th>\n",
       "      <th>PTT.BK</th>\n",
       "    </tr>\n",
       "    <tr>\n",
       "      <th>Date</th>\n",
       "      <th></th>\n",
       "      <th></th>\n",
       "      <th></th>\n",
       "      <th></th>\n",
       "      <th></th>\n",
       "    </tr>\n",
       "  </thead>\n",
       "  <tbody>\n",
       "    <tr>\n",
       "      <th>2017-01-05</th>\n",
       "      <td>0.009388</td>\n",
       "      <td>-0.020270</td>\n",
       "      <td>-0.005076</td>\n",
       "      <td>0.003906</td>\n",
       "      <td>0.018421</td>\n",
       "    </tr>\n",
       "    <tr>\n",
       "      <th>2017-01-06</th>\n",
       "      <td>0.004278</td>\n",
       "      <td>0.000000</td>\n",
       "      <td>0.005102</td>\n",
       "      <td>-0.003891</td>\n",
       "      <td>0.005168</td>\n",
       "    </tr>\n",
       "    <tr>\n",
       "      <th>2017-01-09</th>\n",
       "      <td>-0.037600</td>\n",
       "      <td>0.000000</td>\n",
       "      <td>-0.007614</td>\n",
       "      <td>-0.011719</td>\n",
       "      <td>-0.015424</td>\n",
       "    </tr>\n",
       "    <tr>\n",
       "      <th>2017-01-10</th>\n",
       "      <td>-0.021940</td>\n",
       "      <td>0.006897</td>\n",
       "      <td>-0.017903</td>\n",
       "      <td>0.003953</td>\n",
       "      <td>0.013055</td>\n",
       "    </tr>\n",
       "    <tr>\n",
       "      <th>2017-01-11</th>\n",
       "      <td>0.028139</td>\n",
       "      <td>0.006849</td>\n",
       "      <td>0.005208</td>\n",
       "      <td>-0.003937</td>\n",
       "      <td>-0.007732</td>\n",
       "    </tr>\n",
       "    <tr>\n",
       "      <th>...</th>\n",
       "      <td>...</td>\n",
       "      <td>...</td>\n",
       "      <td>...</td>\n",
       "      <td>...</td>\n",
       "      <td>...</td>\n",
       "    </tr>\n",
       "    <tr>\n",
       "      <th>2021-10-25</th>\n",
       "      <td>0.000000</td>\n",
       "      <td>-0.003247</td>\n",
       "      <td>-0.023904</td>\n",
       "      <td>-0.011364</td>\n",
       "      <td>-0.012500</td>\n",
       "    </tr>\n",
       "    <tr>\n",
       "      <th>2021-10-26</th>\n",
       "      <td>0.010626</td>\n",
       "      <td>0.013029</td>\n",
       "      <td>0.012245</td>\n",
       "      <td>-0.003831</td>\n",
       "      <td>-0.006329</td>\n",
       "    </tr>\n",
       "    <tr>\n",
       "      <th>2021-10-27</th>\n",
       "      <td>-0.023509</td>\n",
       "      <td>-0.003215</td>\n",
       "      <td>-0.020161</td>\n",
       "      <td>-0.019231</td>\n",
       "      <td>-0.012739</td>\n",
       "    </tr>\n",
       "    <tr>\n",
       "      <th>2021-10-28</th>\n",
       "      <td>0.001815</td>\n",
       "      <td>0.009677</td>\n",
       "      <td>-0.024691</td>\n",
       "      <td>-0.023529</td>\n",
       "      <td>-0.012903</td>\n",
       "    </tr>\n",
       "    <tr>\n",
       "      <th>2021-10-29</th>\n",
       "      <td>0.009178</td>\n",
       "      <td>-0.003195</td>\n",
       "      <td>-0.008439</td>\n",
       "      <td>0.008032</td>\n",
       "      <td>-0.006536</td>\n",
       "    </tr>\n",
       "  </tbody>\n",
       "</table>\n",
       "<p>1250 rows × 5 columns</p>\n",
       "</div>"
      ],
      "text/plain": [
       "                CL=F   GPSC.BK  PTTEP.BK  PTTGC.BK    PTT.BK\n",
       "Date                                                        \n",
       "2017-01-05  0.009388 -0.020270 -0.005076  0.003906  0.018421\n",
       "2017-01-06  0.004278  0.000000  0.005102 -0.003891  0.005168\n",
       "2017-01-09 -0.037600  0.000000 -0.007614 -0.011719 -0.015424\n",
       "2017-01-10 -0.021940  0.006897 -0.017903  0.003953  0.013055\n",
       "2017-01-11  0.028139  0.006849  0.005208 -0.003937 -0.007732\n",
       "...              ...       ...       ...       ...       ...\n",
       "2021-10-25  0.000000 -0.003247 -0.023904 -0.011364 -0.012500\n",
       "2021-10-26  0.010626  0.013029  0.012245 -0.003831 -0.006329\n",
       "2021-10-27 -0.023509 -0.003215 -0.020161 -0.019231 -0.012739\n",
       "2021-10-28  0.001815  0.009677 -0.024691 -0.023529 -0.012903\n",
       "2021-10-29  0.009178 -0.003195 -0.008439  0.008032 -0.006536\n",
       "\n",
       "[1250 rows x 5 columns]"
      ]
     },
     "execution_count": 26,
     "metadata": {},
     "output_type": "execute_result"
    }
   ],
   "source": [
    "df"
   ]
  },
  {
   "cell_type": "code",
   "execution_count": 28,
   "metadata": {},
   "outputs": [],
   "source": [
    "X = df.iloc[:,:-1]\n",
    "y = df.iloc[:, -1]"
   ]
  },
  {
   "cell_type": "code",
   "execution_count": 29,
   "metadata": {},
   "outputs": [
    {
     "name": "stdout",
     "output_type": "stream",
     "text": [
      "train: Date\n",
      "2017-01-05    0.018421\n",
      "2017-01-06    0.005168\n",
      "2017-01-11   -0.007732\n",
      "2017-01-16    0.015666\n",
      "2017-01-17   -0.005142\n",
      "                ...   \n",
      "2021-10-25   -0.012500\n",
      "2021-10-26   -0.006329\n",
      "2021-10-27   -0.012739\n",
      "2021-10-28   -0.012903\n",
      "2021-10-29   -0.006536\n",
      "Name: PTT.BK, Length: 833, dtype: float64, test: Date\n",
      "2017-01-09   -0.015424\n",
      "2017-01-10    0.013055\n",
      "2017-01-12   -0.005195\n",
      "2017-01-13    0.000000\n",
      "2017-01-19    0.000000\n",
      "                ...   \n",
      "2021-10-11    0.006289\n",
      "2021-10-13    0.000000\n",
      "2021-10-15   -0.006329\n",
      "2021-10-18    0.019108\n",
      "2021-10-19   -0.012500\n",
      "Name: PTT.BK, Length: 417, dtype: float64\n",
      "train: Date\n",
      "2017-01-06    0.005168\n",
      "2017-01-09   -0.015424\n",
      "2017-01-10    0.013055\n",
      "2017-01-11   -0.007732\n",
      "2017-01-12   -0.005195\n",
      "                ...   \n",
      "2021-10-19   -0.012500\n",
      "2021-10-20    0.000000\n",
      "2021-10-25   -0.012500\n",
      "2021-10-27   -0.012739\n",
      "2021-10-29   -0.006536\n",
      "Name: PTT.BK, Length: 833, dtype: float64, test: Date\n",
      "2017-01-05    0.018421\n",
      "2017-01-16    0.015666\n",
      "2017-01-18   -0.005168\n",
      "2017-01-20    0.002597\n",
      "2017-01-26    0.024390\n",
      "                ...   \n",
      "2021-10-12    0.000000\n",
      "2021-10-21    0.012658\n",
      "2021-10-22    0.000000\n",
      "2021-10-26   -0.006329\n",
      "2021-10-28   -0.012903\n",
      "Name: PTT.BK, Length: 417, dtype: float64\n",
      "train: Date\n",
      "2017-01-05    0.018421\n",
      "2017-01-09   -0.015424\n",
      "2017-01-10    0.013055\n",
      "2017-01-12   -0.005195\n",
      "2017-01-13    0.000000\n",
      "                ...   \n",
      "2021-10-19   -0.012500\n",
      "2021-10-21    0.012658\n",
      "2021-10-22    0.000000\n",
      "2021-10-26   -0.006329\n",
      "2021-10-28   -0.012903\n",
      "Name: PTT.BK, Length: 834, dtype: float64, test: Date\n",
      "2017-01-06    0.005168\n",
      "2017-01-11   -0.007732\n",
      "2017-01-17   -0.005142\n",
      "2017-01-24    0.048843\n",
      "2017-01-25    0.004902\n",
      "                ...   \n",
      "2021-10-14   -0.012500\n",
      "2021-10-20    0.000000\n",
      "2021-10-25   -0.012500\n",
      "2021-10-27   -0.012739\n",
      "2021-10-29   -0.006536\n",
      "Name: PTT.BK, Length: 416, dtype: float64\n"
     ]
    }
   ],
   "source": [
    "for train, test in kfold.split(y):\n",
    "    print('train: %s, test: %s' % (y[train], y[test]))\n",
    "\n",
    "# data จะแยกมาใหเป็นจำนวนชุด ตามที่แบ่งไว้"
   ]
  },
  {
   "cell_type": "code",
   "execution_count": 40,
   "metadata": {},
   "outputs": [],
   "source": [
    "# prepared Train and Test data to LM and CV model \n",
    "from sklearn.model_selection import train_test_split\n",
    "X_train, X_test, y_train, y_test = train_test_split(X, y, test_size= 0.2, random_state= 12)"
   ]
  },
  {
   "cell_type": "code",
   "execution_count": 45,
   "metadata": {},
   "outputs": [
    {
     "data": {
      "text/plain": [
       "array([0.64227551, 0.59771834, 0.71074655])"
      ]
     },
     "execution_count": 45,
     "metadata": {},
     "output_type": "execute_result"
    }
   ],
   "source": [
    "##### ทำจริงใช้แบบนี้ แบบข้างบนๆ ไม่ได้ใช้ #####\n",
    "from sklearn.model_selection import cross_val_score\n",
    "from sklearn.linear_model import LinearRegression\n",
    "\n",
    "lm = LinearRegression()\n",
    "scores = cross_val_score(lm, X_train, y_train, scoring= 'r2', cv=kfold)\n",
    "scores\n",
    "# เอาเข้า model และ เทรนเทสเพื่อดู r2\n"
   ]
  },
  {
   "cell_type": "code",
   "execution_count": 50,
   "metadata": {},
   "outputs": [
    {
     "data": {
      "text/plain": [
       "array([-1.08611459e-04, -8.84662740e-05, -8.72668465e-05, -1.20725161e-04,\n",
       "       -1.00927304e-04])"
      ]
     },
     "execution_count": 50,
     "metadata": {},
     "output_type": "execute_result"
    }
   ],
   "source": [
    "scores_mse = cross_val_score(lm, X_train, y_train, scoring= 'neg_mean_squared_error')\n",
    "scores_mse"
   ]
  },
  {
   "cell_type": "code",
   "execution_count": 53,
   "metadata": {},
   "outputs": [
    {
     "name": "stdout",
     "output_type": "stream",
     "text": [
      "10.5 ms ± 425 µs per loop (mean ± std. dev. of 7 runs, 100 loops each)\n"
     ]
    }
   ],
   "source": [
    "%%timeit\n",
    "scores_mse = cross_val_score(lm, X_train, y_train, scoring= 'neg_mean_squared_error', n_jobs=-1) # n_job -1 คือใช้ทุก procressor\n",
    "scores_mse"
   ]
  },
  {
   "cell_type": "code",
   "execution_count": null,
   "metadata": {},
   "outputs": [],
   "source": []
  }
 ],
 "metadata": {
  "interpreter": {
   "hash": "97ae724bfa85b9b34df7982b8bb8c7216f435b92902d749e4263f71162bea840"
  },
  "kernelspec": {
   "display_name": "Python 3.8.10 64-bit ('base': conda)",
   "language": "python",
   "name": "python3"
  },
  "language_info": {
   "codemirror_mode": {
    "name": "ipython",
    "version": 3
   },
   "file_extension": ".py",
   "mimetype": "text/x-python",
   "name": "python",
   "nbconvert_exporter": "python",
   "pygments_lexer": "ipython3",
   "version": "3.8.10"
  },
  "orig_nbformat": 4
 },
 "nbformat": 4,
 "nbformat_minor": 2
}
